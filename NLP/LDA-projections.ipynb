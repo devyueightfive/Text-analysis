{
 "cells": [
  {
   "cell_type": "code",
   "execution_count": 28,
   "metadata": {
    "ExecuteTime": {
     "end_time": "2020-05-05T15:53:52.002183Z",
     "start_time": "2020-05-05T15:53:51.982173Z"
    },
    "code_folding": []
   },
   "outputs": [
    {
     "name": "stdout",
     "output_type": "stream",
     "text": [
      "Populating the interactive namespace from numpy and matplotlib\n"
     ]
    }
   ],
   "source": [
    "# Necesarry libs\n",
    "\n",
    "%pylab inline\n",
    "\n",
    "import pandas as pd\n",
    "\n",
    "# natural language toolkit\n",
    "import nltk\n",
    "from nltk.tokenize import word_tokenize\n",
    "\n",
    "# transformers/classifiers\n",
    "from sklearn.pipeline import Pipeline, make_pipeline, FeatureUnion\n",
    "from sklearn.linear_model import LogisticRegression , LogisticRegressionCV, PassiveAggressiveClassifier, SGDClassifier\n",
    "from sklearn.svm import LinearSVC, SVC\n",
    "from sklearn.naive_bayes import  ComplementNB\n",
    "from sklearn.ensemble import ExtraTreesClassifier, RandomForestClassifier, VotingClassifier\n",
    "\n",
    "#model selection\n",
    "from sklearn.model_selection import cross_val_score, GridSearchCV, train_test_split, RepeatedStratifiedKFold, StratifiedKFold\n",
    "from sklearn.metrics import accuracy_score, classification_report, confusion_matrix\n",
    "from sklearn.base import BaseEstimator, TransformerMixin\n",
    "\n",
    "# preprocessing\n",
    "from sklearn.feature_extraction.text import CountVectorizer, TfidfVectorizer, TfidfTransformer\n",
    "from sklearn.decomposition import TruncatedSVD\n",
    "from sklearn.preprocessing import MaxAbsScaler, Binarizer, StandardScaler, RobustScaler, MinMaxScaler\n",
    "from sklearn.feature_selection import SelectKBest, chi2, f_classif, VarianceThreshold, SelectFromModel, mutual_info_classif\n",
    "\n",
    "# metrics\n",
    "from sklearn.metrics import accuracy_score\n",
    "\n",
    "# plotting\n",
    "from sklearn.model_selection import learning_curve\n",
    "import seaborn as sns\n",
    "\n",
    "import string\n",
    "from pprint import pprint\n",
    "from tempfile import TemporaryDirectory"
   ]
  },
  {
   "cell_type": "code",
   "execution_count": 29,
   "metadata": {
    "ExecuteTime": {
     "end_time": "2020-05-05T15:53:52.028774Z",
     "start_time": "2020-05-05T15:53:52.004559Z"
    },
    "code_folding": []
   },
   "outputs": [
    {
     "name": "stdout",
     "output_type": "stream",
     "text": [
      "./simplesentiment/products_sentiment_train.tsv\n",
      "./simplesentiment/products_sentiment_sample_submission.csv\n",
      "./simplesentiment/products_sentiment_test.tsv\n"
     ]
    }
   ],
   "source": [
    "# Input data files are available in the \"../input/\" directory.\n",
    "# For example, running this (by clicking run or pressing Shift+Enter) will list all files under the input directory\n",
    "\n",
    "PATH_TO_DATA = './simplesentiment/'\n",
    "\n",
    "import os\n",
    "for dirname, _, filenames in os.walk(PATH_TO_DATA):\n",
    "    for filename in filenames:\n",
    "        print((os.path.join(dirname, filename)))"
   ]
  },
  {
   "cell_type": "code",
   "execution_count": 30,
   "metadata": {
    "ExecuteTime": {
     "end_time": "2020-05-05T15:53:52.043247Z",
     "start_time": "2020-05-05T15:53:52.030969Z"
    },
    "code_folding": []
   },
   "outputs": [],
   "source": [
    "# load data\n",
    "\n",
    "files = ['products_sentiment_train.tsv', 'products_sentiment_test.tsv']\n",
    "\n",
    "train =  pd.read_csv(PATH_TO_DATA+files[0], sep = '\\t', header = None, names = ['text', 'target'])\n",
    "\n",
    "# train, taget, test\n",
    "X = train.text\n",
    "y = train.target"
   ]
  },
  {
   "cell_type": "code",
   "execution_count": 31,
   "metadata": {
    "ExecuteTime": {
     "end_time": "2020-05-05T15:53:52.051569Z",
     "start_time": "2020-05-05T15:53:52.045420Z"
    },
    "code_folding": []
   },
   "outputs": [],
   "source": [
    "# vectorizer\n",
    "\n",
    "from nltk.tokenize.casual import casual_tokenize\n",
    "vectorizer = CountVectorizer(\n",
    "    ngram_range=(1, 1),\n",
    "    #     min_df = 2,\n",
    "    tokenizer=casual_tokenize,\n",
    "    stop_words=None,\n",
    "    #     max_df = 0.9,\n",
    "    binary=True)\n",
    "\n",
    "tfidf = TfidfTransformer(use_idf=True, sublinear_tf=False, smooth_idf=True)\n",
    "\n",
    "preprocessing = Pipeline(steps=[\n",
    "    ('v', vectorizer),\n",
    "    ('tf', tfidf),\n",
    "])"
   ]
  },
  {
   "cell_type": "code",
   "execution_count": 32,
   "metadata": {
    "ExecuteTime": {
     "end_time": "2020-05-05T15:53:52.058333Z",
     "start_time": "2020-05-05T15:53:52.053322Z"
    },
    "code_folding": []
   },
   "outputs": [],
   "source": [
    "# pos/neg centroids\n",
    "def get_class_diff_vector(train, target):\n",
    "    mask = (target == 1).values\n",
    "    pos = train[mask]\n",
    "    neg = train[~mask]\n",
    "    # pos/neg centroids\n",
    "    pos_centroid = pos.mean(axis=0)\n",
    "    neg_centroid = neg.mean(axis=0)\n",
    "    return pos_centroid - neg_centroid"
   ]
  },
  {
   "cell_type": "code",
   "execution_count": 33,
   "metadata": {
    "ExecuteTime": {
     "end_time": "2020-05-05T15:53:52.064880Z",
     "start_time": "2020-05-05T15:53:52.060429Z"
    },
    "code_folding": []
   },
   "outputs": [],
   "source": [
    "# scores to classes\n",
    "def get_scores(train, target, pos_direction):\n",
    "    score = train.dot(pos_direction.T)\n",
    "    # scale score to [0..1]\n",
    "    lda_score = RobustScaler().fit_transform(score)\n",
    "    # sigmoid score\n",
    "    return 1.0/(1.0 + np.exp(-lda_score))\n",
    "#     return lda_score"
   ]
  },
  {
   "cell_type": "code",
   "execution_count": 34,
   "metadata": {
    "ExecuteTime": {
     "end_time": "2020-05-05T15:53:52.072154Z",
     "start_time": "2020-05-05T15:53:52.066722Z"
    }
   },
   "outputs": [],
   "source": [
    "# split data\n",
    "def split_data(X, y, rs):\n",
    "    test_portion = 0.40\n",
    "    return train_test_split(X,\n",
    "                            y,\n",
    "                            test_size=test_portion,\n",
    "                            random_state=int(rs),\n",
    "                            shuffle=True,\n",
    "                            stratify=y)\n",
    "\n",
    "# data transformation\n",
    "def transform_data(train, validation):\n",
    "    vectorizer.fit(train)\n",
    "    return vectorizer.transform(train), vectorizer.transform(validation)"
   ]
  },
  {
   "cell_type": "code",
   "execution_count": 35,
   "metadata": {
    "ExecuteTime": {
     "end_time": "2020-05-05T15:53:52.082565Z",
     "start_time": "2020-05-05T15:53:52.074773Z"
    }
   },
   "outputs": [],
   "source": [
    "# train score\n",
    "def get_lda_param(X, y, rs):\n",
    "    X_train, X_val, y_train, y_val = split_data(X, y, rs)\n",
    "    Xt_train, Xt_val = transform_data(X_train, X_val)\n",
    "    \n",
    "    pos_direction = get_class_diff_vector(Xt_train, y_train)\n",
    "    \n",
    "    lda_score = get_scores(Xt_val, y_val, pos_direction).T[0]\n",
    "    target = y_val.values\n",
    "\n",
    "    ts = np.linspace(0.0, 1.0, 1001)\n",
    "    accuracies = []\n",
    "    for t in ts:\n",
    "        lda_predict = (lda_score > t).astype(int)\n",
    "        accuracies.append(accuracy_score(target, lda_predict))\n",
    "    \n",
    "    return np.max(accuracies), ts[np.argmax(accuracies)]"
   ]
  },
  {
   "cell_type": "code",
   "execution_count": 36,
   "metadata": {
    "ExecuteTime": {
     "end_time": "2020-05-05T15:54:34.427524Z",
     "start_time": "2020-05-05T15:53:52.085503Z"
    }
   },
   "outputs": [
    {
     "name": "stdout",
     "output_type": "stream",
     "text": [
      "CPU times: user 42.3 s, sys: 3.83 ms, total: 42.3 s\n",
      "Wall time: 42.3 s\n"
     ]
    }
   ],
   "source": [
    "%%time\n",
    "\n",
    "import warnings\n",
    "warnings.filterwarnings(\"ignore\")\n",
    "\n",
    "results = []\n",
    "rss = np.linspace(1,100, 100).astype(int)\n",
    "for rs in rss:\n",
    "    X_train, X_val, y_train, y_val = split_data(X, y, rs)\n",
    "    train_score, t  = get_lda_param(X_train, y_train, rs)\n",
    "    results.append((train_score, t, rs))"
   ]
  },
  {
   "cell_type": "code",
   "execution_count": 37,
   "metadata": {
    "ExecuteTime": {
     "end_time": "2020-05-05T15:54:34.602046Z",
     "start_time": "2020-05-05T15:54:34.429692Z"
    }
   },
   "outputs": [
    {
     "data": {
      "text/plain": [
       "[<matplotlib.lines.Line2D at 0x7fea14e64f10>]"
      ]
     },
     "execution_count": 37,
     "metadata": {},
     "output_type": "execute_result"
    },
    {
     "data": {
      "image/png": "[encoded data removed]",
      "text/plain": [
       "<Figure size 432x288 with 1 Axes>"
      ]
     },
     "metadata": {
      "needs_background": "light"
     },
     "output_type": "display_data"
    }
   ],
   "source": [
    "train_scores, ts  = [x[0] for x in results], [x[1] for x in results]\n",
    "plt.plot(rss, train_scores)\n",
    "plt.plot(rss, ts)"
   ]
  },
  {
   "cell_type": "code",
   "execution_count": 38,
   "metadata": {
    "ExecuteTime": {
     "end_time": "2020-05-05T15:54:34.612002Z",
     "start_time": "2020-05-05T15:54:34.604921Z"
    }
   },
   "outputs": [
    {
     "data": {
      "text/plain": [
       "(0.7173750000000001, 0.01902625196639866, 0.39, 0.029903237282943133)"
      ]
     },
     "execution_count": 38,
     "metadata": {},
     "output_type": "execute_result"
    }
   ],
   "source": [
    "np.mean(train_scores), np.std(train_scores), np.median(ts), np.std(ts)"
   ]
  },
  {
   "cell_type": "code",
   "execution_count": 39,
   "metadata": {
    "ExecuteTime": {
     "end_time": "2020-05-05T15:54:34.619731Z",
     "start_time": "2020-05-05T15:54:34.613645Z"
    }
   },
   "outputs": [],
   "source": [
    "def accuracy_lda(X, y, vector, t0):\n",
    "    lda_score = get_scores(X, y, vector).T[0]\n",
    "    predictions = (lda_score > t0).astype(int)\n",
    "    return accuracy_score(y, predictions)"
   ]
  },
  {
   "cell_type": "code",
   "execution_count": 40,
   "metadata": {
    "ExecuteTime": {
     "end_time": "2020-05-05T15:54:35.047059Z",
     "start_time": "2020-05-05T15:54:34.624548Z"
    }
   },
   "outputs": [
    {
     "name": "stdout",
     "output_type": "stream",
     "text": [
      "0.73125\n"
     ]
    }
   ],
   "source": [
    "random_number = 11\n",
    "X_train, X_val, y_train, y_val = split_data(X, y, random_number)\n",
    "Xt_train, Xt_val = transform_data(X_train, X_val)\n",
    "\n",
    "\n",
    "pos_direction = get_class_diff_vector(Xt_train, y_train)\n",
    "\n",
    "# train score\n",
    "print(accuracy_lda(Xt_val, y_val, pos_direction, t0=0.4))"
   ]
  },
  {
   "cell_type": "code",
   "execution_count": 41,
   "metadata": {
    "ExecuteTime": {
     "end_time": "2020-05-05T15:54:35.319106Z",
     "start_time": "2020-05-05T15:54:35.049544Z"
    }
   },
   "outputs": [
    {
     "name": "stdout",
     "output_type": "stream",
     "text": [
      "0.752\n"
     ]
    }
   ],
   "source": [
    "Xt = vectorizer.fit_transform(X)\n",
    "pos_direction = get_class_diff_vector(Xt, y)\n",
    "print(accuracy_lda(Xt, y, pos_direction, t0 = 0.4))"
   ]
  },
  {
   "cell_type": "code",
   "execution_count": null,
   "metadata": {},
   "outputs": [],
   "source": []
  }
 ],
 "metadata": {
  "kernelspec": {
   "display_name": "Python 3",
   "language": "python",
   "name": "python3"
  },
  "language_info": {
   "codemirror_mode": {
    "name": "ipython",
    "version": 3
   },
   "file_extension": ".py",
   "mimetype": "text/x-python",
   "name": "python",
   "nbconvert_exporter": "python",
   "pygments_lexer": "ipython3",
   "version": "3.7.7"
  },
  "toc": {
   "base_numbering": 1,
   "nav_menu": {},
   "number_sections": true,
   "sideBar": true,
   "skip_h1_title": false,
   "title_cell": "Table of Contents",
   "title_sidebar": "Contents",
   "toc_cell": false,
   "toc_position": {},
   "toc_section_display": true,
   "toc_window_display": false
  }
 },
 "nbformat": 4,
 "nbformat_minor": 4
}
