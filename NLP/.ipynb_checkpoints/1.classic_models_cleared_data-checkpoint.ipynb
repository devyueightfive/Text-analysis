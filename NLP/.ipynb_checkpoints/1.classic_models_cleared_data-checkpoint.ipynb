{
 "cells": [
  {
   "cell_type": "code",
   "execution_count": 1,
   "metadata": {
    "ExecuteTime": {
     "end_time": "2020-07-03T00:38:02.970307Z",
     "start_time": "2020-07-03T00:38:00.478902Z"
    }
   },
   "outputs": [],
   "source": [
    "from text_clearance import clean_and_fix, fix, clean_text\n",
    "\n",
    "from sklearn.model_selection import cross_val_score\n",
    "from sklearn.pipeline import Pipeline, FeatureUnion\n",
    "from imblearn.pipeline import Pipeline as pipeline_imb\n",
    "from imblearn.over_sampling import RandomOverSampler\n",
    "from sklearn.model_selection import train_test_split\n",
    "import numpy as np\n",
    "from some_funcs import checking\n",
    "from sklearn.metrics import classification_report"
   ]
  },
  {
   "cell_type": "code",
   "execution_count": 2,
   "metadata": {
    "ExecuteTime": {
     "end_time": "2020-07-03T00:38:02.990985Z",
     "start_time": "2020-07-03T00:38:02.972980Z"
    }
   },
   "outputs": [],
   "source": [
    "import pandas as pd\n",
    "\n",
    "# load data\n",
    "PATH_TO_DATA = './simplesentiment/'\n",
    "files = ['products_sentiment_train.tsv', 'products_sentiment_test.tsv']\n",
    "train =  pd.read_csv(PATH_TO_DATA+files[0], sep = '\\t', header = None, names = ['text', 'target'])\n",
    "# train, taget, test\n",
    "data_samples = train.text.values\n",
    "y = train.target\n",
    "test = pd.read_csv(PATH_TO_DATA+files[1], sep = '\\t')\n",
    "test_samples = test.text.values"
   ]
  },
  {
   "cell_type": "code",
   "execution_count": 3,
   "metadata": {
    "ExecuteTime": {
     "end_time": "2020-07-03T00:38:12.963071Z",
     "start_time": "2020-07-03T00:38:02.993310Z"
    }
   },
   "outputs": [],
   "source": [
    "data_samples_cleared = clean_and_fix(data_samples)"
   ]
  },
  {
   "cell_type": "code",
   "execution_count": 4,
   "metadata": {
    "ExecuteTime": {
     "end_time": "2020-07-03T00:38:12.978094Z",
     "start_time": "2020-07-03T00:38:12.965515Z"
    }
   },
   "outputs": [],
   "source": [
    "# split data to train/validation sets\n",
    "r_seed = 22\n",
    "X_train, X_val, y_train, y_val = train_test_split(\n",
    "    data_samples_cleared, y, train_size=0.8, random_state=r_seed)"
   ]
  },
  {
   "cell_type": "code",
   "execution_count": 5,
   "metadata": {
    "ExecuteTime": {
     "end_time": "2020-07-03T00:38:12.990018Z",
     "start_time": "2020-07-03T00:38:12.980343Z"
    }
   },
   "outputs": [],
   "source": [
    "# feature extraction\n",
    "from sklearn.feature_extraction.text import TfidfVectorizer, CountVectorizer, TfidfTransformer\n",
    "from nltk.tokenize import word_tokenize\n",
    "\n",
    "# data transformer - vectorizer\n",
    "bow_vectorizer = CountVectorizer(\n",
    "    ngram_range=(1, 3),\n",
    "    min_df=1,\n",
    "    tokenizer=word_tokenize,\n",
    "    analyzer='word',\n",
    ")\n",
    "\n",
    "tf_vectorizer = TfidfVectorizer(\n",
    "    ngram_range=(1, 3),\n",
    "    min_df=1,\n",
    "    tokenizer=word_tokenize,\n",
    "    analyzer='word',\n",
    ")\n",
    "\n",
    "char_bow_vectorizer = CountVectorizer(\n",
    "    ngram_range=(3, 5),\n",
    "    min_df=1,\n",
    "    tokenizer=word_tokenize,\n",
    "    analyzer='char',\n",
    ")\n",
    "\n",
    "char_tf_vectorizer = TfidfVectorizer(\n",
    "    ngram_range=(3, 5),\n",
    "    min_df=1,\n",
    "    tokenizer=word_tokenize,\n",
    "    analyzer='char',\n",
    ")"
   ]
  },
  {
   "cell_type": "code",
   "execution_count": 6,
   "metadata": {
    "ExecuteTime": {
     "end_time": "2020-07-03T00:38:13.000634Z",
     "start_time": "2020-07-03T00:38:12.992639Z"
    }
   },
   "outputs": [],
   "source": [
    "from sklearn.metrics import accuracy_score, f1_score, roc_auc_score\n",
    "from sklearn.ensemble import VotingClassifier\n",
    "\n",
    "import numpy as np\n",
    "from some_funcs import checking\n",
    "from sklearn.naive_bayes import ComplementNB\n",
    "from sklearn.linear_model import LogisticRegression\n",
    "from sklearn.svm import SVC\n",
    "from sklearn.ensemble import ExtraTreesClassifier"
   ]
  },
  {
   "cell_type": "code",
   "execution_count": 7,
   "metadata": {
    "ExecuteTime": {
     "end_time": "2020-07-03T00:38:13.008818Z",
     "start_time": "2020-07-03T00:38:13.004098Z"
    }
   },
   "outputs": [],
   "source": [
    "nb = ComplementNB(alpha=0.4)\n",
    "logit = LogisticRegression(penalty='l2', C=1.0)\n",
    "svm = SVC(C=1.0, kernel='rbf', probability=True)\n",
    "dtree = ExtraTreesClassifier(random_state=0, n_jobs=-1)"
   ]
  },
  {
   "cell_type": "markdown",
   "metadata": {},
   "source": [
    "# BOW - word"
   ]
  },
  {
   "cell_type": "markdown",
   "metadata": {},
   "source": [
    "### Naive Bayes"
   ]
  },
  {
   "cell_type": "code",
   "execution_count": 8,
   "metadata": {
    "ExecuteTime": {
     "end_time": "2020-07-03T00:38:22.805098Z",
     "start_time": "2020-07-03T00:38:13.011093Z"
    }
   },
   "outputs": [
    {
     "name": "stdout",
     "output_type": "stream",
     "text": [
      "ComplementNB(alpha=0.4, class_prior=None, fit_prior=True, norm=False) with BOW model F1 score:\n",
      "([0.835, 0.8469, 0.8516, 0.8311, 0.8411], 0.8411, 0.0075)\n",
      "ComplementNB(alpha=0.4, class_prior=None, fit_prior=True, norm=False) with BOW model ACCURACY score:\n",
      "([0.7875, 0.7975, 0.8075, 0.7825, 0.795], 0.794, 0.0086)\n",
      "ComplementNB(alpha=0.4, class_prior=None, fit_prior=True, norm=False) with BOW model ROC_AUC score:\n",
      "([0.8535, 0.8696, 0.8648, 0.8516, 0.8553], 0.859, 0.007)\n",
      "\n"
     ]
    }
   ],
   "source": [
    "pipe_bow = pipeline_imb(steps=[\n",
    "    ('bow', bow_vectorizer), \n",
    "    (\"balance\", RandomOverSampler(random_state=0)), \n",
    "    ('cls', nb)\n",
    "])\n",
    "checking(pipe_bow,\n",
    "         data_samples_cleared,\n",
    "         y,\n",
    "         10,\n",
    "         n_jobs=-1,\n",
    "         cv=5,\n",
    "         data_model_name=\"BOW\")"
   ]
  },
  {
   "cell_type": "code",
   "execution_count": 9,
   "metadata": {
    "ExecuteTime": {
     "end_time": "2020-07-03T00:38:23.511151Z",
     "start_time": "2020-07-03T00:38:22.808848Z"
    }
   },
   "outputs": [
    {
     "name": "stdout",
     "output_type": "stream",
     "text": [
      "              precision    recall  f1-score   support\n",
      "\n",
      "           0       0.71      0.63      0.67       141\n",
      "           1       0.81      0.86      0.83       259\n",
      "\n",
      "    accuracy                           0.78       400\n",
      "   macro avg       0.76      0.74      0.75       400\n",
      "weighted avg       0.77      0.78      0.77       400\n",
      "\n"
     ]
    }
   ],
   "source": [
    "model = pipe_bow\n",
    "model.fit(X_train, y_train)\n",
    "print(classification_report(y_val, model.predict(X_val)))"
   ]
  },
  {
   "cell_type": "markdown",
   "metadata": {},
   "source": [
    "### Logistic Regression"
   ]
  },
  {
   "cell_type": "code",
   "execution_count": 10,
   "metadata": {
    "ExecuteTime": {
     "end_time": "2020-07-03T00:38:29.942588Z",
     "start_time": "2020-07-03T00:38:23.513879Z"
    }
   },
   "outputs": [
    {
     "name": "stdout",
     "output_type": "stream",
     "text": [
      "LogisticRegression(C=1.0, class_weight=None, dual=False, fit_intercept=True,\n",
      "                   intercept_scaling=1, l1_ratio=None, max_iter=100,\n",
      "                   multi_class='auto', n_jobs=None, penalty='l2',\n",
      "                   random_state=None, solver='lbfgs', tol=0.0001, verbose=0,\n",
      "                   warm_start=False) with BOW model F1 score:\n",
      "([0.8371, 0.8439, 0.8484, 0.8391, 0.8473], 0.8432, 0.0044)\n",
      "LogisticRegression(C=1.0, class_weight=None, dual=False, fit_intercept=True,\n",
      "                   intercept_scaling=1, l1_ratio=None, max_iter=100,\n",
      "                   multi_class='auto', n_jobs=None, penalty='l2',\n",
      "                   random_state=None, solver='lbfgs', tol=0.0001, verbose=0,\n",
      "                   warm_start=False) with BOW model ACCURACY score:\n",
      "([0.785, 0.79, 0.8025, 0.79, 0.8], 0.7935, 0.0066)\n",
      "LogisticRegression(C=1.0, class_weight=None, dual=False, fit_intercept=True,\n",
      "                   intercept_scaling=1, l1_ratio=None, max_iter=100,\n",
      "                   multi_class='auto', n_jobs=None, penalty='l2',\n",
      "                   random_state=None, solver='lbfgs', tol=0.0001, verbose=0,\n",
      "                   warm_start=False) with BOW model ROC_AUC score:\n",
      "([0.8524, 0.8473, 0.8555, 0.8583, 0.8633], 0.8554, 0.0054)\n",
      "\n"
     ]
    }
   ],
   "source": [
    "pipe_bow = pipeline_imb(\n",
    "    steps=[('bow', bow_vectorizer), \n",
    "           (\"balance\", RandomOverSampler(random_state=0)), \n",
    "           ('cls', logit)])\n",
    "checking(pipe_bow,\n",
    "         data_samples_cleared,\n",
    "         y,\n",
    "         10,\n",
    "         n_jobs=-1,\n",
    "         cv=5,\n",
    "         data_model_name=\"BOW\")"
   ]
  },
  {
   "cell_type": "code",
   "execution_count": 11,
   "metadata": {
    "ExecuteTime": {
     "end_time": "2020-07-03T00:38:31.158134Z",
     "start_time": "2020-07-03T00:38:29.944790Z"
    }
   },
   "outputs": [
    {
     "name": "stdout",
     "output_type": "stream",
     "text": [
      "              precision    recall  f1-score   support\n",
      "\n",
      "           0       0.71      0.63      0.67       141\n",
      "           1       0.81      0.86      0.84       259\n",
      "\n",
      "    accuracy                           0.78       400\n",
      "   macro avg       0.76      0.75      0.75       400\n",
      "weighted avg       0.78      0.78      0.78       400\n",
      "\n"
     ]
    }
   ],
   "source": [
    "model = pipe_bow\n",
    "model.fit(X_train, y_train)\n",
    "print(classification_report(y_val, model.predict(X_val)))"
   ]
  },
  {
   "cell_type": "markdown",
   "metadata": {},
   "source": [
    "### Support Vector Machine"
   ]
  },
  {
   "cell_type": "code",
   "execution_count": 12,
   "metadata": {
    "ExecuteTime": {
     "end_time": "2020-07-03T00:39:07.565512Z",
     "start_time": "2020-07-03T00:38:31.160151Z"
    }
   },
   "outputs": [
    {
     "name": "stdout",
     "output_type": "stream",
     "text": [
      "SVC(C=1.0, break_ties=False, cache_size=200, class_weight=None, coef0=0.0,\n",
      "    decision_function_shape='ovr', degree=3, gamma='scale', kernel='rbf',\n",
      "    max_iter=-1, probability=True, random_state=None, shrinking=True, tol=0.001,\n",
      "    verbose=False) with BOW model F1 score:\n",
      "([0.8276, 0.8278, 0.8348, 0.8253, 0.8423], 0.8316, 0.0062)\n",
      "SVC(C=1.0, break_ties=False, cache_size=200, class_weight=None, coef0=0.0,\n",
      "    decision_function_shape='ovr', degree=3, gamma='scale', kernel='rbf',\n",
      "    max_iter=-1, probability=True, random_state=None, shrinking=True, tol=0.001,\n",
      "    verbose=False) with BOW model ACCURACY score:\n",
      "([0.7625, 0.765, 0.7725, 0.765, 0.7875], 0.7705, 0.0091)\n",
      "SVC(C=1.0, break_ties=False, cache_size=200, class_weight=None, coef0=0.0,\n",
      "    decision_function_shape='ovr', degree=3, gamma='scale', kernel='rbf',\n",
      "    max_iter=-1, probability=True, random_state=None, shrinking=True, tol=0.001,\n",
      "    verbose=False) with BOW model ROC_AUC score:\n",
      "([0.8199, 0.8338, 0.8422, 0.8428, 0.8528], 0.8383, 0.011)\n",
      "\n"
     ]
    }
   ],
   "source": [
    "pipe_bow = pipeline_imb(steps=[\n",
    "    ('bow', bow_vectorizer),\n",
    "    (\"balance\", RandomOverSampler(random_state=0)), \n",
    "    ('cls', svm)])\n",
    "checking(pipe_bow, data_samples_cleared, y, 10, n_jobs=-1, cv=5, data_model_name=\"BOW\")"
   ]
  },
  {
   "cell_type": "code",
   "execution_count": 13,
   "metadata": {
    "ExecuteTime": {
     "end_time": "2020-07-03T00:39:14.439821Z",
     "start_time": "2020-07-03T00:39:07.567645Z"
    }
   },
   "outputs": [
    {
     "name": "stdout",
     "output_type": "stream",
     "text": [
      "              precision    recall  f1-score   support\n",
      "\n",
      "           0       0.74      0.60      0.66       141\n",
      "           1       0.80      0.89      0.84       259\n",
      "\n",
      "    accuracy                           0.79       400\n",
      "   macro avg       0.77      0.74      0.75       400\n",
      "weighted avg       0.78      0.79      0.78       400\n",
      "\n"
     ]
    }
   ],
   "source": [
    "model = pipe_bow\n",
    "model.fit(X_train, y_train)\n",
    "print(classification_report(y_val, model.predict(X_val)))"
   ]
  },
  {
   "cell_type": "markdown",
   "metadata": {},
   "source": [
    "# TFIDF"
   ]
  },
  {
   "cell_type": "markdown",
   "metadata": {},
   "source": [
    "### Naive Bayes"
   ]
  },
  {
   "cell_type": "code",
   "execution_count": 14,
   "metadata": {
    "ExecuteTime": {
     "end_time": "2020-07-03T00:39:17.761406Z",
     "start_time": "2020-07-03T00:39:14.442201Z"
    }
   },
   "outputs": [
    {
     "name": "stdout",
     "output_type": "stream",
     "text": [
      "ComplementNB(alpha=0.4, class_prior=None, fit_prior=True, norm=False) with TFIDF model F1 score:\n",
      "([0.8226, 0.8465, 0.8406, 0.832, 0.8381], 0.8359, 0.0081)\n",
      "ComplementNB(alpha=0.4, class_prior=None, fit_prior=True, norm=False) with TFIDF model ACCURACY score:\n",
      "([0.78, 0.805, 0.8, 0.79, 0.8], 0.795, 0.0089)\n",
      "ComplementNB(alpha=0.4, class_prior=None, fit_prior=True, norm=False) with TFIDF model ROC_AUC score:\n",
      "([0.8674, 0.8807, 0.8785, 0.8698, 0.8891], 0.8771, 0.0078)\n",
      "\n"
     ]
    }
   ],
   "source": [
    "pipe_tf = pipeline_imb(\n",
    "    steps=[('tf', tf_vectorizer),\n",
    "           (\"balance\", RandomOverSampler(random_state=0)),\n",
    "           ('cls', nb)])\n",
    "checking(pipe_tf,\n",
    "         data_samples_cleared,\n",
    "         y,\n",
    "         10,\n",
    "         n_jobs=-1,\n",
    "         cv=5,\n",
    "         data_model_name=\"TFIDF\")"
   ]
  },
  {
   "cell_type": "code",
   "execution_count": 15,
   "metadata": {
    "ExecuteTime": {
     "end_time": "2020-07-03T00:39:18.446447Z",
     "start_time": "2020-07-03T00:39:17.763732Z"
    }
   },
   "outputs": [
    {
     "name": "stdout",
     "output_type": "stream",
     "text": [
      "              precision    recall  f1-score   support\n",
      "\n",
      "           0       0.70      0.70      0.70       141\n",
      "           1       0.84      0.84      0.84       259\n",
      "\n",
      "    accuracy                           0.79       400\n",
      "   macro avg       0.77      0.77      0.77       400\n",
      "weighted avg       0.79      0.79      0.79       400\n",
      "\n"
     ]
    }
   ],
   "source": [
    "model = pipe_tf\n",
    "model.fit(X_train, y_train)\n",
    "print(classification_report(y_val, model.predict(X_val)))"
   ]
  },
  {
   "cell_type": "markdown",
   "metadata": {},
   "source": [
    "### Logistic Regression"
   ]
  },
  {
   "cell_type": "code",
   "execution_count": 16,
   "metadata": {
    "ExecuteTime": {
     "end_time": "2020-07-03T00:39:22.377976Z",
     "start_time": "2020-07-03T00:39:18.448596Z"
    }
   },
   "outputs": [
    {
     "name": "stdout",
     "output_type": "stream",
     "text": [
      "LogisticRegression(C=1.0, class_weight=None, dual=False, fit_intercept=True,\n",
      "                   intercept_scaling=1, l1_ratio=None, max_iter=100,\n",
      "                   multi_class='auto', n_jobs=None, penalty='l2',\n",
      "                   random_state=None, solver='lbfgs', tol=0.0001, verbose=0,\n",
      "                   warm_start=False) with TFIDF model F1 score:\n",
      "([0.8265, 0.8362, 0.8388, 0.8247, 0.8493], 0.8351, 0.0089)\n",
      "LogisticRegression(C=1.0, class_weight=None, dual=False, fit_intercept=True,\n",
      "                   intercept_scaling=1, l1_ratio=None, max_iter=100,\n",
      "                   multi_class='auto', n_jobs=None, penalty='l2',\n",
      "                   random_state=None, solver='lbfgs', tol=0.0001, verbose=0,\n",
      "                   warm_start=False) with TFIDF model ACCURACY score:\n",
      "([0.7775, 0.7825, 0.7925, 0.7725, 0.8075], 0.7865, 0.0124)\n",
      "LogisticRegression(C=1.0, class_weight=None, dual=False, fit_intercept=True,\n",
      "                   intercept_scaling=1, l1_ratio=None, max_iter=100,\n",
      "                   multi_class='auto', n_jobs=None, penalty='l2',\n",
      "                   random_state=None, solver='lbfgs', tol=0.0001, verbose=0,\n",
      "                   warm_start=False) with TFIDF model ROC_AUC score:\n",
      "([0.8523, 0.8604, 0.868, 0.8595, 0.8881], 0.8657, 0.0123)\n",
      "\n"
     ]
    }
   ],
   "source": [
    "pipe_tf = pipeline_imb(steps=[('tf', tf_vectorizer),\n",
    "                          (\"balance\", RandomOverSampler(random_state=0)),\n",
    "                          ('cls', logit)])\n",
    "checking(pipe_tf, data_samples_cleared, y, 10,\n",
    "         n_jobs=-1, cv=5, data_model_name=\"TFIDF\")"
   ]
  },
  {
   "cell_type": "code",
   "execution_count": 17,
   "metadata": {
    "ExecuteTime": {
     "end_time": "2020-07-03T00:40:08.700437Z",
     "start_time": "2020-07-03T00:40:01.319307Z"
    }
   },
   "outputs": [
    {
     "name": "stdout",
     "output_type": "stream",
     "text": [
      "              precision    recall  f1-score   support\n",
      "\n",
      "           0       0.68      0.64      0.66       141\n",
      "           1       0.81      0.84      0.82       259\n",
      "\n",
      "    accuracy                           0.77       400\n",
      "   macro avg       0.75      0.74      0.74       400\n",
      "weighted avg       0.76      0.77      0.77       400\n",
      "\n"
     ]
    }
   ],
   "source": [
    "model = pipe_tf\n",
    "model.fit(X_train, y_train)\n",
    "print(classification_report(y_val, model.predict(X_val)))"
   ]
  },
  {
   "cell_type": "markdown",
   "metadata": {},
   "source": [
    "### Support Vector Machine"
   ]
  },
  {
   "cell_type": "code",
   "execution_count": 18,
   "metadata": {
    "ExecuteTime": {
     "end_time": "2020-07-03T00:40:01.317258Z",
     "start_time": "2020-07-03T00:39:23.189150Z"
    }
   },
   "outputs": [
    {
     "name": "stdout",
     "output_type": "stream",
     "text": [
      "SVC(C=1.0, break_ties=False, cache_size=200, class_weight=None, coef0=0.0,\n",
      "    decision_function_shape='ovr', degree=3, gamma='scale', kernel='rbf',\n",
      "    max_iter=-1, probability=True, random_state=None, shrinking=True, tol=0.001,\n",
      "    verbose=False) with TFIDF model F1 score:\n",
      "([0.8395, 0.8291, 0.8581, 0.8436, 0.8468], 0.8434, 0.0095)\n",
      "SVC(C=1.0, break_ties=False, cache_size=200, class_weight=None, coef0=0.0,\n",
      "    decision_function_shape='ovr', degree=3, gamma='scale', kernel='rbf',\n",
      "    max_iter=-1, probability=True, random_state=None, shrinking=True, tol=0.001,\n",
      "    verbose=False) with TFIDF model ACCURACY score:\n",
      "([0.7725, 0.7475, 0.7975, 0.7775, 0.7775], 0.7745, 0.016)\n",
      "SVC(C=1.0, break_ties=False, cache_size=200, class_weight=None, coef0=0.0,\n",
      "    decision_function_shape='ovr', degree=3, gamma='scale', kernel='rbf',\n",
      "    max_iter=-1, probability=True, random_state=None, shrinking=True, tol=0.001,\n",
      "    verbose=False) with TFIDF model ROC_AUC score:\n",
      "([0.8619, 0.8649, 0.8769, 0.8643, 0.888], 0.8712, 0.0099)\n",
      "\n"
     ]
    }
   ],
   "source": [
    "pipe_tf = pipeline_imb(steps=[('tf', tf_vectorizer), \n",
    "                              (\"balance\", RandomOverSampler(random_state=0)),\n",
    "                              ('cls', svm)])\n",
    "checking(pipe_tf, data_samples_cleared, y, 10,\n",
    "         n_jobs=-1, cv=5, data_model_name=\"TFIDF\")"
   ]
  },
  {
   "cell_type": "code",
   "execution_count": 19,
   "metadata": {
    "ExecuteTime": {
     "end_time": "2020-07-03T00:40:08.700437Z",
     "start_time": "2020-07-03T00:40:01.319307Z"
    }
   },
   "outputs": [
    {
     "name": "stdout",
     "output_type": "stream",
     "text": [
      "              precision    recall  f1-score   support\n",
      "\n",
      "           0       0.81      0.46      0.59       141\n",
      "           1       0.76      0.94      0.84       259\n",
      "\n",
      "    accuracy                           0.77       400\n",
      "   macro avg       0.79      0.70      0.72       400\n",
      "weighted avg       0.78      0.77      0.75       400\n",
      "\n"
     ]
    }
   ],
   "source": [
    "model = pipe_tf\n",
    "model.fit(X_train, y_train)\n",
    "print(classification_report(y_val, model.predict(X_val)))"
   ]
  },
  {
   "cell_type": "markdown",
   "metadata": {},
   "source": [
    "# CHAR BOW"
   ]
  },
  {
   "cell_type": "markdown",
   "metadata": {},
   "source": [
    "### Naive Bayes"
   ]
  },
  {
   "cell_type": "code",
   "execution_count": 20,
   "metadata": {
    "ExecuteTime": {
     "end_time": "2020-07-03T00:40:11.655328Z",
     "start_time": "2020-07-03T00:40:08.702980Z"
    }
   },
   "outputs": [
    {
     "name": "stdout",
     "output_type": "stream",
     "text": [
      "ComplementNB(alpha=0.4, class_prior=None, fit_prior=True, norm=False) with CHAR BOW model F1 score:\n",
      "([0.8442, 0.855, 0.844, 0.8333, 0.8337], 0.842, 0.008)\n",
      "ComplementNB(alpha=0.4, class_prior=None, fit_prior=True, norm=False) with CHAR BOW model ACCURACY score:\n",
      "([0.8025, 0.81, 0.805, 0.78, 0.7825], 0.796, 0.0123)\n",
      "ComplementNB(alpha=0.4, class_prior=None, fit_prior=True, norm=False) with CHAR BOW model ROC_AUC score:\n",
      "([0.8374, 0.8456, 0.8524, 0.8363, 0.8071], 0.8358, 0.0155)\n",
      "\n"
     ]
    }
   ],
   "source": [
    "pipe_bow = pipeline_imb(steps=[('bow', char_bow_vectorizer),\n",
    "                               (\"balance\", RandomOverSampler(random_state=0)), \n",
    "                               ('cls', nb)])\n",
    "checking(pipe_bow, data_samples_cleared, y, 10,\n",
    "         n_jobs=-1, cv=5, data_model_name=\"CHAR BOW\")"
   ]
  },
  {
   "cell_type": "code",
   "execution_count": 21,
   "metadata": {
    "ExecuteTime": {
     "end_time": "2020-07-03T00:40:12.234015Z",
     "start_time": "2020-07-03T00:40:11.657446Z"
    }
   },
   "outputs": [
    {
     "name": "stdout",
     "output_type": "stream",
     "text": [
      "              precision    recall  f1-score   support\n",
      "\n",
      "           0       0.70      0.67      0.68       141\n",
      "           1       0.82      0.85      0.83       259\n",
      "\n",
      "    accuracy                           0.78       400\n",
      "   macro avg       0.76      0.76      0.76       400\n",
      "weighted avg       0.78      0.78      0.78       400\n",
      "\n"
     ]
    }
   ],
   "source": [
    "model = pipe_bow\n",
    "model.fit(X_train, y_train)\n",
    "print(classification_report(y_val, model.predict(X_val)))"
   ]
  },
  {
   "cell_type": "markdown",
   "metadata": {},
   "source": [
    "### Logistic Regression"
   ]
  },
  {
   "cell_type": "code",
   "execution_count": 22,
   "metadata": {
    "ExecuteTime": {
     "end_time": "2020-07-03T00:40:21.785642Z",
     "start_time": "2020-07-03T00:40:12.236292Z"
    }
   },
   "outputs": [
    {
     "name": "stdout",
     "output_type": "stream",
     "text": [
      "LogisticRegression(C=1.0, class_weight=None, dual=False, fit_intercept=True,\n",
      "                   intercept_scaling=1, l1_ratio=None, max_iter=100,\n",
      "                   multi_class='auto', n_jobs=None, penalty='l2',\n",
      "                   random_state=None, solver='lbfgs', tol=0.0001, verbose=0,\n",
      "                   warm_start=False) with CHAR BOW model F1 score:\n",
      "([0.8275, 0.8371, 0.8008, 0.8454, 0.8197], 0.8261, 0.0153)\n",
      "LogisticRegression(C=1.0, class_weight=None, dual=False, fit_intercept=True,\n",
      "                   intercept_scaling=1, l1_ratio=None, max_iter=100,\n",
      "                   multi_class='auto', n_jobs=None, penalty='l2',\n",
      "                   random_state=None, solver='lbfgs', tol=0.0001, verbose=0,\n",
      "                   warm_start=False) with CHAR BOW model ACCURACY score:\n",
      "([0.78, 0.785, 0.7475, 0.8025, 0.7625], 0.7755, 0.0189)\n",
      "LogisticRegression(C=1.0, class_weight=None, dual=False, fit_intercept=True,\n",
      "                   intercept_scaling=1, l1_ratio=None, max_iter=100,\n",
      "                   multi_class='auto', n_jobs=None, penalty='l2',\n",
      "                   random_state=None, solver='lbfgs', tol=0.0001, verbose=0,\n",
      "                   warm_start=False) with CHAR BOW model ROC_AUC score:\n",
      "([0.8467, 0.8269, 0.819, 0.8538, 0.8438], 0.838, 0.013)\n",
      "\n"
     ]
    }
   ],
   "source": [
    "pipe_bow = pipeline_imb(steps=[('bow', char_bow_vectorizer),\n",
    "                               (\"balance\", RandomOverSampler(random_state=0)),\n",
    "                               ('cls', logit)])\n",
    "checking(pipe_bow, data_samples_cleared, y, 10,\n",
    "         n_jobs=-1, cv=5, data_model_name=\"CHAR BOW\")"
   ]
  },
  {
   "cell_type": "code",
   "execution_count": 23,
   "metadata": {
    "ExecuteTime": {
     "end_time": "2020-07-03T00:43:05.204177Z",
     "start_time": "2020-07-03T00:43:04.587786Z"
    }
   },
   "outputs": [
    {
     "name": "stdout",
     "output_type": "stream",
     "text": [
      "              precision    recall  f1-score   support\n",
      "\n",
      "           0       0.65      0.62      0.63       141\n",
      "           1       0.80      0.82      0.81       259\n",
      "\n",
      "    accuracy                           0.75       400\n",
      "   macro avg       0.72      0.72      0.72       400\n",
      "weighted avg       0.74      0.75      0.75       400\n",
      "\n"
     ]
    }
   ],
   "source": [
    "model = pipe_bow\n",
    "model.fit(X_train, y_train)\n",
    "print(classification_report(y_val, model.predict(X_val)))"
   ]
  },
  {
   "cell_type": "markdown",
   "metadata": {},
   "source": [
    "### Support Vector Machine"
   ]
  },
  {
   "cell_type": "code",
   "execution_count": 24,
   "metadata": {
    "ExecuteTime": {
     "end_time": "2020-07-03T00:42:32.152623Z",
     "start_time": "2020-07-03T00:40:23.431139Z"
    }
   },
   "outputs": [
    {
     "name": "stdout",
     "output_type": "stream",
     "text": [
      "SVC(C=1.0, break_ties=False, cache_size=200, class_weight=None, coef0=0.0,\n",
      "    decision_function_shape='ovr', degree=3, gamma='scale', kernel='rbf',\n",
      "    max_iter=-1, probability=True, random_state=None, shrinking=True, tol=0.001,\n",
      "    verbose=False) with CHAR BOW model F1 score:\n",
      "([0.8308, 0.8355, 0.8173, 0.8453, 0.8343], 0.8326, 0.0091)\n",
      "SVC(C=1.0, break_ties=False, cache_size=200, class_weight=None, coef0=0.0,\n",
      "    decision_function_shape='ovr', degree=3, gamma='scale', kernel='rbf',\n",
      "    max_iter=-1, probability=True, random_state=None, shrinking=True, tol=0.001,\n",
      "    verbose=False) with CHAR BOW model ACCURACY score:\n",
      "([0.775, 0.7775, 0.7675, 0.795, 0.7825], 0.7795, 0.0091)\n",
      "SVC(C=1.0, break_ties=False, cache_size=200, class_weight=None, coef0=0.0,\n",
      "    decision_function_shape='ovr', degree=3, gamma='scale', kernel='rbf',\n",
      "    max_iter=-1, probability=True, random_state=None, shrinking=True, tol=0.001,\n",
      "    verbose=False) with CHAR BOW model ROC_AUC score:\n",
      "([0.8449, 0.8463, 0.8508, 0.8567, 0.8596], 0.8517, 0.0057)\n",
      "\n"
     ]
    }
   ],
   "source": [
    "pipe_bow = pipeline_imb(steps=[('bow', char_bow_vectorizer),\n",
    "                               (\"balance\", RandomOverSampler(random_state=0)), \n",
    "                               ('cls', svm)])\n",
    "checking(pipe_bow, data_samples_cleared, y, 10,\n",
    "         n_jobs=-1, cv=5, data_model_name=\"CHAR BOW\")"
   ]
  },
  {
   "cell_type": "code",
   "execution_count": 25,
   "metadata": {
    "ExecuteTime": {
     "end_time": "2020-07-03T00:43:05.204177Z",
     "start_time": "2020-07-03T00:43:04.587786Z"
    }
   },
   "outputs": [
    {
     "name": "stdout",
     "output_type": "stream",
     "text": [
      "              precision    recall  f1-score   support\n",
      "\n",
      "           0       0.71      0.60      0.65       141\n",
      "           1       0.80      0.87      0.83       259\n",
      "\n",
      "    accuracy                           0.77       400\n",
      "   macro avg       0.75      0.73      0.74       400\n",
      "weighted avg       0.77      0.77      0.77       400\n",
      "\n"
     ]
    }
   ],
   "source": [
    "model = pipe_bow\n",
    "model.fit(X_train, y_train)\n",
    "print(classification_report(y_val, model.predict(X_val)))"
   ]
  },
  {
   "cell_type": "markdown",
   "metadata": {},
   "source": [
    "# CHAR TFIDF"
   ]
  },
  {
   "cell_type": "markdown",
   "metadata": {},
   "source": [
    "### Naive Bayes"
   ]
  },
  {
   "cell_type": "code",
   "execution_count": 26,
   "metadata": {
    "ExecuteTime": {
     "end_time": "2020-07-03T00:43:04.585321Z",
     "start_time": "2020-07-03T00:43:01.054106Z"
    }
   },
   "outputs": [
    {
     "name": "stdout",
     "output_type": "stream",
     "text": [
      "ComplementNB(alpha=0.4, class_prior=None, fit_prior=True, norm=False) with CHAR TFIDF model F1 score:\n",
      "([0.8147, 0.8521, 0.8358, 0.8154, 0.8233], 0.8282, 0.0141)\n",
      "ComplementNB(alpha=0.4, class_prior=None, fit_prior=True, norm=False) with CHAR TFIDF model ACCURACY score:\n",
      "([0.7725, 0.8125, 0.8025, 0.7725, 0.78], 0.788, 0.0165)\n",
      "ComplementNB(alpha=0.4, class_prior=None, fit_prior=True, norm=False) with CHAR TFIDF model ROC_AUC score:\n",
      "([0.8635, 0.8734, 0.8685, 0.8708, 0.8573], 0.8667, 0.0057)\n",
      "\n"
     ]
    }
   ],
   "source": [
    "pipe_tf = pipeline_imb(steps=[('bow', char_tf_vectorizer),\n",
    "                              (\"balance\", RandomOverSampler(random_state=0)),\n",
    "                              ('cls', nb)])\n",
    "checking(pipe_tf, data_samples_cleared, y, 10,\n",
    "         n_jobs=-1, cv=5, data_model_name=\"CHAR TFIDF\")"
   ]
  },
  {
   "cell_type": "code",
   "execution_count": 27,
   "metadata": {
    "ExecuteTime": {
     "end_time": "2020-07-03T00:43:05.204177Z",
     "start_time": "2020-07-03T00:43:04.587786Z"
    }
   },
   "outputs": [
    {
     "name": "stdout",
     "output_type": "stream",
     "text": [
      "              precision    recall  f1-score   support\n",
      "\n",
      "           0       0.68      0.73      0.70       141\n",
      "           1       0.85      0.81      0.83       259\n",
      "\n",
      "    accuracy                           0.78       400\n",
      "   macro avg       0.76      0.77      0.77       400\n",
      "weighted avg       0.79      0.78      0.78       400\n",
      "\n"
     ]
    }
   ],
   "source": [
    "model = pipe_tf\n",
    "model.fit(X_train, y_train)\n",
    "print(classification_report(y_val, model.predict(X_val)))"
   ]
  },
  {
   "cell_type": "markdown",
   "metadata": {},
   "source": [
    "### Logistic Regression"
   ]
  },
  {
   "cell_type": "code",
   "execution_count": 28,
   "metadata": {
    "ExecuteTime": {
     "end_time": "2020-07-03T00:43:10.512599Z",
     "start_time": "2020-07-03T00:43:05.207291Z"
    }
   },
   "outputs": [
    {
     "name": "stdout",
     "output_type": "stream",
     "text": [
      "LogisticRegression(C=1.0, class_weight=None, dual=False, fit_intercept=True,\n",
      "                   intercept_scaling=1, l1_ratio=None, max_iter=100,\n",
      "                   multi_class='auto', n_jobs=None, penalty='l2',\n",
      "                   random_state=None, solver='lbfgs', tol=0.0001, verbose=0,\n",
      "                   warm_start=False) with CHAR TFIDF model F1 score:\n",
      "([0.835, 0.8415, 0.8214, 0.8323, 0.8396], 0.834, 0.0071)\n",
      "LogisticRegression(C=1.0, class_weight=None, dual=False, fit_intercept=True,\n",
      "                   intercept_scaling=1, l1_ratio=None, max_iter=100,\n",
      "                   multi_class='auto', n_jobs=None, penalty='l2',\n",
      "                   random_state=None, solver='lbfgs', tol=0.0001, verbose=0,\n",
      "                   warm_start=False) with CHAR TFIDF model ACCURACY score:\n",
      "([0.7925, 0.7975, 0.7825, 0.7875, 0.7975], 0.7915, 0.0058)\n",
      "LogisticRegression(C=1.0, class_weight=None, dual=False, fit_intercept=True,\n",
      "                   intercept_scaling=1, l1_ratio=None, max_iter=100,\n",
      "                   multi_class='auto', n_jobs=None, penalty='l2',\n",
      "                   random_state=None, solver='lbfgs', tol=0.0001, verbose=0,\n",
      "                   warm_start=False) with CHAR TFIDF model ROC_AUC score:\n",
      "([0.8616, 0.857, 0.8651, 0.8691, 0.8743], 0.8654, 0.006)\n",
      "\n"
     ]
    }
   ],
   "source": [
    "pipe_tf = pipeline_imb(steps=[('bow', char_tf_vectorizer),\n",
    "                              (\"balance\", RandomOverSampler(random_state=0)),\n",
    "                              ('cls', logit)])\n",
    "checking(pipe_tf, data_samples_cleared, y, 10,\n",
    "         n_jobs=-1, cv=5, data_model_name=\"CHAR TFIDF\")"
   ]
  },
  {
   "cell_type": "code",
   "execution_count": 29,
   "metadata": {
    "ExecuteTime": {
     "end_time": "2020-07-03T00:46:14.420117Z",
     "start_time": "2020-07-03T00:46:06.680245Z"
    }
   },
   "outputs": [
    {
     "name": "stdout",
     "output_type": "stream",
     "text": [
      "              precision    recall  f1-score   support\n",
      "\n",
      "           0       0.67      0.68      0.68       141\n",
      "           1       0.82      0.82      0.82       259\n",
      "\n",
      "    accuracy                           0.77       400\n",
      "   macro avg       0.75      0.75      0.75       400\n",
      "weighted avg       0.77      0.77      0.77       400\n",
      "\n"
     ]
    }
   ],
   "source": [
    "model = pipe_tf\n",
    "model.fit(X_train, y_train)\n",
    "print(classification_report(y_val, model.predict(X_val)))"
   ]
  },
  {
   "cell_type": "markdown",
   "metadata": {},
   "source": [
    "### Support Vector Machine"
   ]
  },
  {
   "cell_type": "code",
   "execution_count": 30,
   "metadata": {
    "ExecuteTime": {
     "end_time": "2020-07-03T00:45:29.574705Z",
     "start_time": "2020-07-03T00:43:11.438911Z"
    }
   },
   "outputs": [
    {
     "name": "stdout",
     "output_type": "stream",
     "text": [
      "SVC(C=1.0, break_ties=False, cache_size=200, class_weight=None, coef0=0.0,\n",
      "    decision_function_shape='ovr', degree=3, gamma='scale', kernel='rbf',\n",
      "    max_iter=-1, probability=True, random_state=None, shrinking=True, tol=0.001,\n",
      "    verbose=False) with CHAR TFIDF model F1 score:\n",
      "([0.8457, 0.853, 0.8457, 0.8494, 0.8551], 0.8498, 0.0038)\n",
      "SVC(C=1.0, break_ties=False, cache_size=200, class_weight=None, coef0=0.0,\n",
      "    decision_function_shape='ovr', degree=3, gamma='scale', kernel='rbf',\n",
      "    max_iter=-1, probability=True, random_state=None, shrinking=True, tol=0.001,\n",
      "    verbose=False) with CHAR TFIDF model ACCURACY score:\n",
      "([0.7875, 0.7975, 0.7975, 0.7925, 0.8], 0.795, 0.0045)\n",
      "SVC(C=1.0, break_ties=False, cache_size=200, class_weight=None, coef0=0.0,\n",
      "    decision_function_shape='ovr', degree=3, gamma='scale', kernel='rbf',\n",
      "    max_iter=-1, probability=True, random_state=None, shrinking=True, tol=0.001,\n",
      "    verbose=False) with CHAR TFIDF model ROC_AUC score:\n",
      "([0.8715, 0.8646, 0.87, 0.8743, 0.873], 0.8707, 0.0034)\n",
      "\n"
     ]
    }
   ],
   "source": [
    "pipe_tf = pipeline_imb(steps=[('bow', char_tf_vectorizer),\n",
    "                              (\"balance\", RandomOverSampler(random_state=0)),\n",
    "                              ('cls', svm)])\n",
    "checking(pipe_tf, data_samples_cleared, y, 10,\n",
    "         n_jobs=-1, cv=5, data_model_name=\"CHAR TFIDF\")"
   ]
  },
  {
   "cell_type": "code",
   "execution_count": 31,
   "metadata": {
    "ExecuteTime": {
     "end_time": "2020-07-03T00:46:14.420117Z",
     "start_time": "2020-07-03T00:46:06.680245Z"
    }
   },
   "outputs": [
    {
     "name": "stdout",
     "output_type": "stream",
     "text": [
      "              precision    recall  f1-score   support\n",
      "\n",
      "           0       0.75      0.54      0.63       141\n",
      "           1       0.78      0.90      0.84       259\n",
      "\n",
      "    accuracy                           0.77       400\n",
      "   macro avg       0.76      0.72      0.73       400\n",
      "weighted avg       0.77      0.77      0.76       400\n",
      "\n"
     ]
    }
   ],
   "source": [
    "model = pipe_tf\n",
    "model.fit(X_train, y_train)\n",
    "print(classification_report(y_val, model.predict(X_val)))"
   ]
  },
  {
   "cell_type": "markdown",
   "metadata": {},
   "source": [
    "# TF-IDF and BOW"
   ]
  },
  {
   "cell_type": "markdown",
   "metadata": {},
   "source": [
    "### Naive Bayes"
   ]
  },
  {
   "cell_type": "code",
   "execution_count": 32,
   "metadata": {
    "ExecuteTime": {
     "end_time": "2020-07-03T00:46:06.678136Z",
     "start_time": "2020-07-03T00:45:59.315767Z"
    }
   },
   "outputs": [
    {
     "name": "stdout",
     "output_type": "stream",
     "text": [
      "ComplementNB(alpha=0.4, class_prior=None, fit_prior=True, norm=False) with TFIDF and BOW model F1 score:\n",
      "([0.8462, 0.852, 0.8556, 0.8382, 0.8509], 0.8486, 0.006)\n",
      "ComplementNB(alpha=0.4, class_prior=None, fit_prior=True, norm=False) with TFIDF and BOW model ACCURACY score:\n",
      "([0.79, 0.7925, 0.8025, 0.78, 0.795], 0.792, 0.0073)\n",
      "ComplementNB(alpha=0.4, class_prior=None, fit_prior=True, norm=False) with TFIDF and BOW model ROC_AUC score:\n",
      "([0.8549, 0.8725, 0.8605, 0.8445, 0.849], 0.8563, 0.0097)\n",
      "\n"
     ]
    }
   ],
   "source": [
    "pipe_union = pipeline_imb(steps=[('union',\n",
    "                                  FeatureUnion(transformer_list=[\n",
    "                                      ('bow', bow_vectorizer),\n",
    "                                      ('tfidf', tf_vectorizer)],\n",
    "                                      n_jobs=-1)),\n",
    "                                 ('cls', nb)])\n",
    "checking(pipe_union, data_samples_cleared, y, data_model_name=\"TFIDF and BOW\")"
   ]
  },
  {
   "cell_type": "code",
   "execution_count": 33,
   "metadata": {
    "ExecuteTime": {
     "end_time": "2020-07-03T00:46:14.420117Z",
     "start_time": "2020-07-03T00:46:06.680245Z"
    }
   },
   "outputs": [
    {
     "name": "stdout",
     "output_type": "stream",
     "text": [
      "              precision    recall  f1-score   support\n",
      "\n",
      "           0       0.80      0.59      0.68       141\n",
      "           1       0.80      0.92      0.86       259\n",
      "\n",
      "    accuracy                           0.80       400\n",
      "   macro avg       0.80      0.75      0.77       400\n",
      "weighted avg       0.80      0.80      0.79       400\n",
      "\n"
     ]
    }
   ],
   "source": [
    "model = pipe_union\n",
    "model.fit(X_train, y_train)\n",
    "print(classification_report(y_val, model.predict(X_val)))"
   ]
  },
  {
   "cell_type": "markdown",
   "metadata": {},
   "source": [
    "### Logistic Regression"
   ]
  },
  {
   "cell_type": "code",
   "execution_count": 34,
   "metadata": {
    "ExecuteTime": {
     "end_time": "2020-07-03T00:46:29.601174Z",
     "start_time": "2020-07-03T00:46:14.422819Z"
    }
   },
   "outputs": [
    {
     "name": "stdout",
     "output_type": "stream",
     "text": [
      "LogisticRegression(C=1.0, class_weight=None, dual=False, fit_intercept=True,\n",
      "                   intercept_scaling=1, l1_ratio=None, max_iter=100,\n",
      "                   multi_class='auto', n_jobs=None, penalty='l2',\n",
      "                   random_state=None, solver='lbfgs', tol=0.0001, verbose=0,\n",
      "                   warm_start=False) with TFIDF and BOW model F1 score:\n",
      "([0.8333, 0.8425, 0.8444, 0.8417, 0.845], 0.8414, 0.0042)\n",
      "LogisticRegression(C=1.0, class_weight=None, dual=False, fit_intercept=True,\n",
      "                   intercept_scaling=1, l1_ratio=None, max_iter=100,\n",
      "                   multi_class='auto', n_jobs=None, penalty='l2',\n",
      "                   random_state=None, solver='lbfgs', tol=0.0001, verbose=0,\n",
      "                   warm_start=False) with TFIDF and BOW model ACCURACY score:\n",
      "([0.775, 0.785, 0.79, 0.7875, 0.79], 0.7855, 0.0056)\n",
      "LogisticRegression(C=1.0, class_weight=None, dual=False, fit_intercept=True,\n",
      "                   intercept_scaling=1, l1_ratio=None, max_iter=100,\n",
      "                   multi_class='auto', n_jobs=None, penalty='l2',\n",
      "                   random_state=None, solver='lbfgs', tol=0.0001, verbose=0,\n",
      "                   warm_start=False) with TFIDF and BOW model ROC_AUC score:\n",
      "([0.8534, 0.847, 0.8571, 0.8581, 0.8646], 0.8561, 0.0058)\n",
      "\n"
     ]
    }
   ],
   "source": [
    "pipe_union = pipeline_imb(steps=[('union',\n",
    "                                  FeatureUnion(transformer_list=[\n",
    "                                      ('bow', bow_vectorizer),\n",
    "                                      ('tfidf', tf_vectorizer)],\n",
    "                                      n_jobs=-1)),\n",
    "                                 ('cls', logit)])\n",
    "checking(pipe_union, data_samples_cleared, y, data_model_name=\"TFIDF and BOW\")"
   ]
  },
  {
   "cell_type": "code",
   "execution_count": 35,
   "metadata": {
    "ExecuteTime": {
     "end_time": "2020-07-03T00:47:45.734975Z",
     "start_time": "2020-07-03T00:47:30.077914Z"
    }
   },
   "outputs": [
    {
     "name": "stdout",
     "output_type": "stream",
     "text": [
      "              precision    recall  f1-score   support\n",
      "\n",
      "           0       0.74      0.61      0.67       141\n",
      "           1       0.81      0.88      0.84       259\n",
      "\n",
      "    accuracy                           0.79       400\n",
      "   macro avg       0.77      0.75      0.75       400\n",
      "weighted avg       0.78      0.79      0.78       400\n",
      "\n"
     ]
    }
   ],
   "source": [
    "model = pipe_union\n",
    "model.fit(X_train, y_train)\n",
    "print(classification_report(y_val, model.predict(X_val)))"
   ]
  },
  {
   "cell_type": "markdown",
   "metadata": {},
   "source": [
    "### Support Vector Machine"
   ]
  },
  {
   "cell_type": "code",
   "execution_count": 36,
   "metadata": {
    "ExecuteTime": {
     "end_time": "2020-07-03T00:47:30.076005Z",
     "start_time": "2020-07-03T00:46:38.323369Z"
    }
   },
   "outputs": [
    {
     "name": "stdout",
     "output_type": "stream",
     "text": [
      "SVC(C=1.0, break_ties=False, cache_size=200, class_weight=None, coef0=0.0,\n",
      "    decision_function_shape='ovr', degree=3, gamma='scale', kernel='rbf',\n",
      "    max_iter=-1, probability=True, random_state=None, shrinking=True, tol=0.001,\n",
      "    verbose=False) with TFIDF and BOW model F1 score:\n",
      "([0.8146, 0.8083, 0.8196, 0.8227, 0.8458], 0.8222, 0.0128)\n",
      "SVC(C=1.0, break_ties=False, cache_size=200, class_weight=None, coef0=0.0,\n",
      "    decision_function_shape='ovr', degree=3, gamma='scale', kernel='rbf',\n",
      "    max_iter=-1, probability=True, random_state=None, shrinking=True, tol=0.001,\n",
      "    verbose=False) with TFIDF and BOW model ACCURACY score:\n",
      "([0.7325, 0.7225, 0.7325, 0.7425, 0.7775], 0.7415, 0.0191)\n",
      "SVC(C=1.0, break_ties=False, cache_size=200, class_weight=None, coef0=0.0,\n",
      "    decision_function_shape='ovr', degree=3, gamma='scale', kernel='rbf',\n",
      "    max_iter=-1, probability=True, random_state=None, shrinking=True, tol=0.001,\n",
      "    verbose=False) with TFIDF and BOW model ROC_AUC score:\n",
      "([0.7985, 0.8145, 0.8406, 0.8276, 0.8399], 0.8242, 0.016)\n",
      "\n"
     ]
    }
   ],
   "source": [
    "pipe_union = pipeline_imb(steps=[('union',\n",
    "                                  FeatureUnion(transformer_list=[\n",
    "                                      ('bow', bow_vectorizer),\n",
    "                                      ('tfidf', tf_vectorizer)],\n",
    "                                      n_jobs=-1)),\n",
    "                                 ('cls', svm)])\n",
    "checking(pipe_union, data_samples_cleared, y, data_model_name=\"TFIDF and BOW\")"
   ]
  },
  {
   "cell_type": "code",
   "execution_count": 37,
   "metadata": {
    "ExecuteTime": {
     "end_time": "2020-07-03T00:47:45.734975Z",
     "start_time": "2020-07-03T00:47:30.077914Z"
    }
   },
   "outputs": [
    {
     "name": "stdout",
     "output_type": "stream",
     "text": [
      "              precision    recall  f1-score   support\n",
      "\n",
      "           0       0.70      0.35      0.47       141\n",
      "           1       0.72      0.92      0.81       259\n",
      "\n",
      "    accuracy                           0.72       400\n",
      "   macro avg       0.71      0.64      0.64       400\n",
      "weighted avg       0.72      0.72      0.69       400\n",
      "\n"
     ]
    }
   ],
   "source": [
    "model = pipe_union\n",
    "model.fit(X_train, y_train)\n",
    "print(classification_report(y_val, model.predict(X_val)))"
   ]
  },
  {
   "cell_type": "markdown",
   "metadata": {},
   "source": [
    "# Ансамбль моделей"
   ]
  },
  {
   "cell_type": "code",
   "execution_count": 51,
   "metadata": {
    "ExecuteTime": {
     "end_time": "2020-07-03T01:07:30.569975Z",
     "start_time": "2020-07-03T01:07:30.551097Z"
    }
   },
   "outputs": [],
   "source": [
    "pipe_bow_nb = pipeline_imb(steps=[\n",
    "    ('bow', bow_vectorizer),\n",
    "    (\"balance\", RandomOverSampler(random_state=0)), \n",
    "    ('cls', nb)])\n",
    "\n",
    "pipe_bow_logit = pipeline_imb(steps=[\n",
    "    ('bow', bow_vectorizer),\n",
    "    (\"balance\", RandomOverSampler(random_state=0)),\n",
    "    ('cls', logit)])\n",
    "\n",
    "pipe_bow_svm = pipeline_imb(steps=[\n",
    "    ('bow', bow_vectorizer),\n",
    "    (\"balance\", RandomOverSampler(random_state=0)),\n",
    "    ('cls', svm)])\n",
    "\n",
    "pipe_tf_nb = pipeline_imb(steps=[\n",
    "    ('tf', tf_vectorizer),\n",
    "    (\"balance\", RandomOverSampler(random_state=0)), \n",
    "    ('cls', nb)])\n",
    "\n",
    "pipe_tf_svm = pipeline_imb(steps=[\n",
    "    ('tf', tf_vectorizer),\n",
    "    (\"balance\", RandomOverSampler(random_state=0)), \n",
    "    ('cls', svm)])\n",
    "\n",
    "pipe_tf_logit = pipeline_imb(steps=[\n",
    "    ('tf', tf_vectorizer),\n",
    "    (\"balance\", RandomOverSampler(random_state=0)), \n",
    "    ('cls', logit)])\n",
    "\n",
    "pipe_tf_nb_char = pipeline_imb(steps=[\n",
    "    ('tf', char_tf_vectorizer),\n",
    "    (\"balance\", RandomOverSampler(random_state=0)), \n",
    "    ('cls', nb)])\n",
    "\n",
    "pipe_tf_logit_char = pipeline_imb(steps=[\n",
    "    ('tf', char_tf_vectorizer),\n",
    "    (\"balance\", RandomOverSampler(random_state=0)), \n",
    "    ('cls', logit)])\n",
    "\n",
    "pipe_tf_svm_char = pipeline_imb(steps=[\n",
    "    ('tf', char_tf_vectorizer),\n",
    "    (\"balance\", RandomOverSampler(random_state=0)), \n",
    "    ('cls', svm)])\n",
    "\n",
    "pipe_union_nb = Pipeline(steps=[('union',\n",
    "                              FeatureUnion(transformer_list=[\n",
    "                                  ('bow', bow_vectorizer),\n",
    "                                  ('tfidf', tf_vectorizer)],\n",
    "                                  n_jobs=-1)),\n",
    "                             ('cls', nb)])\n",
    "\n",
    "pipe_union_logit = Pipeline(steps=[('union',\n",
    "                              FeatureUnion(transformer_list=[\n",
    "                                  ('bow', bow_vectorizer),\n",
    "                                  ('tfidf', tf_vectorizer)],\n",
    "                                  n_jobs=-1)),\n",
    "                             ('cls', logit)])\n"
   ]
  },
  {
   "cell_type": "code",
   "execution_count": 52,
   "metadata": {
    "ExecuteTime": {
     "end_time": "2020-07-03T01:07:47.378345Z",
     "start_time": "2020-07-03T01:07:31.259825Z"
    }
   },
   "outputs": [
    {
     "name": "stdout",
     "output_type": "stream",
     "text": [
      "tfidf_nb+pipe_tf_nb_char+union_nb with Voting model F1 score:\n",
      "([0.8539, 0.8473, 0.8496, 0.8368, 0.8449], 0.8465, 0.0057)\n",
      "tfidf_nb+pipe_tf_nb_char+union_nb with Voting model ACCURACY score:\n",
      "([0.805, 0.79, 0.8, 0.7825, 0.7925], 0.794, 0.0078)\n",
      "tfidf_nb+pipe_tf_nb_char+union_nb with Voting model ROC_AUC score:\n",
      "([0.8763, 0.8865, 0.8861, 0.8788, 0.8772], 0.881, 0.0044)\n",
      "\n"
     ]
    }
   ],
   "source": [
    "pipe_vote = VotingClassifier(estimators=[\n",
    "#     ('bow_nb', pipe_bow_nb),\n",
    "#     ('bow_svm', pipe_bow_svm),\n",
    "#     ('bow_logit', pipe_bow_logit),\n",
    "    \n",
    "    ('tfidf_nb', pipe_tf_nb),\n",
    "#     ('tfidf_logit', pipe_tf_logit),\n",
    "#     ('tfidf_svm', pipe_tf_svm),\n",
    "\n",
    "    ('pipe_tf_nb_char', pipe_tf_nb_char),\n",
    "#     ('pipe_tf_logit_char', pipe_tf_logit_char),\n",
    "    \n",
    "#     ('pipe_tf_svm_char', pipe_tf_svm_char),\n",
    "    ('union_nb', pipe_union_nb),\n",
    "#     ('union_logit', pipe_union_logit),\n",
    "],\n",
    "    voting='soft',\n",
    "    n_jobs=-1)\n",
    "checking(pipe_vote, data_samples_cleared, y, data_model_name=\"Voting\", r_seed = 22)"
   ]
  },
  {
   "cell_type": "code",
   "execution_count": 53,
   "metadata": {
    "ExecuteTime": {
     "end_time": "2020-07-03T01:08:01.896285Z",
     "start_time": "2020-07-03T01:07:54.262600Z"
    }
   },
   "outputs": [
    {
     "name": "stdout",
     "output_type": "stream",
     "text": [
      "              precision    recall  f1-score   support\n",
      "\n",
      "           0       0.78      0.64      0.70       141\n",
      "           1       0.82      0.90      0.86       259\n",
      "\n",
      "    accuracy                           0.81       400\n",
      "   macro avg       0.80      0.77      0.78       400\n",
      "weighted avg       0.80      0.81      0.80       400\n",
      "\n"
     ]
    }
   ],
   "source": [
    "model = pipe_vote\n",
    "model.fit(X_train, y_train)\n",
    "print(classification_report(y_val, model.predict(X_val)))"
   ]
  },
  {
   "cell_type": "raw",
   "metadata": {
    "ExecuteTime": {
     "end_time": "2020-07-03T01:02:22.485088Z",
     "start_time": "2020-07-03T01:02:22.476822Z"
    }
   },
   "source": [
    "tfidf_nb+tfidf_svm+pipe_tf_logit_char+pipe_tf_svm_char+union_nb with Voting model F1 score:\n",
    "([0.8593, 0.8535, 0.8566, 0.8401, 0.855], 0.8529, 0.0067)\n",
    "tfidf_nb+tfidf_svm+pipe_tf_logit_char+pipe_tf_svm_char+union_nb with Voting model ACCURACY score:\n",
    "([0.8125, 0.8, 0.8075, 0.7825, 0.8025], 0.801, 0.0102)\n",
    "tfidf_nb+tfidf_svm+pipe_tf_logit_char+pipe_tf_svm_char+union_nb with Voting model ROC_AUC score:\n",
    "([0.8805, 0.8855, 0.8838, 0.8799, 0.8899], 0.8839, 0.0036)"
   ]
  },
  {
   "cell_type": "code",
   "execution_count": null,
   "metadata": {},
   "outputs": [],
   "source": []
  }
 ],
 "metadata": {
  "kernelspec": {
   "display_name": "Python 3",
   "language": "python",
   "name": "python3"
  },
  "language_info": {
   "codemirror_mode": {
    "name": "ipython",
    "version": 3
   },
   "file_extension": ".py",
   "mimetype": "text/x-python",
   "name": "python",
   "nbconvert_exporter": "python",
   "pygments_lexer": "ipython3",
   "version": "3.7.7"
  },
  "toc": {
   "base_numbering": 1,
   "nav_menu": {},
   "number_sections": true,
   "sideBar": true,
   "skip_h1_title": false,
   "title_cell": "Table of Contents",
   "title_sidebar": "Contents",
   "toc_cell": false,
   "toc_position": {
    "height": "calc(100% - 180px)",
    "left": "10px",
    "top": "150px",
    "width": "224.312px"
   },
   "toc_section_display": true,
   "toc_window_display": false
  }
 },
 "nbformat": 4,
 "nbformat_minor": 4
}
