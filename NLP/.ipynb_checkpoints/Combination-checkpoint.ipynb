{
 "cells": [
  {
   "cell_type": "markdown",
   "metadata": {},
   "source": [
    "# Preparations"
   ]
  },
  {
   "cell_type": "markdown",
   "metadata": {},
   "source": [
    "## libs"
   ]
  },
  {
   "cell_type": "code",
   "execution_count": 33,
   "metadata": {
    "ExecuteTime": {
     "end_time": "2020-05-22T01:51:16.557728Z",
     "start_time": "2020-05-22T01:51:16.534291Z"
    },
    "code_folding": []
   },
   "outputs": [],
   "source": [
    "# necessary libraries\n",
    "\n",
    "# %pylab inline\n",
    "import matplotlib.pyplot as plt\n",
    "from mpl_toolkits.mplot3d import Axes3D\n",
    "\n",
    "# read data to DataFrame\n",
    "import pandas as pd\n",
    "import numpy as np\n",
    "\n",
    "# feature extraction\n",
    "from sklearn.feature_extraction.text import TfidfVectorizer, CountVectorizer, TfidfTransformer\n",
    "from nltk.tokenize.casual import casual_tokenize\n",
    "from nltk.corpus import stopwords\n",
    "\n",
    "# pipeline\n",
    "from sklearn.pipeline import Pipeline\n",
    "from sklearn.pipeline import FeatureUnion\n",
    "\n",
    "#preprocessing\n",
    "from sklearn.preprocessing import FunctionTransformer\n",
    "from sklearn.preprocessing import Normalizer\n",
    "\n",
    "# model selection\n",
    "from sklearn.model_selection import cross_val_score, GridSearchCV, train_test_split, StratifiedKFold\n",
    "from sklearn.metrics import accuracy_score, roc_auc_score, classification_report, confusion_matrix, make_scorer\n",
    "from sklearn.base import BaseEstimator, TransformerMixin\n",
    "\n",
    "# decomposition PCA\n",
    "from sklearn.decomposition import IncrementalPCA, TruncatedSVD\n",
    "from sklearn.decomposition import NMF, LatentDirichletAllocation\n",
    "\n",
    "# classifiers\n",
    "## Bayes\n",
    "from sklearn.naive_bayes import ComplementNB\n",
    "from sklearn.discriminant_analysis import LinearDiscriminantAnalysis, QuadraticDiscriminantAnalysis\n",
    "## linear\n",
    "from sklearn.linear_model import LogisticRegression\n",
    "from sklearn.linear_model import SGDClassifier\n",
    "## svm\n",
    "from sklearn.svm import SVC\n",
    "## ensemble\n",
    "from sklearn.ensemble import RandomForestClassifier\n",
    "\n",
    "#learning\n",
    "from sklearn.model_selection import learning_curve\n",
    "from sklearn.model_selection import cross_val_score\n",
    "\n",
    "# time\n",
    "from time import time\n",
    "\n",
    "# progress bar\n",
    "from tqdm import tqdm, tqdm_notebook\n",
    "\n",
    "# string\n",
    "import string\n",
    "from collections import Counter\n",
    "\n",
    "# feature selection\n",
    "from sklearn.feature_selection import SelectKBest, chi2, f_classif, VarianceThreshold, SelectFromModel, mutual_info_classif\n",
    "\n",
    "from imblearn.over_sampling import RandomOverSampler\n",
    "from imblearn.under_sampling import RandomUnderSampler\n",
    "from sklearn.model_selection import RandomizedSearchCV\n",
    "from scipy.stats import uniform\n",
    "from imblearn.pipeline import Pipeline as pipeline_imb"
   ]
  },
  {
   "cell_type": "markdown",
   "metadata": {},
   "source": [
    "## functions"
   ]
  },
  {
   "cell_type": "code",
   "execution_count": 34,
   "metadata": {
    "ExecuteTime": {
     "end_time": "2020-05-22T01:51:16.605736Z",
     "start_time": "2020-05-22T01:51:16.560756Z"
    }
   },
   "outputs": [],
   "source": [
    "n_components = 100\n",
    "n_top_words = 10\n",
    "\n",
    "# functions\n",
    "\n",
    "\n",
    "# top words in model topics\n",
    "def print_top_words(model, feature_names, n_top_words, n):\n",
    "    for topic_idx, topic in enumerate(model.components_[:n]):\n",
    "        message = \"Topic #%d: \" % topic_idx\n",
    "        message += \" \".join([\n",
    "            feature_names[i].replace(\" \", \"_\")\n",
    "            for i in topic.argsort()[:-n_top_words - 1:-1]\n",
    "        ])\n",
    "        print(message)\n",
    "    print()\n",
    "\n",
    "\n",
    "# print components from topics\n",
    "def components(transformer, data_samples, y):\n",
    "    print(\"Fitting model with features ...\")\n",
    "    t0 = time()\n",
    "    transformer.fit(data_samples, y)\n",
    "    print((\"done in %0.3fs.\" % (time() - t0)))\n",
    "\n",
    "    print(\n",
    "        f\"\\nTopics in model with {transformer['decomposition'].components_.shape} features:\\n\"\n",
    "    )\n",
    "    feature_names = transformer['vectorizer'].get_feature_names()\n",
    "    print_top_words(transformer['decomposition'], feature_names, n_top_words,\n",
    "                    10)\n",
    "\n",
    "\n",
    "# split data\n",
    "def split_data(X, y, rs):\n",
    "    test_portion = 0.33\n",
    "    return train_test_split(X,\n",
    "                            y,\n",
    "                            test_size=test_portion,\n",
    "                            random_state=int(rs),\n",
    "                            shuffle=True,\n",
    "                            stratify=y)\n",
    "\n",
    "\n",
    "# plot learning curve\n",
    "def curve_plot(pipe, X, y, n_jobs):\n",
    "    train_sizes, train_scores, test_scores = learning_curve(pipe,\n",
    "                                                            data_samples,\n",
    "                                                            y,\n",
    "                                                            n_jobs=n_jobs,\n",
    "                                                            cv=5,\n",
    "                                                            shuffle=True)\n",
    "\n",
    "    train_scores_mean = np.mean(train_scores, axis=1)\n",
    "    train_scores_std = np.std(train_scores, axis=1)\n",
    "    test_scores_mean = np.mean(test_scores, axis=1)\n",
    "    test_scores_std = np.std(test_scores, axis=1)\n",
    "\n",
    "    _, ax = plt.subplots(1, 1, figsize=(20, 5))\n",
    "    # Plot learning curve\n",
    "    ax.grid()\n",
    "    ax.fill_between(train_sizes,\n",
    "                    train_scores_mean - train_scores_std,\n",
    "                    train_scores_mean + train_scores_std,\n",
    "                    alpha=0.1,\n",
    "                    color=\"r\")\n",
    "    ax.fill_between(train_sizes,\n",
    "                    test_scores_mean - test_scores_std,\n",
    "                    test_scores_mean + test_scores_std,\n",
    "                    alpha=0.1,\n",
    "                    color=\"g\")\n",
    "    ax.plot(train_sizes,\n",
    "            train_scores_mean,\n",
    "            'o-',\n",
    "            color=\"r\",\n",
    "            label=\"Training score\")\n",
    "    ax.plot(train_sizes,\n",
    "            test_scores_mean,\n",
    "            'o-',\n",
    "            color=\"g\",\n",
    "            label=\"Cross-validation score\")\n",
    "    ax.legend(loc=\"best\")\n",
    "\n",
    "\n",
    "from sklearn.base import TransformerMixin\n",
    "\n",
    "\n",
    "class Dense(TransformerMixin):\n",
    "    def fit(self, X, y=None):\n",
    "        return self\n",
    "\n",
    "    def transform(self, X, y=None):\n",
    "        return X.todense()\n",
    "\n",
    "    def fit_transform(self, X, y=None):\n",
    "        return X.todense()\n",
    "\n",
    "\n",
    "def checking(pipe, data_samples, y, r_seed, n_jobs, scoring = 'roc_auc', cv =3):\n",
    "    # split data to train/validation sets\n",
    "    X_train, X_validation, y_train, y_validation = split_data(\n",
    "        data_samples, y, r_seed)\n",
    "\n",
    "    print(\"Fitting train ...\")\n",
    "    t0 = time()\n",
    "    pipe.fit(X_train, y_train)\n",
    "    print((\"done in %0.3fs.\" % (time() - t0)))\n",
    "    \n",
    "    print(\"Predicting validation ...\")\n",
    "    t0 = time()\n",
    "    probs = pipe.predict_proba(X_validation)[:, 1]\n",
    "    print((\"done in %0.3fs.\" % (time() - t0)))\n",
    "    \n",
    "    print(f\"AUC score : {roc_auc_score(y_validation, probs).round(4)}\")\n",
    "    print(\"Cross-validation ...\")\n",
    "    t0 = time()\n",
    "    print('roc_auc')\n",
    "    scores = cross_val_score(pipe,\n",
    "                             data_samples,\n",
    "                             y,\n",
    "                             cv=cv,\n",
    "                             n_jobs=n_jobs,\n",
    "                             scoring=scoring)\n",
    "    print((scores.round(4), scores.mean().round(4), scores.std().round(4)))\n",
    "    print((\"done in %0.3fs.\" % (time() - t0)))"
   ]
  },
  {
   "cell_type": "markdown",
   "metadata": {},
   "source": [
    "# Data samples"
   ]
  },
  {
   "cell_type": "markdown",
   "metadata": {},
   "source": [
    "## load data samples"
   ]
  },
  {
   "cell_type": "code",
   "execution_count": 35,
   "metadata": {
    "ExecuteTime": {
     "end_time": "2020-05-22T01:51:16.621154Z",
     "start_time": "2020-05-22T01:51:16.607927Z"
    }
   },
   "outputs": [],
   "source": [
    "punctuation = set(f\"{string.punctuation}“”¨«»®´·º½¾¿¡§£₤‘’`\")-set(\"+-!\")\n",
    "\n",
    "# load data\n",
    "PATH_TO_DATA = './simplesentiment/'\n",
    "files = ['products_sentiment_train.tsv', 'products_sentiment_test.tsv']\n",
    "train =  pd.read_csv(PATH_TO_DATA+files[0], sep = '\\t', header = None, names = ['text', 'target'])\n",
    "# train, taget, test\n",
    "data_samples = train.text\n",
    "y = train.target"
   ]
  },
  {
   "cell_type": "markdown",
   "metadata": {},
   "source": [
    "## split data to train/validation"
   ]
  },
  {
   "cell_type": "code",
   "execution_count": 36,
   "metadata": {
    "ExecuteTime": {
     "end_time": "2020-05-22T01:51:16.630267Z",
     "start_time": "2020-05-22T01:51:16.623298Z"
    }
   },
   "outputs": [],
   "source": [
    "r_seed = 22\n",
    "# split data to train/validation sets\n",
    "X_train, X_val, y_train, y_val = split_data(data_samples, y, r_seed)"
   ]
  },
  {
   "cell_type": "markdown",
   "metadata": {
    "ExecuteTime": {
     "end_time": "2020-05-07T21:44:10.009175Z",
     "start_time": "2020-05-07T21:44:10.005678Z"
    }
   },
   "source": [
    "# Models"
   ]
  },
  {
   "cell_type": "markdown",
   "metadata": {},
   "source": [
    "## Word n-grams"
   ]
  },
  {
   "cell_type": "markdown",
   "metadata": {},
   "source": [
    "### clearance"
   ]
  },
  {
   "cell_type": "code",
   "execution_count": 37,
   "metadata": {
    "ExecuteTime": {
     "end_time": "2020-05-22T01:51:16.660740Z",
     "start_time": "2020-05-22T01:51:16.632254Z"
    }
   },
   "outputs": [],
   "source": [
    "import re\n",
    "import nltk\n",
    "from nltk.stem import SnowballStemmer, PorterStemmer\n",
    "from toolz import compose\n",
    "from nltk.corpus import wordnet\n",
    "from nltk.stem import WordNetLemmatizer\n",
    "from nltk.tokenize import word_tokenize\n",
    "\n",
    "REPLACE_BY_SPACE_RE = re.compile('[{}\\[\\]\\|@,;\\.]')\n",
    "NUMBER = re.compile('[0-9]+')\n",
    "# STOPWORDS = {\n",
    "#     'any', 'to', 'a', 'an', 'from', 'in', 'the', 'as', 'for', 'and', 'or',\n",
    "#     'my', 'even', 'that', 'be' ,'do'\n",
    "# }\n",
    "STOPWORDS = {\n",
    "    'a', 'an', 'the', \"to\", \"very\", \"even\", \"really\", \"too\", \"so\", \"only\",\n",
    "    \"even\", \"just\", 'i', 'you', 'he', 'she', 'it', 'we', 'they'\n",
    "}\n",
    "\n",
    "# STOPWORDS = {\n",
    "#     'a', 'an', 'the'\n",
    "# }\n",
    "\n",
    "\n",
    "def get_wordnet_pos(word):\n",
    "    \"\"\"Map POS tag to first character lemmatize() accepts\"\"\"\n",
    "    tag = nltk.pos_tag([word])[0][1][0].upper()\n",
    "    tag_dict = {\n",
    "        \"J\": wordnet.ADJ,\n",
    "        \"N\": wordnet.NOUN,\n",
    "        \"V\": wordnet.VERB,\n",
    "        \"R\": wordnet.ADV\n",
    "    }\n",
    "    return tag_dict.get(tag, wordnet.NOUN)  # NOUN as default\n",
    "\n",
    "\n",
    "def get_lemmas(docs):\n",
    "    lemmatizer = WordNetLemmatizer()\n",
    "    return [\n",
    "        lemmatizer.lemmatize(w, get_wordnet_pos(w)) for w in get_words(docs)\n",
    "    ]\n",
    "\n",
    "\n",
    "def fix(text):\n",
    "    fixes = [(\" a lot \", \" alot \"), (' wouldt ', ' would not '),\n",
    "             (' arent ', ' are not '), (' couldnt ', ' could not '),\n",
    "             (' didnt ', ' did not '), (' doesnt ', ' do not '),\n",
    "             (\" can't \", \" can not \"), (\" shan't\", \" shall not \"),\n",
    "             (\" can 't \", \" can not \"), (' dont ', ' do not '),\n",
    "             (\" shan 't\", \" shall not \"), (\" won't \", \" will not \"),\n",
    "             (\" won 't \", \" will not \"), (\"n 't \", ' not '), (\"n't \", ' not '),\n",
    "             (\"'t \", ' not '), (\"'t \", ' not '), (\"' t \", ' not '),\n",
    "             (\"'d \", ' would '), (\"' d \", ' would '), (\"' ve \", ' have '),\n",
    "             (\"'ve \", ' have '), (\"'s \", ' be '), (\"' s \", ' be '),\n",
    "             (\"' re \", ' be '), (\"'re \", ' be '), (\"'m \", \" be \"),\n",
    "             (\"' m \", \" be \"), (\"'ll \", \" will \"), (\"' ll \", \" will \"),\n",
    "             (\" aren \", \"are not\"), (\" couldn \", \" could not \"),\n",
    "             (\"didn\", \" did not \"), (\"doesn\", \" does not \"),\n",
    "             (\" don \", \" do not \"), (\"hadn\", \" had not \"), (\"hasn\", \"has not\"),\n",
    "             (\"haven\", \" have not \"), (\" isn \", \" is not \"),\n",
    "             (\"mightn\", \" might not \"), (\"mustn\", \" must not \"),\n",
    "             (\"needn\", \" need not \"), (\"shouldn\", \" should not \"),\n",
    "             (\"wouldn\", \" would not \"), (\"weren\", \" were not \")]\n",
    "\n",
    "    for fix in fixes:\n",
    "        text = re.sub(\"(\\s*)\" + fix[0] + \"\\s*\", fix[1], text)\n",
    "    return text\n",
    "\n",
    "\n",
    "def fix_appends(text):\n",
    "    text = re.sub('(^|\\s+)not\\s+', ' not_', text)\n",
    "    #     text = re.sub('_not ', '_not', text)\n",
    "    text = re.sub('(^|\\s+)no\\s+', ' no_', text)\n",
    "    return text\n",
    "\n",
    "\n",
    "def lemming(text):\n",
    "    lemmatizer = WordNetLemmatizer()\n",
    "    return [\n",
    "        lemmatizer.lemmatize(word, get_wordnet_pos(word))\n",
    "        for word in word_tokenize(text)\n",
    "    ]\n",
    "\n",
    "\n",
    "def clean_text(text):\n",
    "    text = text.lower()  # lowercase text\n",
    "    text = re.sub(' +', ' ', text)\n",
    "    text = \" \".join(lemming(text))\n",
    "    text = ' '.join(word for word in text.split() if word not in STOPWORDS)\n",
    "    text = fix(text)\n",
    "    text = re.sub(' +', ' ', text)\n",
    "    text = \" \".join(lemming(text))\n",
    "    text = fix(text)\n",
    "    text = ' '.join(word for word in text.split() if word not in STOPWORDS)\n",
    "    text = fix_appends(text)\n",
    "    return text"
   ]
  },
  {
   "cell_type": "code",
   "execution_count": 38,
   "metadata": {
    "ExecuteTime": {
     "end_time": "2020-05-22T01:51:29.510929Z",
     "start_time": "2020-05-22T01:51:16.662346Z"
    }
   },
   "outputs": [],
   "source": [
    "data_samples_cleared = [clean_text(t) for t in data_samples]"
   ]
  },
  {
   "cell_type": "markdown",
   "metadata": {
    "ExecuteTime": {
     "end_time": "2020-05-13T13:49:36.673962Z",
     "start_time": "2020-05-13T13:49:36.670965Z"
    }
   },
   "source": [
    "### Classifiers"
   ]
  },
  {
   "cell_type": "markdown",
   "metadata": {
    "ExecuteTime": {
     "end_time": "2020-05-16T02:38:29.461270Z",
     "start_time": "2020-05-16T02:38:29.458522Z"
    }
   },
   "source": [
    "#### NB"
   ]
  },
  {
   "cell_type": "code",
   "execution_count": 39,
   "metadata": {
    "ExecuteTime": {
     "end_time": "2020-05-22T01:51:34.627197Z",
     "start_time": "2020-05-22T01:51:29.512878Z"
    }
   },
   "outputs": [
    {
     "name": "stdout",
     "output_type": "stream",
     "text": [
      "Fitting train ...\n",
      "done in 0.464s.\n",
      "Predicting validation ...\n",
      "done in 0.167s.\n",
      "AUC score : 0.8548\n",
      "Cross-validation ...\n",
      "roc_auc\n",
      "(array([0.866 , 0.8774, 0.87  , 0.8636, 0.8781]), 0.871, 0.0059)\n",
      "done in 4.465s.\n"
     ]
    }
   ],
   "source": [
    "# data transformer - vectorizer\n",
    "vectorizer = CountVectorizer(\n",
    "    ngram_range=(1, 3),\n",
    "    min_df=1,\n",
    "#     preprocessor=clean_text,\n",
    "    tokenizer=word_tokenize,\n",
    "    analyzer='word',\n",
    ")\n",
    "\n",
    "cls = ComplementNB()\n",
    "pipe = pipeline_imb(\n",
    "    steps=[\n",
    "        ('vectorizer', vectorizer),\n",
    "        ('sampling', RandomOverSampler(random_state=0)),\n",
    "        (\"tfidf\", TfidfTransformer()),\n",
    "        ('cls', cls)])\n",
    "checking(pipe, data_samples_cleared, y, 10, n_jobs=4, scoring='roc_auc', cv=5)"
   ]
  },
  {
   "cell_type": "raw",
   "metadata": {},
   "source": [
    "roc_auc\n",
    "(array([0.8657, 0.8935, 0.8777, 0.8751, 0.8937]), 0.8812, 0.0109) \"of\"\n",
    "roc_auc\n",
    "(array([0.8682, 0.8931, 0.8753, 0.8742, 0.8929]), 0.8807, 0.0103)"
   ]
  },
  {
   "cell_type": "markdown",
   "metadata": {},
   "source": [
    "#### Logistic Regression"
   ]
  },
  {
   "cell_type": "code",
   "execution_count": 40,
   "metadata": {
    "ExecuteTime": {
     "end_time": "2020-05-22T01:51:34.639546Z",
     "start_time": "2020-05-22T01:51:34.632371Z"
    }
   },
   "outputs": [],
   "source": [
    "cls = LogisticRegression(C=15, random_state=0, solver='liblinear')\n",
    "pipe = pipeline_imb(steps=[\n",
    "    ('vectorizer', vectorizer),\n",
    "    (\"tfidf\", TfidfTransformer()),\n",
    "    ('sampling', RandomOverSampler(random_state=0)),\n",
    "    ('cls', cls)\n",
    "])"
   ]
  },
  {
   "cell_type": "code",
   "execution_count": 41,
   "metadata": {
    "ExecuteTime": {
     "end_time": "2020-05-22T01:51:40.937229Z",
     "start_time": "2020-05-22T01:51:34.642339Z"
    }
   },
   "outputs": [
    {
     "name": "stdout",
     "output_type": "stream",
     "text": [
      "Fitting train ...\n",
      "done in 0.624s.\n",
      "Predicting validation ...\n",
      "done in 0.176s.\n",
      "AUC score : 0.8412\n",
      "Cross-validation ...\n",
      "roc_auc\n",
      "(array([0.8654, 0.8653, 0.862 , 0.8494, 0.8629]), 0.861, 0.0059)\n",
      "done in 5.440s.\n"
     ]
    }
   ],
   "source": [
    "checking(pipe, data_samples_cleared, y, 22, n_jobs=5, scoring='roc_auc', cv=5)"
   ]
  },
  {
   "cell_type": "raw",
   "metadata": {},
   "source": [
    "Fitting train ...\n",
    "done in 7.278s.\n",
    "Predicting validation ...\n",
    "done in 3.482s.\n",
    "AUC score : 0.8355\n",
    "Cross-validation ...\n",
    "roc_auc\n",
    "(array([0.8626, 0.8574, 0.8575, 0.862 , 0.8525]), 0.8584, 0.0037)\n",
    "done in 31.784s."
   ]
  },
  {
   "cell_type": "raw",
   "metadata": {},
   "source": [
    "(array([0.865 , 0.8659, 0.8828, 0.862 , 0.8657]), 0.8683, 0.0074)\n",
    "(array([0.8607, 0.8622, 0.8752, 0.8638, 0.8659]), 0.8656, 0.0051) C==7, no_preprocessor"
   ]
  },
  {
   "cell_type": "code",
   "execution_count": 42,
   "metadata": {
    "ExecuteTime": {
     "end_time": "2020-05-22T01:51:41.775240Z",
     "start_time": "2020-05-22T01:51:40.940258Z"
    }
   },
   "outputs": [
    {
     "name": "stdout",
     "output_type": "stream",
     "text": [
      "              precision    recall  f1-score   support\n",
      "\n",
      "           0       0.73      0.61      0.66       240\n",
      "           1       0.80      0.87      0.83       420\n",
      "\n",
      "    accuracy                           0.78       660\n",
      "   macro avg       0.76      0.74      0.75       660\n",
      "weighted avg       0.77      0.78      0.77       660\n",
      "\n"
     ]
    }
   ],
   "source": [
    "pipe.fit(X_train,y_train)\n",
    "print(classification_report(y_val, pipe.predict(X_val)))"
   ]
  },
  {
   "cell_type": "code",
   "execution_count": 43,
   "metadata": {
    "ExecuteTime": {
     "end_time": "2020-05-22T01:51:42.002520Z",
     "start_time": "2020-05-22T01:51:41.777934Z"
    }
   },
   "outputs": [
    {
     "data": {
      "text/plain": [
       "array([[146,  94],\n",
       "       [ 54, 366]])"
      ]
     },
     "execution_count": 43,
     "metadata": {},
     "output_type": "execute_result"
    }
   ],
   "source": [
    "confusion_matrix(y_val, pipe.predict(X_val), labels = [0, 1])"
   ]
  },
  {
   "cell_type": "code",
   "execution_count": 44,
   "metadata": {
    "ExecuteTime": {
     "end_time": "2020-05-22T01:51:42.223715Z",
     "start_time": "2020-05-22T01:51:42.004790Z"
    }
   },
   "outputs": [
    {
     "data": {
      "text/plain": [
       "148"
      ]
     },
     "execution_count": 44,
     "metadata": {},
     "output_type": "execute_result"
    }
   ],
   "source": [
    "errors = list(X_val[pipe.predict(X_val)!=y_val])\n",
    "len(errors)"
   ]
  },
  {
   "cell_type": "code",
   "execution_count": 45,
   "metadata": {
    "ExecuteTime": {
     "end_time": "2020-05-22T01:52:00.729917Z",
     "start_time": "2020-05-22T01:51:42.227420Z"
    }
   },
   "outputs": [
    {
     "name": "stdout",
     "output_type": "stream",
     "text": [
      "Fitting 5 folds for each of 20 candidates, totalling 100 fits\n"
     ]
    },
    {
     "name": "stderr",
     "output_type": "stream",
     "text": [
      "[Parallel(n_jobs=5)]: Using backend LokyBackend with 5 concurrent workers.\n",
      "[Parallel(n_jobs=5)]: Done  40 tasks      | elapsed:    7.6s\n",
      "[Parallel(n_jobs=5)]: Done 100 out of 100 | elapsed:   17.8s finished\n"
     ]
    },
    {
     "name": "stdout",
     "output_type": "stream",
     "text": [
      "0.8612 {'cls__C': 17.530230816689564}\n"
     ]
    }
   ],
   "source": [
    "param_distributions = {'cls__C': uniform(loc=1, scale=19)}\n",
    "search = RandomizedSearchCV(pipe,\n",
    "                            param_distributions,\n",
    "                            verbose=1,\n",
    "                            n_jobs=5,\n",
    "                            n_iter=20,\n",
    "                            scoring='roc_auc',\n",
    "                            random_state=0)\n",
    "search.fit(data_samples_cleared, y)\n",
    "print(search.best_score_.round(4), search.best_params_)"
   ]
  },
  {
   "cell_type": "raw",
   "metadata": {},
   "source": [
    "0.8661 {'cls__C': 26.455561210462697}"
   ]
  },
  {
   "cell_type": "code",
   "execution_count": 46,
   "metadata": {
    "ExecuteTime": {
     "end_time": "2020-05-22T01:52:01.056266Z",
     "start_time": "2020-05-22T01:52:00.732017Z"
    }
   },
   "outputs": [
    {
     "data": {
      "text/plain": [
       "<matplotlib.collections.PathCollection at 0x7fc694a6dad0>"
      ]
     },
     "execution_count": 46,
     "metadata": {},
     "output_type": "execute_result"
    },
    {
     "data": {
      "image/png": "[encoded data removed]",
      "text/plain": [
       "<Figure size 432x288 with 1 Axes>"
      ]
     },
     "metadata": {
      "needs_background": "light"
     },
     "output_type": "display_data"
    }
   ],
   "source": [
    "plt.scatter(search.cv_results_['param_cls__C'].data,\n",
    "            search.cv_results_['mean_test_score'],\n",
    "            s=2,\n",
    "            marker=\"_\")"
   ]
  },
  {
   "cell_type": "code",
   "execution_count": 47,
   "metadata": {
    "ExecuteTime": {
     "end_time": "2020-05-22T01:52:01.070270Z",
     "start_time": "2020-05-22T01:52:01.058181Z"
    }
   },
   "outputs": [
    {
     "data": {
      "text/plain": [
       "{'mean_fit_time': array([0.83406091, 0.77796817, 0.61570401, 0.7491457 , 0.76546907,\n",
       "        0.71221094, 0.6728569 , 0.76191258, 0.69354992, 0.68966565,\n",
       "        0.83629556, 0.7632822 , 0.68165655, 0.77219357, 0.63745151,\n",
       "        0.70986485, 0.73662572, 0.66479282, 0.77386494, 0.63048515]),\n",
       " 'std_fit_time': array([0.1451638 , 0.19479949, 0.02052539, 0.18121829, 0.18830062,\n",
       "        0.14428176, 0.11338362, 0.18595728, 0.15390937, 0.14437411,\n",
       "        0.12384558, 0.16762193, 0.15390466, 0.18263699, 0.08683358,\n",
       "        0.14174298, 0.17730982, 0.08680751, 0.17828701, 0.06619739]),\n",
       " 'mean_score_time': array([0.15050039, 0.14864483, 0.11752033, 0.15202627, 0.14799871,\n",
       "        0.15277796, 0.13025179, 0.14744115, 0.14242249, 0.14010139,\n",
       "        0.14342384, 0.15081649, 0.14268355, 0.14922247, 0.11396551,\n",
       "        0.14798107, 0.14785204, 0.14732242, 0.14874487, 0.1094151 ]),\n",
       " 'std_score_time': array([0.03893102, 0.04000906, 0.0047528 , 0.04122433, 0.03444184,\n",
       "        0.03810209, 0.03149256, 0.04000573, 0.03182482, 0.03226668,\n",
       "        0.03409945, 0.0412594 , 0.03226425, 0.04092864, 0.00270676,\n",
       "        0.04143384, 0.04085706, 0.03735657, 0.03659497, 0.00502002]),\n",
       " 'param_cls__C': masked_array(data=[11.427456574619171, 14.58859796107597,\n",
       "                    12.452504145361234, 11.35278047694104,\n",
       "                    9.04944118743919, 13.271988148266466,\n",
       "                    9.314157013991158, 17.943687014859517,\n",
       "                    19.309592449519556, 8.285388857689776,\n",
       "                    16.042775723570628, 11.049003475305184,\n",
       "                    11.792846660784713, 18.58633612756056,\n",
       "                    2.349685105759852, 2.6554566943292732,\n",
       "                    1.3841495513661886, 16.819777065410822,\n",
       "                    15.784978268047158, 17.530230816689564],\n",
       "              mask=[False, False, False, False, False, False, False, False,\n",
       "                    False, False, False, False, False, False, False, False,\n",
       "                    False, False, False, False],\n",
       "        fill_value='?',\n",
       "             dtype=object),\n",
       " 'params': [{'cls__C': 11.427456574619171},\n",
       "  {'cls__C': 14.58859796107597},\n",
       "  {'cls__C': 12.452504145361234},\n",
       "  {'cls__C': 11.35278047694104},\n",
       "  {'cls__C': 9.04944118743919},\n",
       "  {'cls__C': 13.271988148266466},\n",
       "  {'cls__C': 9.314157013991158},\n",
       "  {'cls__C': 17.943687014859517},\n",
       "  {'cls__C': 19.309592449519556},\n",
       "  {'cls__C': 8.285388857689776},\n",
       "  {'cls__C': 16.042775723570628},\n",
       "  {'cls__C': 11.049003475305184},\n",
       "  {'cls__C': 11.792846660784713},\n",
       "  {'cls__C': 18.58633612756056},\n",
       "  {'cls__C': 2.349685105759852},\n",
       "  {'cls__C': 2.6554566943292732},\n",
       "  {'cls__C': 1.3841495513661886},\n",
       "  {'cls__C': 16.819777065410822},\n",
       "  {'cls__C': 15.784978268047158},\n",
       "  {'cls__C': 17.530230816689564}],\n",
       " 'split0_test_score': array([0.86490872, 0.86534145, 0.86493577, 0.86490872, 0.86436782,\n",
       "        0.86528736, 0.864476  , 0.86569304, 0.86580122, 0.86407032,\n",
       "        0.86555781, 0.86480054, 0.86490872, 0.86574713, 0.85714672,\n",
       "        0.85779581, 0.85336038, 0.86569304, 0.86553076, 0.86569304]),\n",
       " 'split1_test_score': array([0.86553076, 0.86542258, 0.86539554, 0.8656119 , 0.86582826,\n",
       "        0.86544963, 0.86580122, 0.86539554, 0.86534145, 0.86604462,\n",
       "        0.86536849, 0.86569304, 0.86544963, 0.86539554, 0.86628803,\n",
       "        0.86604462, 0.86588235, 0.86534145, 0.86539554, 0.86539554]),\n",
       " 'split2_test_score': array([0.8616092 , 0.86206897, 0.8618526 , 0.86152806, 0.86112238,\n",
       "        0.86198783, 0.86112238, 0.86258283, 0.86255578, 0.86060852,\n",
       "        0.86220419, 0.86147397, 0.86190669, 0.86250169, 0.85617309,\n",
       "        0.85676809, 0.85279243, 0.86236646, 0.86212306, 0.86260987]),\n",
       " 'split3_test_score': array([0.8488979 , 0.84938472, 0.8491954 , 0.84895199, 0.84819473,\n",
       "        0.8494929 , 0.84819473, 0.84900609, 0.84911427, 0.84768087,\n",
       "        0.84924949, 0.84884381, 0.84903313, 0.84906018, 0.84475997,\n",
       "        0.84516565, 0.84265044, 0.84906018, 0.84930358, 0.84903313]),\n",
       " 'split4_test_score': array([0.86328336, 0.86298673, 0.86325639, 0.86328336, 0.86314853,\n",
       "        0.86304066, 0.86314853, 0.86312156, 0.86295977, 0.86314853,\n",
       "        0.8630137 , 0.86322943, 0.86331032, 0.8630137 , 0.86271707,\n",
       "        0.86274404, 0.8630137 , 0.86306763, 0.86298673, 0.86314853]),\n",
       " 'mean_test_score': array([0.86084599, 0.86104089, 0.86092714, 0.86085681, 0.86053234,\n",
       "        0.86105168, 0.86054857, 0.86115981, 0.8611545 , 0.86031057,\n",
       "        0.86107874, 0.86080816, 0.8609217 , 0.86114365, 0.85741698,\n",
       "        0.85770364, 0.85553986, 0.86110575, 0.86106793, 0.86117602]),\n",
       " 'std_test_score': array([0.00612753, 0.00597333, 0.00599919, 0.00611706, 0.00635873,\n",
       "        0.00592825, 0.00636744, 0.00619803, 0.00615325, 0.00655236,\n",
       "        0.0060565 , 0.00615228, 0.00607309, 0.0061745 , 0.00732948,\n",
       "        0.00711425, 0.00826149, 0.0061566 , 0.00603059, 0.00619038]),\n",
       " 'rank_test_score': array([13,  9, 10, 12, 16,  8, 15,  2,  3, 17,  6, 14, 11,  4, 19, 18, 20,\n",
       "         5,  7,  1], dtype=int32)}"
      ]
     },
     "execution_count": 47,
     "metadata": {},
     "output_type": "execute_result"
    }
   ],
   "source": [
    "search.cv_results_"
   ]
  },
  {
   "cell_type": "code",
   "execution_count": 48,
   "metadata": {
    "ExecuteTime": {
     "end_time": "2020-05-22T01:52:06.998958Z",
     "start_time": "2020-05-22T01:52:01.071821Z"
    },
    "scrolled": true
   },
   "outputs": [
    {
     "data": {
      "image/png": "[encoded data removed]",
      "text/plain": [
       "<Figure size 1440x360 with 1 Axes>"
      ]
     },
     "metadata": {
      "needs_background": "light"
     },
     "output_type": "display_data"
    }
   ],
   "source": [
    "curve_plot(pipe, data_samples_cleared, y, 6)"
   ]
  },
  {
   "cell_type": "code",
   "execution_count": 49,
   "metadata": {
    "ExecuteTime": {
     "end_time": "2020-05-22T01:52:10.627306Z",
     "start_time": "2020-05-22T01:52:07.001680Z"
    }
   },
   "outputs": [
    {
     "data": {
      "text/plain": [
       "[(0.7915, 0.0073, array([0.7925, 0.805 , 0.785 , 0.785 , 0.79  ]))]"
      ]
     },
     "execution_count": 49,
     "metadata": {},
     "output_type": "execute_result"
    }
   ],
   "source": [
    "[(x.mean().round(4), x.std().round(4), x.round(4)) for x  in [cross_val_score(pipe, data_samples, y)]]"
   ]
  },
  {
   "cell_type": "raw",
   "metadata": {
    "ExecuteTime": {
     "end_time": "2020-05-13T20:27:24.441790Z",
     "start_time": "2020-05-13T20:27:24.410321Z"
    }
   },
   "source": [
    "[(0.792, 0.006, array([0.7925, 0.8025, 0.7925, 0.785 , 0.7875]))] C==7 no preprocessor"
   ]
  },
  {
   "cell_type": "markdown",
   "metadata": {},
   "source": [
    "#### SVM"
   ]
  },
  {
   "cell_type": "code",
   "execution_count": 50,
   "metadata": {
    "ExecuteTime": {
     "end_time": "2020-05-22T01:52:29.953829Z",
     "start_time": "2020-05-22T01:52:10.629047Z"
    }
   },
   "outputs": [
    {
     "name": "stdout",
     "output_type": "stream",
     "text": [
      "Fitting train ...\n",
      "done in 3.653s.\n",
      "Predicting validation ...\n",
      "done in 0.332s.\n",
      "AUC score : 0.8436\n",
      "Cross-validation ...\n",
      "roc_auc\n",
      "(array([0.8672, 0.8661, 0.8627, 0.8478, 0.8627]), 0.8613, 0.007)\n",
      "done in 15.324s.\n"
     ]
    }
   ],
   "source": [
    "cls = SVC(kernel='rbf',\n",
    "          random_state=0,\n",
    "          class_weight='balanced',\n",
    "          probability=True,\n",
    "          C=10.0)\n",
    "pipe = pipeline_imb(steps=[\n",
    "    ('vectorizer', vectorizer), (\"tfidf\", TfidfTransformer()),\n",
    "    ('sampling', RandomOverSampler(random_state=0)),\n",
    "    ('cls', cls)])\n",
    "checking(pipe, data_samples_cleared, y, 22, n_jobs=4, scoring='roc_auc', cv=5)"
   ]
  },
  {
   "cell_type": "code",
   "execution_count": 51,
   "metadata": {
    "ExecuteTime": {
     "end_time": "2020-05-22T01:55:36.942488Z",
     "start_time": "2020-05-22T01:52:29.956750Z"
    }
   },
   "outputs": [
    {
     "name": "stdout",
     "output_type": "stream",
     "text": [
      "Fitting 5 folds for each of 20 candidates, totalling 100 fits\n"
     ]
    },
    {
     "name": "stderr",
     "output_type": "stream",
     "text": [
      "[Parallel(n_jobs=4)]: Using backend LokyBackend with 4 concurrent workers.\n",
      "[Parallel(n_jobs=4)]: Done  42 tasks      | elapsed:  1.3min\n",
      "[Parallel(n_jobs=4)]: Done 100 out of 100 | elapsed:  3.0min finished\n"
     ]
    },
    {
     "name": "stdout",
     "output_type": "stream",
     "text": [
      "0.8613 {'cls__C': 12.66095459919013}\n"
     ]
    }
   ],
   "source": [
    "param_distributions = {'cls__C': uniform(loc=0, scale=20)}\n",
    "search = RandomizedSearchCV(\n",
    "    pipe, param_distributions, verbose=1, n_jobs=4, n_iter=20, scoring='roc_auc')\n",
    "search.fit(data_samples_cleared, y)\n",
    "print(search.best_score_.round(4), search.best_params_)"
   ]
  },
  {
   "cell_type": "code",
   "execution_count": 52,
   "metadata": {
    "ExecuteTime": {
     "end_time": "2020-05-22T01:55:37.115893Z",
     "start_time": "2020-05-22T01:55:36.946586Z"
    }
   },
   "outputs": [
    {
     "data": {
      "text/plain": [
       "<matplotlib.collections.PathCollection at 0x7fc696b7bf90>"
      ]
     },
     "execution_count": 52,
     "metadata": {},
     "output_type": "execute_result"
    },
    {
     "data": {
      "image/png": "[encoded data removed]",
      "text/plain": [
       "<Figure size 432x288 with 1 Axes>"
      ]
     },
     "metadata": {
      "needs_background": "light"
     },
     "output_type": "display_data"
    }
   ],
   "source": [
    "plt.scatter(search.cv_results_['param_cls__C'].data,\n",
    "            search.cv_results_['mean_test_score'],\n",
    "            s=2,\n",
    "            marker=\"_\")"
   ]
  },
  {
   "cell_type": "code",
   "execution_count": 53,
   "metadata": {
    "ExecuteTime": {
     "end_time": "2020-05-22T01:55:37.124524Z",
     "start_time": "2020-05-22T01:55:37.118160Z"
    }
   },
   "outputs": [],
   "source": [
    "class SVCt(SVC):\n",
    "    def __init__(self, t=0.5, **kwargs):\n",
    "        kwargs['probability'] = True\n",
    "        super().__init__(**kwargs)\n",
    "        self.t = t\n",
    "        \n",
    "    def predict(self, X):\n",
    "        probs = self.predict_proba(X)[:, 1]\n",
    "        return (probs>self.t).astype(int)"
   ]
  },
  {
   "cell_type": "code",
   "execution_count": 54,
   "metadata": {
    "ExecuteTime": {
     "end_time": "2020-05-22T01:55:37.177146Z",
     "start_time": "2020-05-22T01:55:37.126806Z"
    }
   },
   "outputs": [],
   "source": [
    "cls = SVCt(kernel='rbf',\n",
    "           random_state=0,\n",
    "           class_weight='balanced',\n",
    "           probability=True,\n",
    "           C=15,\n",
    "           t=0.68)\n",
    "\n",
    "\n",
    "pipe = pipeline_imb(\n",
    "    steps=[('vectorizer',\n",
    "            vectorizer), ('sampling',\n",
    "                          RandomOverSampler(random_state=0)), ('cls', cls)])"
   ]
  },
  {
   "cell_type": "code",
   "execution_count": 55,
   "metadata": {
    "ExecuteTime": {
     "end_time": "2020-05-22T01:55:55.266260Z",
     "start_time": "2020-05-22T01:55:37.181152Z"
    }
   },
   "outputs": [
    {
     "name": "stdout",
     "output_type": "stream",
     "text": [
      "Fitting train ...\n",
      "done in 3.600s.\n",
      "Predicting validation ...\n",
      "done in 0.337s.\n",
      "AUC score : 0.8247\n",
      "Cross-validation ...\n",
      "roc_auc\n",
      "(array([0.8233, 0.8402, 0.8196, 0.8059, 0.8234]), 0.8225, 0.0109)\n",
      "done in 14.133s.\n"
     ]
    }
   ],
   "source": [
    "checking(pipe, data_samples_cleared, y, 22, n_jobs=8, scoring='roc_auc', cv=5)"
   ]
  },
  {
   "cell_type": "code",
   "execution_count": 56,
   "metadata": {
    "ExecuteTime": {
     "end_time": "2020-05-22T01:56:26.336199Z",
     "start_time": "2020-05-22T01:55:55.269151Z"
    }
   },
   "outputs": [
    {
     "data": {
      "image/png": "[encoded data removed]",
      "text/plain": [
       "<Figure size 1440x360 with 1 Axes>"
      ]
     },
     "metadata": {
      "needs_background": "light"
     },
     "output_type": "display_data"
    }
   ],
   "source": [
    "curve_plot(pipe, data_samples_cleared, y, 8)"
   ]
  },
  {
   "cell_type": "code",
   "execution_count": 57,
   "metadata": {
    "ExecuteTime": {
     "end_time": "2020-05-22T01:56:57.837581Z",
     "start_time": "2020-05-22T01:56:26.338521Z"
    }
   },
   "outputs": [
    {
     "data": {
      "text/plain": [
       "[(0.764, 0.0198, array([0.76  , 0.7925, 0.76  , 0.7325, 0.775 ]))]"
      ]
     },
     "execution_count": 57,
     "metadata": {},
     "output_type": "execute_result"
    }
   ],
   "source": [
    "[(x.mean().round(4), x.std().round(4), x.round(4)) for x  in [cross_val_score(pipe, data_samples_cleared, y)]]"
   ]
  },
  {
   "cell_type": "raw",
   "metadata": {},
   "source": [
    "[(0.7925, 0.0035, array([0.7975, 0.79  , 0.7925, 0.7875, 0.795 ]))] C==15"
   ]
  },
  {
   "cell_type": "markdown",
   "metadata": {
    "ExecuteTime": {
     "end_time": "2020-05-13T02:07:11.016636Z",
     "start_time": "2020-05-13T02:07:11.014025Z"
    }
   },
   "source": [
    "## Chars n-grams"
   ]
  },
  {
   "cell_type": "markdown",
   "metadata": {},
   "source": [
    "### model"
   ]
  },
  {
   "cell_type": "code",
   "execution_count": 63,
   "metadata": {
    "ExecuteTime": {
     "end_time": "2020-05-22T02:56:09.716595Z",
     "start_time": "2020-05-22T02:56:09.712899Z"
    }
   },
   "outputs": [],
   "source": [
    "# data transformer - vectorizer\n",
    "vectorizer = TfidfVectorizer(\n",
    "    ngram_range=(2, 6),\n",
    "    min_df=1,\n",
    "    analyzer='char'\n",
    ")\n"
   ]
  },
  {
   "cell_type": "markdown",
   "metadata": {
    "ExecuteTime": {
     "end_time": "2020-05-13T13:49:36.673962Z",
     "start_time": "2020-05-13T13:49:36.670965Z"
    }
   },
   "source": [
    "### Classifiers"
   ]
  },
  {
   "cell_type": "markdown",
   "metadata": {},
   "source": [
    "#### Logistic Regression"
   ]
  },
  {
   "cell_type": "code",
   "execution_count": 64,
   "metadata": {
    "ExecuteTime": {
     "end_time": "2020-05-22T02:56:56.205735Z",
     "start_time": "2020-05-22T02:56:49.298626Z"
    }
   },
   "outputs": [
    {
     "name": "stdout",
     "output_type": "stream",
     "text": [
      "Fitting train ...\n",
      "done in 0.789s.\n",
      "Predicting validation ...\n",
      "done in 0.242s.\n",
      "AUC score : 0.8567\n",
      "Cross-validation ...\n",
      "roc_auc\n",
      "(array([0.8541, 0.8765, 0.8486, 0.8778, 0.9037, 0.8595]), 0.8701, 0.0185)\n",
      "done in 5.840s.\n"
     ]
    }
   ],
   "source": [
    "# data transformer - vectorizer\n",
    "vectorizer = CountVectorizer(\n",
    "    ngram_range=(2, 6),\n",
    "    min_df=1,\n",
    "    analyzer='char',\n",
    ")\n",
    "\n",
    "cls = ComplementNB()\n",
    "pipe = pipeline_imb(\n",
    "    steps=[\n",
    "        ('vectorizer', vectorizer),\n",
    "        (\"tfidf\", TfidfTransformer()),\n",
    "        ('sampling', RandomOverSampler(random_state=0)),\n",
    "        ('cls', cls)])\n",
    "checking(pipe, data_samples_cleared, y, 10, n_jobs=4, scoring='roc_auc', cv=6)"
   ]
  },
  {
   "cell_type": "code",
   "execution_count": null,
   "metadata": {
    "ExecuteTime": {
     "end_time": "2020-05-22T02:54:13.877858Z",
     "start_time": "2020-05-22T02:53:46.897Z"
    }
   },
   "outputs": [],
   "source": [
    "param_distributions = {'cls__C': uniform(loc=0, scale=50)}\n",
    "search = RandomizedSearchCV(pipe,\n",
    "                            param_distributions,\n",
    "                            verbose=2,\n",
    "                            n_jobs=-1,\n",
    "                            n_iter=50,\n",
    "                            scoring='roc_auc',\n",
    "                            random_state=0)\n",
    "search.fit(data_samples, y)\n",
    "print(search.best_score_.round(4), search.best_params_)"
   ]
  },
  {
   "cell_type": "code",
   "execution_count": null,
   "metadata": {
    "ExecuteTime": {
     "end_time": "2020-05-22T02:54:13.878699Z",
     "start_time": "2020-05-22T02:53:46.903Z"
    }
   },
   "outputs": [],
   "source": [
    "plt.scatter(search.cv_results_['param_cls__C'].data,\n",
    "            search.cv_results_['mean_test_score'],\n",
    "            s=2,\n",
    "            marker=\"_\")"
   ]
  },
  {
   "cell_type": "code",
   "execution_count": null,
   "metadata": {
    "ExecuteTime": {
     "end_time": "2020-05-22T02:54:13.879566Z",
     "start_time": "2020-05-22T02:53:46.909Z"
    },
    "scrolled": true
   },
   "outputs": [],
   "source": [
    "curve_plot(pipe, data_samples, y, 6)"
   ]
  },
  {
   "cell_type": "code",
   "execution_count": null,
   "metadata": {
    "ExecuteTime": {
     "end_time": "2020-05-22T02:54:13.880698Z",
     "start_time": "2020-05-22T02:53:46.915Z"
    }
   },
   "outputs": [],
   "source": [
    "[(x.mean().round(4), x.std().round(4), x.round(4)) for x  in [cross_val_score(pipe, data_samples, y)]]"
   ]
  },
  {
   "cell_type": "markdown",
   "metadata": {},
   "source": [
    "## Word SVD"
   ]
  },
  {
   "cell_type": "markdown",
   "metadata": {},
   "source": [
    "### model"
   ]
  },
  {
   "cell_type": "code",
   "execution_count": null,
   "metadata": {
    "ExecuteTime": {
     "end_time": "2020-05-21T21:32:57.768651Z",
     "start_time": "2020-05-21T21:32:52.105Z"
    }
   },
   "outputs": [],
   "source": [
    "# data transformer - vectorizer\n",
    "vectorizer = TfidfVectorizer(ngram_range=(1, 2),\n",
    "                             min_df=1,\n",
    "                             tokenizer=casual_tokenize,\n",
    "                             analyzer='word')\n",
    "\n",
    "# dimensions reduction\n",
    "n_components = 2000\n",
    "dim_reduction = TruncatedSVD(n_components=n_components,\n",
    "                             n_iter=50,\n",
    "                             random_state=0)\n",
    "\n",
    "transformer = Pipeline(steps=[('vectorizer',\n",
    "                               vectorizer), ('decomposition', dim_reduction)])"
   ]
  },
  {
   "cell_type": "markdown",
   "metadata": {
    "ExecuteTime": {
     "end_time": "2020-05-13T13:49:36.673962Z",
     "start_time": "2020-05-13T13:49:36.670965Z"
    }
   },
   "source": [
    "### Classifiers"
   ]
  },
  {
   "cell_type": "markdown",
   "metadata": {},
   "source": [
    "#### Logistic Regression"
   ]
  },
  {
   "cell_type": "code",
   "execution_count": null,
   "metadata": {
    "ExecuteTime": {
     "end_time": "2020-05-21T21:32:57.772261Z",
     "start_time": "2020-05-21T21:32:52.113Z"
    }
   },
   "outputs": [],
   "source": [
    "cls = LogisticRegression(C=7, random_state=0, solver='liblinear')\n",
    "pipe = pipeline_imb(\n",
    "    steps=[('vectorizer', vectorizer),\n",
    "           ('decomposition', dim_reduction),\n",
    "           ('sampling', RandomOverSampler(random_state=0)),\n",
    "           ('cls', cls)])\n",
    "checking(pipe, data_samples, y, 22, n_jobs=6, scoring='roc_auc', cv=5)"
   ]
  },
  {
   "cell_type": "code",
   "execution_count": null,
   "metadata": {
    "ExecuteTime": {
     "end_time": "2020-05-21T21:32:57.773810Z",
     "start_time": "2020-05-21T21:32:52.118Z"
    }
   },
   "outputs": [],
   "source": [
    "param_distributions = {'cls__C': uniform(loc=0, scale=50)}\n",
    "search = RandomizedSearchCV(pipe,\n",
    "                            param_distributions,\n",
    "                            verbose=2,\n",
    "                            n_jobs=-1,\n",
    "                            n_iter=20,\n",
    "                            scoring='roc_auc',\n",
    "                            random_state=0)\n",
    "search.fit(data_samples, y)\n",
    "print(search.best_score_.round(4), search.best_params_)"
   ]
  },
  {
   "cell_type": "code",
   "execution_count": null,
   "metadata": {
    "ExecuteTime": {
     "end_time": "2020-05-21T21:32:57.774872Z",
     "start_time": "2020-05-21T21:32:52.124Z"
    }
   },
   "outputs": [],
   "source": [
    "plt.scatter(search.cv_results_['param_cls__C'].data,\n",
    "            search.cv_results_['mean_test_score'],\n",
    "            s=2,\n",
    "            marker=\"_\")"
   ]
  },
  {
   "cell_type": "code",
   "execution_count": null,
   "metadata": {
    "ExecuteTime": {
     "end_time": "2020-05-21T21:32:57.775787Z",
     "start_time": "2020-05-21T21:32:52.129Z"
    },
    "scrolled": true
   },
   "outputs": [],
   "source": [
    "curve_plot(pipe, data_samples, y, 6)"
   ]
  },
  {
   "cell_type": "code",
   "execution_count": null,
   "metadata": {
    "ExecuteTime": {
     "end_time": "2020-05-21T21:32:57.776945Z",
     "start_time": "2020-05-21T21:32:52.137Z"
    }
   },
   "outputs": [],
   "source": [
    "[(x.mean().round(4), x.std().round(4), x.round(4)) for x  in [cross_val_score(pipe, data_samples, y)]]"
   ]
  },
  {
   "cell_type": "raw",
   "metadata": {
    "ExecuteTime": {
     "end_time": "2020-05-13T20:27:24.441790Z",
     "start_time": "2020-05-13T20:27:24.410321Z"
    }
   },
   "source": [
    "[(0.792, 0.006, array([0.7925, 0.8025, 0.7925, 0.785 , 0.7875]))] C==7"
   ]
  },
  {
   "cell_type": "markdown",
   "metadata": {},
   "source": [
    "#### SVM"
   ]
  },
  {
   "cell_type": "code",
   "execution_count": null,
   "metadata": {
    "ExecuteTime": {
     "end_time": "2020-05-21T21:32:57.778178Z",
     "start_time": "2020-05-21T21:32:52.262Z"
    }
   },
   "outputs": [],
   "source": [
    "cls = SVC(kernel='rbf',\n",
    "          random_state=0,\n",
    "          class_weight='balanced',\n",
    "          probability=True,\n",
    "          C=15.0)\n",
    "pipe =  pipeline_imb(steps = [\n",
    "    ('vectorizer',vectorizer), \n",
    "    ('sampling',RandomOverSampler(random_state=0)), \n",
    "    ('cls',cls)])\n",
    "checking(pipe, data_samples, y, 22, n_jobs=8, scoring = 'roc_auc', cv = 5)"
   ]
  },
  {
   "cell_type": "code",
   "execution_count": null,
   "metadata": {
    "ExecuteTime": {
     "end_time": "2020-05-21T21:32:57.779782Z",
     "start_time": "2020-05-21T21:32:52.271Z"
    }
   },
   "outputs": [],
   "source": [
    "param_distributions = {'cls__C':uniform(loc=0, scale=50)}\n",
    "search = RandomizedSearchCV(pipe, param_distributions, verbose=2, n_jobs=-1, n_iter = 50, scoring = 'roc_auc')\n",
    "search.fit(data_samples, y)\n",
    "print(search.best_score_.round(4), search.best_params_)"
   ]
  },
  {
   "cell_type": "code",
   "execution_count": null,
   "metadata": {
    "ExecuteTime": {
     "end_time": "2020-05-21T21:32:57.781027Z",
     "start_time": "2020-05-21T21:32:52.277Z"
    }
   },
   "outputs": [],
   "source": [
    "plt.scatter(search.cv_results_['param_cls__C'].data,\n",
    "            search.cv_results_['mean_test_score'],\n",
    "            s=2,\n",
    "            marker=\"_\")"
   ]
  },
  {
   "cell_type": "code",
   "execution_count": null,
   "metadata": {
    "ExecuteTime": {
     "end_time": "2020-05-21T21:32:57.782206Z",
     "start_time": "2020-05-21T21:32:52.283Z"
    }
   },
   "outputs": [],
   "source": [
    "class SVCt(SVC):\n",
    "    def __init__(self, t=0.5, **kwargs):\n",
    "        kwargs['probability'] = True\n",
    "        super().__init__(**kwargs)\n",
    "        self.t = t\n",
    "        \n",
    "    def predict(self, X):\n",
    "        probs = self.predict_proba(X)[:, 1]\n",
    "        return (probs>self.t).astype(int)"
   ]
  },
  {
   "cell_type": "code",
   "execution_count": null,
   "metadata": {
    "ExecuteTime": {
     "end_time": "2020-05-21T21:32:57.783317Z",
     "start_time": "2020-05-21T21:32:52.289Z"
    }
   },
   "outputs": [],
   "source": [
    "cls = SVCt(kernel='rbf',\n",
    "           random_state=0,\n",
    "           class_weight='balanced',\n",
    "           probability=True,\n",
    "           C=15,\n",
    "           t=0.68)\n",
    "\n",
    "\n",
    "pipe = pipeline_imb(\n",
    "    steps=[('vectorizer',\n",
    "            vectorizer), ('sampling',\n",
    "                          RandomOverSampler(random_state=0)), ('cls', cls)])"
   ]
  },
  {
   "cell_type": "code",
   "execution_count": null,
   "metadata": {
    "ExecuteTime": {
     "end_time": "2020-05-21T21:32:57.784407Z",
     "start_time": "2020-05-21T21:32:52.295Z"
    }
   },
   "outputs": [],
   "source": [
    "checking(pipe, data_samples, y, 22, n_jobs=8, scoring='roc_auc', cv=5)"
   ]
  },
  {
   "cell_type": "code",
   "execution_count": null,
   "metadata": {
    "ExecuteTime": {
     "end_time": "2020-05-21T21:32:57.785488Z",
     "start_time": "2020-05-21T21:32:52.301Z"
    }
   },
   "outputs": [],
   "source": [
    "curve_plot(pipe, data_samples, y, 8)"
   ]
  },
  {
   "cell_type": "code",
   "execution_count": null,
   "metadata": {
    "ExecuteTime": {
     "end_time": "2020-05-21T21:32:57.786438Z",
     "start_time": "2020-05-21T21:32:52.308Z"
    }
   },
   "outputs": [],
   "source": [
    "[(x.mean().round(4), x.std().round(4), x.round(4)) for x  in [cross_val_score(pipe, data_samples, y)]]"
   ]
  },
  {
   "cell_type": "raw",
   "metadata": {},
   "source": [
    "[(0.7925, 0.0035, array([0.7975, 0.79  , 0.7925, 0.7875, 0.795 ]))] C==15"
   ]
  },
  {
   "cell_type": "markdown",
   "metadata": {},
   "source": [
    "## Char SVD"
   ]
  },
  {
   "cell_type": "code",
   "execution_count": null,
   "metadata": {
    "ExecuteTime": {
     "end_time": "2020-05-21T21:32:57.787681Z",
     "start_time": "2020-05-21T21:32:52.434Z"
    }
   },
   "outputs": [],
   "source": [
    "vectorizer = TfidfVectorizer(ngram_range=(2, 5),\n",
    "                             min_df=1,\n",
    "                             analyzer='char',\n",
    "                             binary=False,\n",
    "                             sublinear_tf=False)\n",
    "\n",
    "# dimensions reduction\n",
    "decomposition = IncrementalPCA(n_components=500)\n",
    "\n",
    "transformer = Pipeline(steps=[('vectorizer',\n",
    "                               vectorizer), ('decomposition', decomposition)])"
   ]
  },
  {
   "cell_type": "markdown",
   "metadata": {},
   "source": [
    "### Components"
   ]
  },
  {
   "cell_type": "code",
   "execution_count": null,
   "metadata": {
    "ExecuteTime": {
     "end_time": "2020-05-21T21:32:57.789817Z",
     "start_time": "2020-05-21T21:32:52.441Z"
    }
   },
   "outputs": [],
   "source": [
    "components(vectorizer, decomposition, transformer)"
   ]
  },
  {
   "cell_type": "markdown",
   "metadata": {},
   "source": [
    "### Score"
   ]
  },
  {
   "cell_type": "raw",
   "metadata": {},
   "source": [
    "Fitting train ...\n",
    "done in 9.927s.\n",
    "Predicting validation ...\n",
    "done in 0.540s.\n",
    "acuracy on validation : 0.767\n",
    "Cross-validation ...\n",
    "accuracy\n",
    "(array([0.78  , 0.8125, 0.8   , 0.78  , 0.7675]), 0.788, 0.016)\n",
    "done in 69.511s.\n",
    "Cross-validation ...\n",
    "roc_auc\n",
    "(array([0.8485, 0.8523, 0.8553, 0.8484, 0.8482]), 0.851, 0.003)\n",
    "done in 71.405s."
   ]
  },
  {
   "cell_type": "code",
   "execution_count": null,
   "metadata": {
    "ExecuteTime": {
     "end_time": "2020-05-21T21:32:57.791725Z",
     "start_time": "2020-05-21T21:32:52.573Z"
    }
   },
   "outputs": [],
   "source": [
    "cls = SVC(kernel = 'rbf', random_state=0, class_weight='balanced', probability = True, C = 1.0)\n",
    "pipe = Pipeline([('transformer', transformer),('cls', cls)])\n",
    "checking(pipe, data_samples, y, 22)"
   ]
  },
  {
   "cell_type": "markdown",
   "metadata": {
    "ExecuteTime": {
     "end_time": "2020-05-08T01:43:39.397101Z",
     "start_time": "2020-05-08T01:43:39.394280Z"
    },
    "heading_collapsed": true
   },
   "source": [
    "# Ensemble"
   ]
  },
  {
   "cell_type": "code",
   "execution_count": null,
   "metadata": {
    "ExecuteTime": {
     "end_time": "2020-05-21T21:32:57.793389Z",
     "start_time": "2020-05-21T21:32:52.579Z"
    },
    "code_folding": [],
    "hidden": true
   },
   "outputs": [],
   "source": [
    "%%time\n",
    "\n",
    "#############################################\n",
    "# TOPICS: PCA\n",
    "tfidf = TfidfVectorizer(ngram_range=(1, 3),\n",
    "                        min_df=1,\n",
    "                        tokenizer=casual_tokenize,\n",
    "                        analyzer='word',\n",
    "                        stop_words=punctuation,\n",
    "                        use_idf=True,\n",
    "                        sublinear_tf=False,\n",
    "                        smooth_idf=True,\n",
    "                        binary=False)\n",
    "# dimensions reduction\n",
    "topic_words_decomposition = IncrementalPCA(n_components=200)\n",
    "topic_words = Pipeline(\n",
    "    steps=[('vectorizer', tfidf), ('decomposition',\n",
    "                                   topic_words_decomposition)])\n",
    "#####################################################\n",
    "# TOPICS: SVD (LSA)\n",
    "words = TfidfVectorizer(\n",
    "    ngram_range=(1, 3),\n",
    "    min_df=1,\n",
    "    tokenizer=casual_tokenize,\n",
    "    #     stop_words =punctuation,\n",
    "    analyzer='word',\n",
    "    binary=False,\n",
    "    sublinear_tf=False)\n",
    "\n",
    "# dimentions reduction\n",
    "words_decomposition = TruncatedSVD(n_components=200, random_state=0, n_iter=50)\n",
    "\n",
    "lsa = Pipeline(steps=[('vectorizer',\n",
    "                       words), ('decomposition', words_decomposition)])\n",
    "######################################################\n",
    "# CHARS\n",
    "chars = TfidfVectorizer(ngram_range=(2, 5),\n",
    "                        min_df=1,\n",
    "                        analyzer='char',\n",
    "                        binary=False,\n",
    "                        sublinear_tf=False)\n",
    "\n",
    "# dimentions reduction\n",
    "chars_decomposition = IncrementalPCA(n_components=400)\n",
    "\n",
    "chars_svd_transformer = Pipeline(\n",
    "    steps=[('vectorizer', chars), ('decomposition', chars_decomposition)])\n",
    "########################################################\n",
    "\n",
    "lda = TfidfVectorizer(ngram_range=(1, 2),\n",
    "                      min_df=1,\n",
    "                      tokenizer=casual_tokenize,\n",
    "                      analyzer='word',\n",
    "                      stop_words=punctuation,\n",
    "                      use_idf=True,\n",
    "                      sublinear_tf=False,\n",
    "                      smooth_idf=True,\n",
    "                      binary=False)\n",
    "\n",
    "# dimensions reduction\n",
    "lda_decomposition = LatentDirichletAllocation(n_components=100,\n",
    "                                              n_jobs=2,\n",
    "                                              random_state=0,\n",
    "                                              max_iter=50)\n",
    "lda_transformer = Pipeline(steps=[('vectorizer',\n",
    "                                   lda), ('decomposition', lda_decomposition)])\n",
    "##########################################################\n",
    "\n",
    "transformer = FeatureUnion(n_jobs=3,\n",
    "                           transformer_list=[('lsa', lsa),\n",
    "                                             ('chars_svd',\n",
    "                                              chars_svd_transformer),\n",
    "                                             ('nmf', topic_words),\n",
    "                                             ('lda', lda_transformer)])\n",
    "\n",
    "cls = LogisticRegression(C=5.0, random_state=0, n_jobs=2)\n",
    "# cls = SVC(kernel = 'rbf', random_state=3, class_weight='balanced', probability = True, C = 0.5)\n",
    "# cls = LinearDiscriminantAnalysis(\n",
    "# #     solver = 'svd'\n",
    "#     solver='eigen',\n",
    "#     shrinkage='auto'\n",
    "# )\n",
    "\n",
    "pipe = Pipeline([('transformer', transformer), ('cls', cls)])\n",
    "print('accuracy')\n",
    "scoring = 'accuracy'\n",
    "scores = cross_val_score(pipe,\n",
    "                         data_samples,\n",
    "                         y,\n",
    "                         cv=5,\n",
    "                         n_jobs=2,\n",
    "                         scoring=scoring)\n",
    "print((scores, scores.mean().round(3), scores.std().round(3)))\n",
    "print('roc_auc')\n",
    "scoring = 'roc_auc'\n",
    "scores = cross_val_score(pipe,\n",
    "                         data_samples,\n",
    "                         y,\n",
    "                         cv=5,\n",
    "                         n_jobs=2,\n",
    "                         scoring=scoring)\n",
    "print((scores, scores.mean().round(3), scores.std().round(3)))"
   ]
  },
  {
   "cell_type": "code",
   "execution_count": null,
   "metadata": {
    "ExecuteTime": {
     "end_time": "2020-05-21T21:32:57.794520Z",
     "start_time": "2020-05-21T21:32:52.586Z"
    },
    "hidden": true
   },
   "outputs": [],
   "source": [
    "curve_plot(pipe, data_samples, y, 2)"
   ]
  },
  {
   "cell_type": "raw",
   "metadata": {
    "hidden": true
   },
   "source": [
    "accuracy\n",
    "(array([0.7875, 0.8125, 0.7925, 0.7725, 0.7775]), 0.788, 0.014)\n",
    "roc_auc\n",
    "(array([0.84997972, 0.85668695, 0.86853279, 0.86082488, 0.85317118]), 0.858, 0.006)\n",
    "CPU times: user 202 ms, sys: 161 ms, total: 363 ms\n",
    "Wall time: 10min 57s"
   ]
  },
  {
   "cell_type": "markdown",
   "metadata": {},
   "source": [
    "# decision value"
   ]
  },
  {
   "cell_type": "code",
   "execution_count": null,
   "metadata": {
    "ExecuteTime": {
     "end_time": "2020-05-21T21:32:57.795642Z",
     "start_time": "2020-05-21T21:32:52.622Z"
    }
   },
   "outputs": [],
   "source": [
    "%%time\n",
    "\n",
    "import warnings\n",
    "warnings.filterwarnings(\"ignore\")\n",
    "\n",
    "results = []\n",
    "rss = np.linspace(1, 10, 10).astype(int)\n",
    "for rs in tqdm_notebook(rss):\n",
    "    X_train, X_val, y_train, y_val = split_data(data_samples, y, rs)\n",
    "    pipe.fit(X_train, y_train)\n",
    "    probs = pipe.predict_proba(X_val)\n",
    "    ts = np.linspace(0.0, 1.0, 1001)\n",
    "    accuracies = []\n",
    "    for t in ts:\n",
    "        predicts = (probs > t).astype(int)[:, 1]\n",
    "        accuracies.append(accuracy_score(y_val, predicts))\n",
    "    results.append(accuracies)"
   ]
  },
  {
   "cell_type": "code",
   "execution_count": null,
   "metadata": {
    "ExecuteTime": {
     "end_time": "2020-05-21T21:32:57.796777Z",
     "start_time": "2020-05-21T21:32:52.628Z"
    }
   },
   "outputs": [],
   "source": [
    "avg_probs = np.array(results).mean(axis = 0)\n",
    "plt.plot(ts, avg_probs)\n",
    "print(np.max(avg_probs).round(4), ts[np.argmax(avg_probs)].round(2))"
   ]
  },
  {
   "cell_type": "code",
   "execution_count": null,
   "metadata": {
    "ExecuteTime": {
     "end_time": "2020-05-21T21:32:57.797780Z",
     "start_time": "2020-05-21T21:32:52.633Z"
    }
   },
   "outputs": [],
   "source": [
    "decision_value = 0.539"
   ]
  },
  {
   "cell_type": "markdown",
   "metadata": {},
   "source": [
    "# Predictions"
   ]
  },
  {
   "cell_type": "code",
   "execution_count": null,
   "metadata": {
    "ExecuteTime": {
     "end_time": "2020-05-21T21:32:57.798679Z",
     "start_time": "2020-05-21T21:32:52.640Z"
    }
   },
   "outputs": [],
   "source": [
    "test = pd.read_csv(PATH_TO_DATA+files[1], sep = '\\t')\n",
    "T = test.text"
   ]
  },
  {
   "cell_type": "code",
   "execution_count": null,
   "metadata": {
    "ExecuteTime": {
     "end_time": "2020-05-21T21:32:57.799856Z",
     "start_time": "2020-05-21T21:32:52.645Z"
    }
   },
   "outputs": [],
   "source": [
    "pipe.fit(data_samples, y)\n",
    "\n",
    "def create_submission(estimator, t, submission_name):\n",
    "    test['probs'] = estimator.predict_proba(t)[:, 1]\n",
    "    test['y'] = ((estimator.predict_proba(t)[:, 1])>decision_value).astype(int)\n",
    "    test[['Id', 'y']].to_csv(submission_name, index = False)\n",
    "\n",
    "name = \"submission.csv\"\n",
    "create_submission(pipe, T, name)\n",
    "pd.set_option('display.max_colwidth', 120)\n",
    "test[:30]"
   ]
  },
  {
   "cell_type": "code",
   "execution_count": null,
   "metadata": {
    "ExecuteTime": {
     "end_time": "2020-05-21T21:32:57.801433Z",
     "start_time": "2020-05-21T21:32:52.650Z"
    }
   },
   "outputs": [],
   "source": [
    "submission = pd.read_csv(name)\n",
    "submission.head(5)"
   ]
  },
  {
   "cell_type": "markdown",
   "metadata": {
    "heading_collapsed": true
   },
   "source": [
    "# Отбор признаков"
   ]
  },
  {
   "cell_type": "code",
   "execution_count": null,
   "metadata": {
    "ExecuteTime": {
     "end_time": "2020-05-21T21:32:57.802590Z",
     "start_time": "2020-05-21T21:32:52.657Z"
    },
    "hidden": true
   },
   "outputs": [],
   "source": [
    "class SelectByMask(TransformerMixin, BaseEstimator):\n",
    "    def __init__(self, mask):\n",
    "        self.mask = mask\n",
    "    \n",
    "    def fit(self, x = None, y = None):\n",
    "        return self\n",
    "    \n",
    "    def transform(self, x):\n",
    "        return x[:, self.mask]"
   ]
  },
  {
   "cell_type": "code",
   "execution_count": null,
   "metadata": {
    "ExecuteTime": {
     "end_time": "2020-05-21T21:32:57.803725Z",
     "start_time": "2020-05-21T21:32:52.662Z"
    },
    "hidden": true
   },
   "outputs": [],
   "source": [
    "Xt = transformer.fit_transform(data_samples)"
   ]
  },
  {
   "cell_type": "code",
   "execution_count": null,
   "metadata": {
    "ExecuteTime": {
     "end_time": "2020-05-21T21:32:57.804796Z",
     "start_time": "2020-05-21T21:32:52.667Z"
    },
    "hidden": true
   },
   "outputs": [],
   "source": [
    "f_scores = f_classif(Xt, y)\n",
    "mask = f_scores[1]<0.8\n",
    "\n",
    "print(f\"Количество малозависимых от классов признаков {np.sum( ~mask )}\")\n",
    "\n",
    "selector = SelectByMask(mask)\n",
    "Xt_selected = selector.transform(Xt)"
   ]
  },
  {
   "cell_type": "code",
   "execution_count": null,
   "metadata": {
    "ExecuteTime": {
     "end_time": "2020-05-21T21:32:57.805926Z",
     "start_time": "2020-05-21T21:32:52.672Z"
    },
    "hidden": true
   },
   "outputs": [],
   "source": [
    "union = FeatureUnion(n_jobs=3,\n",
    "                     transformer_list=[('lsa', lsa),\n",
    "                                       ('chars_svd', chars_svd_transformer),\n",
    "                                       ('nmf', topic_words),\n",
    "                                       ('lda', lda_transformer)])\n",
    "\n",
    "transformer = Pipeline([('union', union),\n",
    "                        ('selector', SelectKBest(f_classif, k=700)),\n",
    "                        ('norm', Normalizer())])\n",
    "cls = LogisticRegression(C=5.0, random_state=0, n_jobs=2)\n",
    "pipe = Pipeline([('transformer', transformer), ('cls', cls)])"
   ]
  },
  {
   "cell_type": "code",
   "execution_count": null,
   "metadata": {
    "ExecuteTime": {
     "end_time": "2020-05-21T21:32:57.807274Z",
     "start_time": "2020-05-21T21:32:52.678Z"
    },
    "hidden": true
   },
   "outputs": [],
   "source": [
    "checking(pipe, data_samples, y, 22)"
   ]
  },
  {
   "cell_type": "code",
   "execution_count": null,
   "metadata": {
    "ExecuteTime": {
     "end_time": "2020-05-21T21:32:57.808686Z",
     "start_time": "2020-05-21T21:32:52.684Z"
    },
    "hidden": true
   },
   "outputs": [],
   "source": [
    "curve_plot(pipe, data_samples, y, 2)"
   ]
  },
  {
   "cell_type": "code",
   "execution_count": null,
   "metadata": {
    "ExecuteTime": {
     "end_time": "2020-05-21T21:32:57.809802Z",
     "start_time": "2020-05-21T21:32:52.689Z"
    },
    "hidden": true
   },
   "outputs": [],
   "source": [
    "selector = SelectKBest(f_classif, k=300)"
   ]
  },
  {
   "cell_type": "markdown",
   "metadata": {
    "heading_collapsed": true
   },
   "source": [
    "# GridSearch"
   ]
  },
  {
   "cell_type": "code",
   "execution_count": null,
   "metadata": {
    "ExecuteTime": {
     "end_time": "2020-05-21T21:32:57.811291Z",
     "start_time": "2020-05-21T21:32:52.695Z"
    },
    "hidden": true
   },
   "outputs": [],
   "source": [
    "param_grid = {'transformer__selector__k':np.linspace(200, 900, 8).astype(int)}\n",
    "\n",
    "search = GridSearchCV(pipe, param_grid, n_jobs=2)\n",
    "\n",
    "search.fit(data_samples, y)\n",
    "print(\"Best parameter (CV score=%0.3f):\" % search.best_score_)\n",
    "print(search.best_params_)"
   ]
  },
  {
   "cell_type": "code",
   "execution_count": null,
   "metadata": {
    "ExecuteTime": {
     "end_time": "2020-05-21T21:32:57.812522Z",
     "start_time": "2020-05-21T21:32:52.701Z"
    },
    "hidden": true
   },
   "outputs": [],
   "source": [
    "search.cv_results_"
   ]
  },
  {
   "cell_type": "code",
   "execution_count": null,
   "metadata": {
    "ExecuteTime": {
     "end_time": "2020-05-21T21:32:57.813711Z",
     "start_time": "2020-05-21T21:32:52.706Z"
    },
    "hidden": true
   },
   "outputs": [],
   "source": [
    "param_grid = {'cls__C': np.linspace(1, 20, 7).astype(int)}\n",
    "search = GridSearchCV(pipe, param_grid, n_jobs=2)\n",
    "search.fit(data_samples, y)\n",
    "print(\"Best parameter (CV score=%0.3f):\" % search.best_score_)\n",
    "print(search.best_params_)"
   ]
  },
  {
   "cell_type": "code",
   "execution_count": null,
   "metadata": {
    "ExecuteTime": {
     "end_time": "2020-05-21T21:32:57.814820Z",
     "start_time": "2020-05-21T21:32:52.711Z"
    },
    "hidden": true
   },
   "outputs": [],
   "source": [
    "plt.plot(param_grid['cls__C'], search.cv_results_['mean_test_score'])"
   ]
  },
  {
   "cell_type": "code",
   "execution_count": null,
   "metadata": {
    "ExecuteTime": {
     "end_time": "2020-05-21T21:32:57.816287Z",
     "start_time": "2020-05-21T21:32:52.717Z"
    },
    "hidden": true
   },
   "outputs": [],
   "source": [
    "search.cv_results_"
   ]
  },
  {
   "cell_type": "code",
   "execution_count": null,
   "metadata": {
    "ExecuteTime": {
     "end_time": "2020-05-21T21:32:57.817545Z",
     "start_time": "2020-05-21T21:32:52.722Z"
    },
    "hidden": true
   },
   "outputs": [],
   "source": [
    "np.linspace(2, 8, 7)"
   ]
  },
  {
   "cell_type": "markdown",
   "metadata": {},
   "source": [
    "# 2D"
   ]
  },
  {
   "cell_type": "markdown",
   "metadata": {},
   "source": [
    "## t - SNE for sparse data"
   ]
  },
  {
   "cell_type": "code",
   "execution_count": null,
   "metadata": {
    "ExecuteTime": {
     "end_time": "2020-05-21T21:32:57.818700Z",
     "start_time": "2020-05-21T21:32:52.730Z"
    }
   },
   "outputs": [],
   "source": [
    "from sklearn.manifold import TSNE\n",
    "from matplotlib.ticker import NullFormatter"
   ]
  },
  {
   "cell_type": "code",
   "execution_count": null,
   "metadata": {
    "ExecuteTime": {
     "end_time": "2020-05-21T21:32:57.819958Z",
     "start_time": "2020-05-21T21:32:52.735Z"
    }
   },
   "outputs": [],
   "source": [
    "# data transformer - vectorizer\n",
    "vectorizer = TfidfVectorizer(\n",
    "    ngram_range=(1, 2),\n",
    "    min_df=1,\n",
    "    preprocessor=clean_text,\n",
    "    tokenizer=casual_tokenize,\n",
    "    analyzer='word')\n",
    "\n",
    "# dimensions reduction\n",
    "n_components = 2000\n",
    "dim_reduction = TruncatedSVD(n_components=n_components,\n",
    "                             n_iter=50,\n",
    "                             random_state=0)\n",
    "\n",
    "transformer = Pipeline(steps=[('vectorizer',\n",
    "                               vectorizer), \n",
    "#                               ('decomposition', dim_reduction)\n",
    "                             ])"
   ]
  },
  {
   "cell_type": "code",
   "execution_count": null,
   "metadata": {
    "ExecuteTime": {
     "end_time": "2020-05-21T21:32:57.821049Z",
     "start_time": "2020-05-21T21:32:52.740Z"
    }
   },
   "outputs": [],
   "source": [
    "t0 = time()\n",
    "X = transformer.fit_transform(data_samples, y)\n",
    "t1 = time()\n",
    "print((\"Transformation, components=%d in %.2g sec\" % (X.shape[1], t1 - t0)))"
   ]
  },
  {
   "cell_type": "raw",
   "metadata": {
    "ExecuteTime": {
     "end_time": "2020-05-14T23:36:29.965834Z",
     "start_time": "2020-05-14T23:36:29.941071Z"
    }
   },
   "source": [
    "transformer['decomposition'].explained_variance_ratio_.sum()"
   ]
  },
  {
   "cell_type": "code",
   "execution_count": null,
   "metadata": {
    "ExecuteTime": {
     "end_time": "2020-05-21T21:32:57.822523Z",
     "start_time": "2020-05-21T21:32:52.857Z"
    }
   },
   "outputs": [],
   "source": [
    "perplexities = [5, 25, 50, 75, 100]\n",
    "metrics = ['cosine', 'euclidean', 'cityblock']\n",
    "\n",
    "(fig, subplots) = plt.subplots(3, 5, figsize=(24, 24))\n",
    "\n",
    "red = y == 0\n",
    "green = y == 1\n",
    "\n",
    "for j, m  in enumerate(metrics) :\n",
    "    for i, perplexity in enumerate(perplexities):\n",
    "        ax = subplots[j][i]\n",
    "\n",
    "        # t-SNE computation\n",
    "        t0 = time()\n",
    "        tsne = TSNE(n_components=2,\n",
    "                    init='random',\n",
    "                    random_state=0,\n",
    "                    perplexity=perplexity,\n",
    "                    n_jobs=-1,\n",
    "                    n_iter= 500,\n",
    "                    metric=m)\n",
    "        Y = tsne.fit_transform(X)\n",
    "        t1 = time()\n",
    "        print((\"%s, perplexity=%d in %.2g sec\" % (m, perplexity, t1 - t0)))\n",
    "        \n",
    "        # plotting\n",
    "        ax.set_title(\"Perplexity=%d\" % perplexity)\n",
    "        ax.scatter(Y[red, 0], Y[red, 1], c=\"r\", s=0.5)\n",
    "        ax.scatter(Y[green, 0], Y[green, 1], c=\"g\", s=0.5)\n",
    "        ax.xaxis.set_major_formatter(NullFormatter())\n",
    "        ax.yaxis.set_major_formatter(NullFormatter())\n",
    "        ax.axis('tight')\n",
    "\n",
    "plt.show()"
   ]
  },
  {
   "cell_type": "code",
   "execution_count": null,
   "metadata": {
    "ExecuteTime": {
     "end_time": "2020-05-21T21:32:57.823763Z",
     "start_time": "2020-05-21T21:32:52.862Z"
    }
   },
   "outputs": [],
   "source": [
    "plt.figure(figsize=(12, 12))\n",
    "\n",
    "perplexity = 100\n",
    "it = 800\n",
    "\n",
    "# t-SNE computation\n",
    "t0 = time()\n",
    "tsne = TSNE(n_components=2,\n",
    "            init='random',\n",
    "            random_state=0,\n",
    "            perplexity=perplexity,\n",
    "            n_jobs=-1,\n",
    "            n_iter=it,\n",
    "            metric='cityblock')\n",
    "Y = tsne.fit_transform(X)\n",
    "t1 = time()\n",
    "print((\"Texts, perplexity=%d in %.2g sec\" % (perplexity, t1 - t0)))\n",
    "\n",
    "# plotting\n",
    "plt.title(\"Perplexity=%d\" % perplexity)\n",
    "plt.scatter(Y[red, 0], Y[red, 1], c=\"r\", s = 1)\n",
    "plt.scatter(Y[green, 0], Y[green, 1], c=\"g\", s = 1)\n",
    "plt.axis('tight')\n",
    "plt.show()"
   ]
  },
  {
   "cell_type": "markdown",
   "metadata": {
    "ExecuteTime": {
     "end_time": "2020-05-14T18:28:36.579894Z",
     "start_time": "2020-05-14T18:28:36.577335Z"
    }
   },
   "source": [
    "## Truncated SVD before TSNE"
   ]
  },
  {
   "cell_type": "code",
   "execution_count": null,
   "metadata": {
    "ExecuteTime": {
     "end_time": "2020-05-21T21:32:57.824976Z",
     "start_time": "2020-05-21T21:32:52.868Z"
    }
   },
   "outputs": [],
   "source": [
    "vectorizer = TfidfVectorizer(ngram_range=(2, 5),\n",
    "                             min_df=1,\n",
    "                             analyzer='char',\n",
    "                             binary=False,\n",
    "                             sublinear_tf=False)\n",
    "\n",
    "# dimensions reduction\n",
    "n_components = 50\n",
    "dim_reduction = TruncatedSVD(n_components=n_components,\n",
    "                             n_iter=100,\n",
    "                             random_state=0)\n",
    "\n",
    "transformer = Pipeline(steps=[('vectorizer',\n",
    "                               vectorizer), ('decomposition', dim_reduction)])"
   ]
  },
  {
   "cell_type": "code",
   "execution_count": null,
   "metadata": {
    "ExecuteTime": {
     "end_time": "2020-05-21T21:32:57.826263Z",
     "start_time": "2020-05-21T21:32:52.874Z"
    }
   },
   "outputs": [],
   "source": [
    "t0 = time()\n",
    "X = transformer.fit_transform(data_samples, y)\n",
    "t1 = time()\n",
    "print((\"Dim reduction, components=%d in %.2g sec\" % (n_components, t1 - t0)))\n",
    "\n",
    "perplexities = [2, 15, 40, 70, 100, 150]\n",
    "iterations = [250, 500, 1000, 2000, 5000]\n",
    "n_components = 2\n",
    "\n",
    "(fig, subplots) = plt.subplots(5, 6, figsize=(15, 10))\n",
    "\n",
    "red = y == 0\n",
    "green = y == 1\n",
    "\n",
    "for j, it  in enumerate(iterations) :\n",
    "    for i, perplexity in enumerate(perplexities):\n",
    "        ax = subplots[j][i]\n",
    "\n",
    "        # t-SNE computation\n",
    "        t0 = time()\n",
    "        tsne = TSNE(n_components=n_components,\n",
    "                    init='random',\n",
    "                    random_state=0,\n",
    "                    perplexity=perplexity,\n",
    "                    n_jobs=-1,\n",
    "                    n_iter= it,\n",
    "                    metric='cosine')\n",
    "        Y = tsne.fit_transform(X)\n",
    "        t1 = time()\n",
    "        print((\"Texts, perplexity=%d in %.2g sec\" % (perplexity, t1 - t0)))\n",
    "        \n",
    "        # plotting\n",
    "        ax.set_title(\"Perplexity=%d\" % perplexity)\n",
    "        ax.scatter(Y[red, 0], Y[red, 1], c=\"r\", s=0.5)\n",
    "        ax.scatter(Y[green, 0], Y[green, 1], c=\"g\", s=0.5)\n",
    "        ax.xaxis.set_major_formatter(NullFormatter())\n",
    "        ax.yaxis.set_major_formatter(NullFormatter())\n",
    "        ax.axis('tight')\n",
    "\n",
    "plt.show()"
   ]
  },
  {
   "cell_type": "code",
   "execution_count": null,
   "metadata": {
    "ExecuteTime": {
     "end_time": "2020-05-21T21:32:57.827527Z",
     "start_time": "2020-05-21T21:32:52.880Z"
    }
   },
   "outputs": [],
   "source": [
    "plt.figure(figsize=(15,15))\n",
    "\n",
    "perplexity = 60\n",
    "it = 1000\n",
    "\n",
    "# t-SNE computation\n",
    "t0 = time()\n",
    "tsne = TSNE(n_components=2,\n",
    "            init='random',\n",
    "            random_state=0,\n",
    "            perplexity=perplexity,\n",
    "            n_jobs=-1,\n",
    "            n_iter= it,\n",
    "            metric='cosine')\n",
    "Y = tsne.fit_transform(X)\n",
    "t1 = time()\n",
    "print((\"Texts, perplexity=%d in %.2g sec\" % (perplexity, t1 - t0)))\n",
    "\n",
    "# plotting\n",
    "plt.title(\"Perplexity=%d\" % perplexity)\n",
    "plt.scatter(Y[red, 0], Y[red, 1], c=\"r\")\n",
    "plt.scatter(Y[green, 0], Y[green, 1], c=\"g\")\n",
    "plt.axis('tight')\n",
    "plt.show()"
   ]
  },
  {
   "cell_type": "markdown",
   "metadata": {},
   "source": [
    "# Clearance"
   ]
  },
  {
   "cell_type": "markdown",
   "metadata": {},
   "source": [
    "## NOTS_ in data samples"
   ]
  },
  {
   "cell_type": "code",
   "execution_count": null,
   "metadata": {
    "ExecuteTime": {
     "end_time": "2020-05-21T21:32:57.828775Z",
     "start_time": "2020-05-21T21:32:52.888Z"
    }
   },
   "outputs": [],
   "source": [
    "for t in data_samples[1500:2000]:\n",
    "    for x in clean_text(t).split(): \n",
    "        if \"not\" in x: print(t,'\\n\\n', clean_text(t), '\\n\\n\\n'); break"
   ]
  },
  {
   "cell_type": "code",
   "execution_count": null,
   "metadata": {
    "ExecuteTime": {
     "end_time": "2020-05-21T21:32:57.829967Z",
     "start_time": "2020-05-21T21:32:52.893Z"
    }
   },
   "outputs": [],
   "source": [
    "lemming('uses')"
   ]
  },
  {
   "cell_type": "markdown",
   "metadata": {},
   "source": [
    "### Errors"
   ]
  },
  {
   "cell_type": "code",
   "execution_count": null,
   "metadata": {
    "ExecuteTime": {
     "end_time": "2020-05-21T21:32:57.831013Z",
     "start_time": "2020-05-21T21:32:52.900Z"
    }
   },
   "outputs": [],
   "source": [
    "nots = []\n",
    "for t in errors:\n",
    "    for x in clean_text(t).split(): \n",
    "        if \"not\" in x: print(t,'\\n\\n', clean_text(t), '\\n\\n\\n'); break\n"
   ]
  },
  {
   "cell_type": "code",
   "execution_count": null,
   "metadata": {
    "ExecuteTime": {
     "end_time": "2020-05-21T21:32:57.832398Z",
     "start_time": "2020-05-21T21:32:52.906Z"
    }
   },
   "outputs": [],
   "source": [
    "word_tokenize('cd screen -- cracked-- and the fluid gave')"
   ]
  },
  {
   "cell_type": "code",
   "execution_count": null,
   "metadata": {
    "ExecuteTime": {
     "end_time": "2020-05-21T21:32:57.833733Z",
     "start_time": "2020-05-21T21:32:52.911Z"
    }
   },
   "outputs": [],
   "source": [
    "word = \"os\"\n",
    "\n",
    "print(lemmatizer.lemmatize(word, get_wordnet_pos(word)))\n",
    "print(stemmer.stem(word))\n"
   ]
  },
  {
   "cell_type": "code",
   "execution_count": null,
   "metadata": {
    "ExecuteTime": {
     "end_time": "2020-05-21T21:32:57.834816Z",
     "start_time": "2020-05-21T21:32:52.916Z"
    }
   },
   "outputs": [],
   "source": [
    "list(data_samples[1500:2000][y==1][:50])"
   ]
  },
  {
   "cell_type": "code",
   "execution_count": null,
   "metadata": {
    "ExecuteTime": {
     "end_time": "2020-05-21T21:32:57.835964Z",
     "start_time": "2020-05-21T21:32:52.922Z"
    }
   },
   "outputs": [],
   "source": [
    "list(data_samples[1500:2000][y==0][:50])"
   ]
  },
  {
   "cell_type": "code",
   "execution_count": null,
   "metadata": {},
   "outputs": [],
   "source": []
  }
 ],
 "metadata": {
  "kernelspec": {
   "display_name": "Python 3",
   "language": "python",
   "name": "python3"
  },
  "language_info": {
   "codemirror_mode": {
    "name": "ipython",
    "version": 3
   },
   "file_extension": ".py",
   "mimetype": "text/x-python",
   "name": "python",
   "nbconvert_exporter": "python",
   "pygments_lexer": "ipython3",
   "version": "3.7.7"
  },
  "notify_time": "0",
  "toc": {
   "base_numbering": 1,
   "nav_menu": {},
   "number_sections": true,
   "sideBar": true,
   "skip_h1_title": false,
   "title_cell": "Table of Contents",
   "title_sidebar": "Contents",
   "toc_cell": false,
   "toc_position": {
    "height": "calc(100% - 180px)",
    "left": "10px",
    "top": "150px",
    "width": "165px"
   },
   "toc_section_display": true,
   "toc_window_display": true
  }
 },
 "nbformat": 4,
 "nbformat_minor": 4
}
