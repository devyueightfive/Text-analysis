{
 "cells": [
  {
   "cell_type": "markdown",
   "metadata": {},
   "source": [
    "# LIBS"
   ]
  },
  {
   "cell_type": "code",
   "execution_count": 1,
   "metadata": {
    "ExecuteTime": {
     "end_time": "2020-05-21T23:39:29.640367Z",
     "start_time": "2020-05-21T23:39:28.883814Z"
    }
   },
   "outputs": [],
   "source": [
    "import numpy as np\n",
    "\n",
    "import re\n",
    "import nltk\n",
    "from nltk.stem import SnowballStemmer, PorterStemmer\n",
    "from toolz import compose\n",
    "from nltk.corpus import wordnet\n",
    "from nltk.stem import WordNetLemmatizer\n",
    "from nltk.tokenize import word_tokenize\n",
    "from nltk.stem.snowball import EnglishStemmer"
   ]
  },
  {
   "cell_type": "markdown",
   "metadata": {},
   "source": [
    "## functions"
   ]
  },
  {
   "cell_type": "code",
   "execution_count": 2,
   "metadata": {
    "ExecuteTime": {
     "end_time": "2020-05-21T23:39:29.674108Z",
     "start_time": "2020-05-21T23:39:29.642675Z"
    }
   },
   "outputs": [],
   "source": [
    "from sklearn.base import TransformerMixin\n",
    "n_components = 100\n",
    "n_top_words = 10\n",
    "\n",
    "# functions\n",
    "\n",
    "\n",
    "def print_top_words(model, feature_names, n_top_words, n):\n",
    "    for topic_idx, topic in enumerate(model.components_[:n]):\n",
    "        message = \"Topic #%d: \" % topic_idx\n",
    "        message += \" \".join([\n",
    "            feature_names[i].replace(\" \", \"_\")\n",
    "            for i in np.abs(topic).argsort()[:-n_top_words - 1:-1]\n",
    "        ])\n",
    "        print(message)\n",
    "    print()\n",
    "\n",
    "\n",
    "def components(transformer, data_samples, y):\n",
    "    print(\"Fitting model with features ...\")\n",
    "    t0 = time()\n",
    "    transformer.fit(data_samples, y)\n",
    "    print((\"done in %0.3fs.\" % (time() - t0)))\n",
    "\n",
    "    print(\n",
    "        f\"\\nTopics in model with {transformer['decomposition'].components_.shape} features:\\n\"\n",
    "    )\n",
    "    feature_names = transformer['vectorizer'].get_feature_names()\n",
    "    print_top_words(transformer['decomposition'], feature_names, n_top_words,\n",
    "                    10)\n",
    "\n",
    "\n",
    "# split data\n",
    "def split_data(X, y, rs):\n",
    "    test_portion = 0.33\n",
    "    return train_test_split(X,\n",
    "                            y,\n",
    "                            test_size=test_portion,\n",
    "                            random_state=int(rs),\n",
    "                            shuffle=True,\n",
    "                            stratify=y)\n",
    "\n",
    "\n",
    "# plot learning curve\n",
    "def curve_plot(pipe, X, y, n_jobs):\n",
    "    train_sizes, train_scores, test_scores = learning_curve(pipe,\n",
    "                                                            data_samples,\n",
    "                                                            y,\n",
    "                                                            n_jobs=n_jobs,\n",
    "                                                            cv=5,\n",
    "                                                            shuffle=True)\n",
    "\n",
    "    train_scores_mean = np.mean(train_scores, axis=1)\n",
    "    train_scores_std = np.std(train_scores, axis=1)\n",
    "    test_scores_mean = np.mean(test_scores, axis=1)\n",
    "    test_scores_std = np.std(test_scores, axis=1)\n",
    "\n",
    "    _, ax = plt.subplots(1, 1, figsize=(20, 5))\n",
    "    # Plot learning curve\n",
    "    ax.grid()\n",
    "    ax.fill_between(train_sizes,\n",
    "                    train_scores_mean - train_scores_std,\n",
    "                    train_scores_mean + train_scores_std,\n",
    "                    alpha=0.1,\n",
    "                    color=\"r\")\n",
    "    ax.fill_between(train_sizes,\n",
    "                    test_scores_mean - test_scores_std,\n",
    "                    test_scores_mean + test_scores_std,\n",
    "                    alpha=0.1,\n",
    "                    color=\"g\")\n",
    "    ax.plot(train_sizes,\n",
    "            train_scores_mean,\n",
    "            'o-',\n",
    "            color=\"r\",\n",
    "            label=\"Training score\")\n",
    "    ax.plot(train_sizes,\n",
    "            test_scores_mean,\n",
    "            'o-',\n",
    "            color=\"g\",\n",
    "            label=\"Cross-validation score\")\n",
    "    ax.legend(loc=\"best\")\n",
    "\n",
    "\n",
    "class Dense(TransformerMixin):\n",
    "    def fit(self, X, y=None):\n",
    "        return self\n",
    "\n",
    "    def transform(self, X, y=None):\n",
    "        return X.todense()\n",
    "\n",
    "    def fit_transform(self, X, y=None):\n",
    "        return X.todense()\n",
    "\n",
    "\n",
    "def checking(pipe, data_samples, y, r_seed, n_jobs, scoring='roc_auc', cv=3):\n",
    "    # split data to train/validation sets\n",
    "    X_train, X_validation, y_train, y_validation = split_data(\n",
    "        data_samples, y, r_seed)\n",
    "\n",
    "    print(\"Fitting train ...\")\n",
    "    t0 = time()\n",
    "    pipe.fit(X_train, y_train)\n",
    "    print((\"done in %0.3fs.\" % (time() - t0)))\n",
    "\n",
    "    print(\"Predicting validation ...\")\n",
    "    t0 = time()\n",
    "    probs = pipe.predict_proba(X_validation)[:, 1]\n",
    "    print((\"done in %0.3fs.\" % (time() - t0)))\n",
    "\n",
    "    print(f\"AUC score : {roc_auc_score(y_validation, probs).round(4)}\")\n",
    "    print(\"Cross-validation ...\")\n",
    "    t0 = time()\n",
    "    print('roc_auc')\n",
    "    scores = cross_val_score(pipe,\n",
    "                             data_samples,\n",
    "                             y,\n",
    "                             cv=cv,\n",
    "                             n_jobs=n_jobs,\n",
    "                             scoring=scoring)\n",
    "    print((scores.round(4), scores.mean().round(4), scores.std().round(4)))\n",
    "    print((\"done in %0.3fs.\" % (time() - t0)))"
   ]
  },
  {
   "cell_type": "code",
   "execution_count": 3,
   "metadata": {
    "ExecuteTime": {
     "end_time": "2020-05-21T23:39:31.916706Z",
     "start_time": "2020-05-21T23:39:29.676255Z"
    }
   },
   "outputs": [],
   "source": [
    "# necessary libraries\n",
    "\n",
    "# %pylab inline\n",
    "import matplotlib.pyplot as plt\n",
    "from mpl_toolkits.mplot3d import Axes3D\n",
    "\n",
    "# read data to DataFrame\n",
    "import pandas as pd\n",
    "import numpy as np\n",
    "\n",
    "# feature extraction\n",
    "from sklearn.feature_extraction.text import TfidfVectorizer, CountVectorizer, TfidfTransformer\n",
    "from nltk.tokenize.casual import casual_tokenize\n",
    "from nltk.corpus import stopwords\n",
    "\n",
    "# pipeline\n",
    "from sklearn.pipeline import Pipeline\n",
    "from sklearn.pipeline import FeatureUnion\n",
    "\n",
    "# preprocessing\n",
    "from sklearn.preprocessing import FunctionTransformer\n",
    "from sklearn.preprocessing import Normalizer\n",
    "\n",
    "# model selection\n",
    "from sklearn.model_selection import cross_val_score, GridSearchCV, train_test_split, StratifiedKFold\n",
    "from sklearn.metrics import accuracy_score, roc_auc_score, classification_report, confusion_matrix, make_scorer\n",
    "from sklearn.base import BaseEstimator, TransformerMixin\n",
    "\n",
    "# decomposition PCA\n",
    "from sklearn.decomposition import IncrementalPCA, TruncatedSVD\n",
    "from sklearn.decomposition import NMF, LatentDirichletAllocation\n",
    "\n",
    "# classifiers\n",
    "# Bayes\n",
    "from sklearn.naive_bayes import ComplementNB\n",
    "from sklearn.discriminant_analysis import LinearDiscriminantAnalysis, QuadraticDiscriminantAnalysis\n",
    "# linear\n",
    "from sklearn.linear_model import LogisticRegression\n",
    "from sklearn.linear_model import SGDClassifier\n",
    "# svm\n",
    "from sklearn.svm import SVC\n",
    "# ensemble\n",
    "from sklearn.ensemble import RandomForestClassifier\n",
    "\n",
    "# learning\n",
    "from sklearn.model_selection import learning_curve\n",
    "from sklearn.model_selection import cross_val_score\n",
    "\n",
    "# time\n",
    "from time import time\n",
    "\n",
    "# progress bar\n",
    "from tqdm import tqdm, tqdm_notebook\n",
    "\n",
    "# string\n",
    "import string\n",
    "from collections import Counter\n",
    "\n",
    "# feature selection\n",
    "from sklearn.feature_selection import SelectKBest, chi2, f_classif, VarianceThreshold, SelectFromModel, mutual_info_classif\n",
    "\n",
    "from imblearn.over_sampling import RandomOverSampler\n",
    "from imblearn.under_sampling import RandomUnderSampler\n",
    "from sklearn.model_selection import RandomizedSearchCV\n",
    "from scipy.stats import uniform\n",
    "from imblearn.pipeline import Pipeline as pipeline_imb\n",
    "\n",
    "from sklearn.decomposition import PCA"
   ]
  },
  {
   "cell_type": "code",
   "execution_count": 168,
   "metadata": {
    "ExecuteTime": {
     "end_time": "2020-05-22T03:20:25.118961Z",
     "start_time": "2020-05-22T03:20:25.087132Z"
    }
   },
   "outputs": [],
   "source": [
    "from nltk.stem.snowball import EnglishStemmer\n",
    "stemmer = EnglishStemmer()\n",
    "\n",
    "# REPLACE_BY_SPACE_RE = re.compile(\"[{}\\[\\]\\|@,;\\.'()]\")\n",
    "# punctuation = set(f\"{string.punctuation}“”¨«»®´·º½¾¿¡§£₤‘’`\")-set(\"+-!\")\n",
    "NUMBER = re.compile('[0-9]+')\n",
    "\n",
    "STOPWORDS = {\n",
    "    'a', 'an', 'the', \"to\",  'i', 'you', 'he', 'she', 'it', 'we', 'they'\n",
    "}\n",
    "\n",
    "# STOPWORDS = set(nltk.corpus.stopwords.words('english')) - \\\n",
    "#     set([\"no\", \"not\", \"nor\", \"be\", \"could\", \"would\", \"should\",\n",
    "#          \"can\", \"do\", \"up\", \"down\", \"off\", \"out\", \"over\", \"under\", \"have\", \"will\", \"more\"]) | set([\"etc\"])\n",
    "\n",
    "# STOPWORDS_MORE = set(nltk.corpus.stopwords.words('english')) - \\\n",
    "#     set([\"no\", \"not\", \"nor\",\n",
    "#          \"up\", \"down\", \"off\", \"out\", \"over\", \"under\", \"more\"])\n",
    "\n",
    "\n",
    "def get_wordnet_pos(word):\n",
    "    \"\"\"Map POS tag to first character lemmatize() accepts\"\"\"\n",
    "    tag = nltk.pos_tag([word])[0][1][0].upper()\n",
    "    tag_dict = {\n",
    "        \"J\": wordnet.ADJ,\n",
    "        \"N\": wordnet.NOUN,\n",
    "        \"V\": wordnet.VERB,\n",
    "        \"R\": wordnet.ADV\n",
    "    }\n",
    "    return tag_dict.get(tag, wordnet.NOUN)  # NOUN as default\n",
    "\n",
    "\n",
    "def get_lemmas(docs):\n",
    "    lemmatizer = WordNetLemmatizer()\n",
    "    return [\n",
    "        lemmatizer.lemmatize(w, get_wordnet_pos(w)) for w in get_words(docs)\n",
    "    ]\n",
    "\n",
    "\n",
    "def fix(text):\n",
    "    fixes = [(\" a lot \", \" alot \"), (' wouldt ', ' would not '),\n",
    "             (' arent ', ' are not '), (' couldnt ', ' could not '),\n",
    "             (' didnt ', ' did not '), (' doesnt ', ' do not '),\n",
    "             (\" can't \", \" can not \"), (\" shan't\", \" shall not \"),\n",
    "             (\" can 't \", \" can not \"), (' dont ', ' do not '),\n",
    "             (\" shan 't\", \" shall not \"), (\" won't \", \" will not \"),\n",
    "             (\" won 't \", \" will not \"), (\"n 't \", ' not '), (\"n't \", ' not '),\n",
    "             (\"'t \", ' not '), (\"'t \", ' not '), (\"' t \", ' not '),\n",
    "             (\"'d \", ' would '), (\"' d \", ' would '), (\"' ve \", ' have '),\n",
    "             (\"'ve \", ' have '), (\"'s \", ' be '), (\"' s \", ' be '),\n",
    "             (\"' re \", ' be '), (\"'re \", ' be '), (\"'m \", \" be \"),\n",
    "             (\"' m \", \" be \"), (\"'ll \", \" will \"), (\"' ll \", \" will \"),\n",
    "             (\" aren \", \"are not\"), (\" couldn \", \" could not \"),\n",
    "             (\"didn\", \" did not \"), (\"doesn\", \" does not \"),\n",
    "             (\" don \", \" do not \"), (\"hadn\", \" had not \"), (\"hasn\", \"has not\"),\n",
    "             (\"haven\", \" have not \"), (\" isn \", \" is not \"),\n",
    "             (\"mightn\", \" might not \"), (\"mustn\", \" must not \"),\n",
    "             (\"needn\", \" need not \"), (\"shouldn\", \" should not \"),\n",
    "             (\"wouldn\", \" would not \"), (\"weren\", \" were not \")]\n",
    "\n",
    "    t = text\n",
    "    for fix in fixes:\n",
    "        t = re.sub(\"(\\s*)\" + fix[0] + \"\\s*\", fix[1], t)\n",
    "    return t\n",
    "\n",
    "\n",
    "def fix_appends(text):\n",
    "#     text = re.sub('(^|\\s+)not\\s+', ' not_', text)\n",
    "#     text = re.sub('(^|\\s+)no\\s+', ' no_', text)\n",
    "    return text\n",
    "\n",
    "\n",
    "def lemming(text):\n",
    "    lemmatizer = WordNetLemmatizer()\n",
    "    return [\n",
    "        lemmatizer.lemmatize(word, get_wordnet_pos(word))\n",
    "        for word in word_tokenize(text)\n",
    "    ]\n",
    "\n",
    "\n",
    "def clean_text(text):\n",
    "    t = text.lower()  # lowercase text\n",
    "    t = re.sub(' +', ' ', t)\n",
    "\n",
    "    t = \" \".join(lemming(t))\n",
    "    t = fix(t)\n",
    "\n",
    "    t = \" \".join(lemming(t))\n",
    "    t = ' '.join(stemmer.stem(word) for word in t.split())\n",
    "    t = fix(t)\n",
    "    t = ' '.join(word for word in t.split() if word not in STOPWORDS)\n",
    "    t = fix_appends(t)\n",
    "#     t = re.sub(REPLACE_BY_SPACE_RE, ' ', t)\n",
    "    t = re.sub(' +', ' ', t)\n",
    "#     t = ' '.join(word for word in t.split() if word not in STOPWORDS_MORE)\n",
    "\n",
    "    return t"
   ]
  },
  {
   "cell_type": "markdown",
   "metadata": {},
   "source": [
    "# Data"
   ]
  },
  {
   "cell_type": "markdown",
   "metadata": {},
   "source": [
    "## load"
   ]
  },
  {
   "cell_type": "code",
   "execution_count": 16,
   "metadata": {
    "ExecuteTime": {
     "end_time": "2020-05-21T23:42:32.332186Z",
     "start_time": "2020-05-21T23:42:32.313793Z"
    }
   },
   "outputs": [],
   "source": [
    "# load data\n",
    "PATH_TO_DATA = './simplesentiment/'\n",
    "files = ['products_sentiment_train.tsv', 'products_sentiment_test.tsv']\n",
    "train =  pd.read_csv(PATH_TO_DATA+files[0], sep = '\\t', header = None, names = ['text', 'target'])\n",
    "# train, taget, test\n",
    "data_samples = train.text\n",
    "y = train.target\n",
    "test = pd.read_csv(PATH_TO_DATA+files[1], sep = '\\t')\n",
    "T = test.text"
   ]
  },
  {
   "cell_type": "markdown",
   "metadata": {
    "ExecuteTime": {
     "end_time": "2020-05-21T21:11:04.429394Z",
     "start_time": "2020-05-21T21:11:04.426657Z"
    }
   },
   "source": [
    "## examples"
   ]
  },
  {
   "cell_type": "code",
   "execution_count": 169,
   "metadata": {
    "ExecuteTime": {
     "end_time": "2020-05-22T03:20:46.563162Z",
     "start_time": "2020-05-22T03:20:32.675948Z"
    }
   },
   "outputs": [],
   "source": [
    "data_samples_cleared = pd.Series([clean_text(t) for t in data_samples])\n",
    "r_seed = 22\n",
    "# split data to train/validation sets\n",
    "X_train, X_val, y_train, y_val = split_data(data_samples_cleared, y, r_seed)"
   ]
  },
  {
   "cell_type": "markdown",
   "metadata": {
    "ExecuteTime": {
     "end_time": "2020-05-22T02:39:09.246338Z",
     "start_time": "2020-05-22T02:39:09.243731Z"
    }
   },
   "source": [
    "# Model : Words"
   ]
  },
  {
   "cell_type": "code",
   "execution_count": 112,
   "metadata": {
    "ExecuteTime": {
     "end_time": "2020-05-22T02:39:28.192437Z",
     "start_time": "2020-05-22T02:39:28.187940Z"
    }
   },
   "outputs": [],
   "source": [
    "# data transformer - vectorizer\n",
    "vectorizer = CountVectorizer(\n",
    "    ngram_range=(1, 3),\n",
    "    min_df=1,\n",
    "    tokenizer=word_tokenize,\n",
    "    analyzer='word',\n",
    ")\n"
   ]
  },
  {
   "cell_type": "markdown",
   "metadata": {
    "ExecuteTime": {
     "end_time": "2020-05-21T21:21:06.716737Z",
     "start_time": "2020-05-21T21:21:06.713937Z"
    }
   },
   "source": [
    "# Classifiers"
   ]
  },
  {
   "cell_type": "markdown",
   "metadata": {
    "ExecuteTime": {
     "end_time": "2020-05-22T01:34:36.464042Z",
     "start_time": "2020-05-22T01:34:36.461028Z"
    }
   },
   "source": [
    "## NB"
   ]
  },
  {
   "cell_type": "code",
   "execution_count": 63,
   "metadata": {
    "ExecuteTime": {
     "end_time": "2020-05-22T01:47:36.718762Z",
     "start_time": "2020-05-22T01:47:28.907872Z"
    },
    "scrolled": true
   },
   "outputs": [
    {
     "name": "stdout",
     "output_type": "stream",
     "text": [
      "Fitting train ...\n",
      "done in 0.508s.\n",
      "Predicting validation ...\n",
      "done in 0.170s.\n",
      "AUC score : 0.8546\n",
      "Cross-validation ...\n",
      "roc_auc\n",
      "(array([0.8719, 0.8994, 0.8732, 0.8648, 0.8864, 0.8894, 0.8974, 0.8876]), 0.8838, 0.0117)\n",
      "done in 7.110s.\n"
     ]
    }
   ],
   "source": [
    "cls = ComplementNB()\n",
    "pipe = pipeline_imb(\n",
    "    steps=[\n",
    "        ('vectorizer', vectorizer),\n",
    "        ('sampling', RandomOverSampler(random_state=0)),\n",
    "        (\"tfidf\", TfidfTransformer()),\n",
    "        ('cls', cls)])\n",
    "\n",
    "checking(pipe, data_samples_cleared, y, 10, n_jobs=-1, scoring='roc_auc', cv=8)"
   ]
  },
  {
   "cell_type": "code",
   "execution_count": 39,
   "metadata": {
    "ExecuteTime": {
     "end_time": "2020-05-22T01:23:25.185403Z",
     "start_time": "2020-05-22T01:23:23.654212Z"
    }
   },
   "outputs": [
    {
     "data": {
      "text/plain": [
       "[(0.8115,\n",
       "  0.0105,\n",
       "  array([0.812, 0.832, 0.808, 0.812, 0.796, 0.812, 0.8  , 0.82 ]))]"
      ]
     },
     "execution_count": 39,
     "metadata": {},
     "output_type": "execute_result"
    }
   ],
   "source": [
    "[(x.mean().round(4), x.std().round(4), x.round(4))\n",
    " for x in [cross_val_score(pipe, data_samples_cleared, y, n_jobs=-1, cv = 8)]]"
   ]
  },
  {
   "cell_type": "code",
   "execution_count": 64,
   "metadata": {
    "ExecuteTime": {
     "end_time": "2020-05-22T01:48:20.216586Z",
     "start_time": "2020-05-22T01:48:19.575106Z"
    }
   },
   "outputs": [
    {
     "name": "stdout",
     "output_type": "stream",
     "text": [
      "              precision    recall  f1-score   support\n",
      "\n",
      "           0       0.73      0.76      0.74       240\n",
      "           1       0.86      0.84      0.85       420\n",
      "\n",
      "    accuracy                           0.81       660\n",
      "   macro avg       0.79      0.80      0.80       660\n",
      "weighted avg       0.81      0.81      0.81       660\n",
      "\n"
     ]
    }
   ],
   "source": [
    "pipe.fit(X_train,y_train)\n",
    "print(classification_report(y_val, pipe.predict(X_val)))"
   ]
  },
  {
   "cell_type": "code",
   "execution_count": 65,
   "metadata": {
    "ExecuteTime": {
     "end_time": "2020-05-22T01:48:38.969412Z",
     "start_time": "2020-05-22T01:48:38.776735Z"
    }
   },
   "outputs": [
    {
     "data": {
      "text/plain": [
       "array([[182,  58],\n",
       "       [ 68, 352]])"
      ]
     },
     "execution_count": 65,
     "metadata": {},
     "output_type": "execute_result"
    }
   ],
   "source": [
    "confusion_matrix(y_val, pipe.predict(X_val), labels = [0, 1])"
   ]
  },
  {
   "cell_type": "code",
   "execution_count": 66,
   "metadata": {
    "ExecuteTime": {
     "end_time": "2020-05-22T01:48:42.446225Z",
     "start_time": "2020-05-22T01:48:42.221740Z"
    }
   },
   "outputs": [
    {
     "data": {
      "text/plain": [
       "126"
      ]
     },
     "execution_count": 66,
     "metadata": {},
     "output_type": "execute_result"
    }
   ],
   "source": [
    "errors = X_val[pipe.predict(X_val) != y_val.values]\n",
    "len(errors)"
   ]
  },
  {
   "cell_type": "code",
   "execution_count": 70,
   "metadata": {
    "ExecuteTime": {
     "end_time": "2020-05-22T01:57:31.916914Z",
     "start_time": "2020-05-22T01:57:22.700393Z"
    }
   },
   "outputs": [
    {
     "data": {
      "image/png": "[encoded data removed]",
      "text/plain": [
       "<Figure size 1440x360 with 1 Axes>"
      ]
     },
     "metadata": {
      "needs_background": "light"
     },
     "output_type": "display_data"
    }
   ],
   "source": [
    "curve_plot(pipe, data_samples_cleared, y, 4)"
   ]
  },
  {
   "cell_type": "markdown",
   "metadata": {
    "ExecuteTime": {
     "end_time": "2020-05-22T02:00:57.162097Z",
     "start_time": "2020-05-22T02:00:57.158953Z"
    }
   },
   "source": [
    "## LogisticRegression"
   ]
  },
  {
   "cell_type": "code",
   "execution_count": 90,
   "metadata": {
    "ExecuteTime": {
     "end_time": "2020-05-22T02:10:03.594565Z",
     "start_time": "2020-05-22T02:09:55.899909Z"
    }
   },
   "outputs": [
    {
     "name": "stdout",
     "output_type": "stream",
     "text": [
      "Fitting train ...\n",
      "done in 0.487s.\n",
      "Predicting validation ...\n",
      "done in 0.178s.\n",
      "AUC score : 0.8557\n",
      "Cross-validation ...\n",
      "roc_auc\n",
      "(array([0.8702, 0.9035, 0.8669, 0.8649, 0.8802, 0.8881, 0.8831, 0.8803]), 0.8796, 0.0118)\n",
      "done in 7.013s.\n"
     ]
    }
   ],
   "source": [
    "cls = LogisticRegression(C=60, random_state=0, solver='liblinear')\n",
    "pipe = pipeline_imb(steps=[\n",
    "    ('vectorizer', vectorizer),\n",
    "    (\"tfidf\", TfidfTransformer()),\n",
    "    ('sampling', RandomOverSampler(random_state=0)),\n",
    "    ('cls', cls)\n",
    "])\n",
    "\n",
    "checking(pipe, data_samples_cleared, y, 10, n_jobs=-1, scoring='roc_auc', cv=8)"
   ]
  },
  {
   "cell_type": "code",
   "execution_count": 82,
   "metadata": {
    "ExecuteTime": {
     "end_time": "2020-05-22T02:05:41.039608Z",
     "start_time": "2020-05-22T02:04:45.047839Z"
    }
   },
   "outputs": [
    {
     "name": "stdout",
     "output_type": "stream",
     "text": [
      "Fitting 5 folds for each of 50 candidates, totalling 250 fits\n"
     ]
    },
    {
     "name": "stderr",
     "output_type": "stream",
     "text": [
      "[Parallel(n_jobs=4)]: Using backend LokyBackend with 4 concurrent workers.\n",
      "[Parallel(n_jobs=4)]: Done  42 tasks      | elapsed:   12.3s\n",
      "[Parallel(n_jobs=4)]: Done 192 tasks      | elapsed:   42.7s\n",
      "[Parallel(n_jobs=4)]: Done 250 out of 250 | elapsed:   54.6s finished\n"
     ]
    },
    {
     "name": "stdout",
     "output_type": "stream",
     "text": [
      "0.8766 {'cls__C': 61.276337607164386}\n"
     ]
    }
   ],
   "source": [
    "param_distributions = {'cls__C': uniform(loc=1, scale=100)}\n",
    "search = RandomizedSearchCV(pipe,\n",
    "                            param_distributions,\n",
    "                            verbose=1,\n",
    "                            n_jobs=4,\n",
    "                            n_iter=50,\n",
    "                            scoring='roc_auc',\n",
    "                            random_state=0)\n",
    "search.fit(data_samples_cleared, y)\n",
    "print(search.best_score_.round(4), search.best_params_)"
   ]
  },
  {
   "cell_type": "code",
   "execution_count": 83,
   "metadata": {
    "ExecuteTime": {
     "end_time": "2020-05-22T02:05:41.254677Z",
     "start_time": "2020-05-22T02:05:41.041897Z"
    }
   },
   "outputs": [
    {
     "data": {
      "text/plain": [
       "<matplotlib.collections.PathCollection at 0x7f4c6be13fd0>"
      ]
     },
     "execution_count": 83,
     "metadata": {},
     "output_type": "execute_result"
    },
    {
     "data": {
      "image/png": "[encoded data removed]",
      "text/plain": [
       "<Figure size 432x288 with 1 Axes>"
      ]
     },
     "metadata": {
      "needs_background": "light"
     },
     "output_type": "display_data"
    }
   ],
   "source": [
    "plt.scatter(search.cv_results_['param_cls__C'].data,\n",
    "            search.cv_results_['mean_test_score'],\n",
    "            s=2,\n",
    "            marker=\"_\")"
   ]
  },
  {
   "cell_type": "code",
   "execution_count": 85,
   "metadata": {
    "ExecuteTime": {
     "end_time": "2020-05-22T02:06:41.784401Z",
     "start_time": "2020-05-22T02:06:40.232065Z"
    }
   },
   "outputs": [
    {
     "data": {
      "text/plain": [
       "[(0.8095,\n",
       "  0.0133,\n",
       "  array([0.808, 0.828, 0.816, 0.796, 0.796, 0.792, 0.828, 0.812]))]"
      ]
     },
     "execution_count": 85,
     "metadata": {},
     "output_type": "execute_result"
    }
   ],
   "source": [
    "[(x.mean().round(4), x.std().round(4), x.round(4))\n",
    " for x in [cross_val_score(pipe, data_samples_cleared, y, n_jobs=-1, cv = 8)]]"
   ]
  },
  {
   "cell_type": "code",
   "execution_count": 86,
   "metadata": {
    "ExecuteTime": {
     "end_time": "2020-05-22T02:06:56.846806Z",
     "start_time": "2020-05-22T02:06:56.175963Z"
    }
   },
   "outputs": [
    {
     "name": "stdout",
     "output_type": "stream",
     "text": [
      "              precision    recall  f1-score   support\n",
      "\n",
      "           0       0.76      0.68      0.72       240\n",
      "           1       0.83      0.88      0.85       420\n",
      "\n",
      "    accuracy                           0.81       660\n",
      "   macro avg       0.79      0.78      0.79       660\n",
      "weighted avg       0.80      0.81      0.80       660\n",
      "\n"
     ]
    }
   ],
   "source": [
    "pipe.fit(X_train,y_train)\n",
    "print(classification_report(y_val, pipe.predict(X_val)))"
   ]
  },
  {
   "cell_type": "code",
   "execution_count": 87,
   "metadata": {
    "ExecuteTime": {
     "end_time": "2020-05-22T02:06:57.061613Z",
     "start_time": "2020-05-22T02:06:56.850067Z"
    }
   },
   "outputs": [
    {
     "data": {
      "text/plain": [
       "array([[164,  76],\n",
       "       [ 52, 368]])"
      ]
     },
     "execution_count": 87,
     "metadata": {},
     "output_type": "execute_result"
    }
   ],
   "source": [
    "confusion_matrix(y_val, pipe.predict(X_val), labels = [0, 1])"
   ]
  },
  {
   "cell_type": "code",
   "execution_count": 88,
   "metadata": {
    "ExecuteTime": {
     "end_time": "2020-05-22T02:06:57.281692Z",
     "start_time": "2020-05-22T02:06:57.065203Z"
    }
   },
   "outputs": [
    {
     "data": {
      "text/plain": [
       "128"
      ]
     },
     "execution_count": 88,
     "metadata": {},
     "output_type": "execute_result"
    }
   ],
   "source": [
    "errors = X_val[pipe.predict(X_val) != y_val.values]\n",
    "len(errors)"
   ]
  },
  {
   "cell_type": "code",
   "execution_count": 91,
   "metadata": {
    "ExecuteTime": {
     "end_time": "2020-05-22T02:10:49.754079Z",
     "start_time": "2020-05-22T02:10:39.003104Z"
    }
   },
   "outputs": [
    {
     "data": {
      "image/png": "[encoded data removed]",
      "text/plain": [
       "<Figure size 1440x360 with 1 Axes>"
      ]
     },
     "metadata": {
      "needs_background": "light"
     },
     "output_type": "display_data"
    }
   ],
   "source": [
    "curve_plot(pipe, data_samples_cleared, y, 4)"
   ]
  },
  {
   "cell_type": "markdown",
   "metadata": {},
   "source": [
    "## SVM"
   ]
  },
  {
   "cell_type": "code",
   "execution_count": 106,
   "metadata": {
    "ExecuteTime": {
     "end_time": "2020-05-22T02:28:25.783675Z",
     "start_time": "2020-05-22T02:28:04.008331Z"
    }
   },
   "outputs": [
    {
     "name": "stdout",
     "output_type": "stream",
     "text": [
      "Fitting train ...\n",
      "done in 3.939s.\n",
      "Predicting validation ...\n",
      "done in 0.336s.\n",
      "AUC score : 0.8552\n",
      "Cross-validation ...\n",
      "roc_auc\n",
      "(array([0.8839, 0.8972, 0.8663, 0.8695, 0.8782, 0.8806, 0.8761, 0.8828]), 0.8793, 0.0089)\n",
      "done in 17.485s.\n"
     ]
    }
   ],
   "source": [
    "cls = SVC(kernel='sigmoid',\n",
    "          random_state=0,\n",
    "          class_weight='balanced',\n",
    "          probability=True,\n",
    "          C=3.0)\n",
    "pipe = pipeline_imb(\n",
    "    steps=[('vectorizer', vectorizer), (\n",
    "        \"tfidf\",\n",
    "        TfidfTransformer()), ('sampling',\n",
    "                              RandomOverSampler(random_state=0)), ('cls',\n",
    "                                                                   cls)])\n",
    "checking(pipe, data_samples_cleared, y, 22, n_jobs=4, scoring='roc_auc', cv=8)"
   ]
  },
  {
   "cell_type": "code",
   "execution_count": 103,
   "metadata": {
    "ExecuteTime": {
     "end_time": "2020-05-22T02:26:43.853948Z",
     "start_time": "2020-05-22T02:18:20.171218Z"
    }
   },
   "outputs": [
    {
     "name": "stdout",
     "output_type": "stream",
     "text": [
      "Fitting 5 folds for each of 50 candidates, totalling 250 fits\n"
     ]
    },
    {
     "name": "stderr",
     "output_type": "stream",
     "text": [
      "[Parallel(n_jobs=4)]: Using backend LokyBackend with 4 concurrent workers.\n",
      "[Parallel(n_jobs=4)]: Done  42 tasks      | elapsed:  1.6min\n",
      "[Parallel(n_jobs=4)]: Done 192 tasks      | elapsed:  6.0min\n",
      "[Parallel(n_jobs=4)]: Done 250 out of 250 | elapsed:  8.3min finished\n"
     ]
    },
    {
     "name": "stdout",
     "output_type": "stream",
     "text": [
      "0.8745 {'cls__C': 2.878980043635514}\n"
     ]
    }
   ],
   "source": [
    "param_distributions = {'cls__C': uniform(loc=1, scale=100)}\n",
    "search = RandomizedSearchCV(pipe,\n",
    "                            param_distributions,\n",
    "                            verbose=1,\n",
    "                            n_jobs=4,\n",
    "                            n_iter=20,\n",
    "                            scoring='roc_auc',\n",
    "                            random_state=0)\n",
    "search.fit(data_samples_cleared, y)\n",
    "print(search.best_score_.round(4), search.best_params_)"
   ]
  },
  {
   "cell_type": "code",
   "execution_count": 105,
   "metadata": {
    "ExecuteTime": {
     "end_time": "2020-05-22T02:26:59.925608Z",
     "start_time": "2020-05-22T02:26:59.715837Z"
    }
   },
   "outputs": [
    {
     "data": {
      "text/plain": [
       "<matplotlib.collections.PathCollection at 0x7f4c6bf2f450>"
      ]
     },
     "execution_count": 105,
     "metadata": {},
     "output_type": "execute_result"
    },
    {
     "data": {
      "image/png": "[encoded data removed]",
      "text/plain": [
       "<Figure size 432x288 with 1 Axes>"
      ]
     },
     "metadata": {
      "needs_background": "light"
     },
     "output_type": "display_data"
    }
   ],
   "source": [
    "plt.scatter(search.cv_results_['param_cls__C'].data,\n",
    "            search.cv_results_['mean_test_score'],\n",
    "            s=2,\n",
    "            marker=\"_\")"
   ]
  },
  {
   "cell_type": "code",
   "execution_count": 107,
   "metadata": {
    "ExecuteTime": {
     "end_time": "2020-05-22T02:29:32.984142Z",
     "start_time": "2020-05-22T02:29:12.965652Z"
    }
   },
   "outputs": [
    {
     "data": {
      "text/plain": [
       "[(0.8135,\n",
       "  0.0154,\n",
       "  array([0.828, 0.84 , 0.8  , 0.796, 0.8  , 0.804, 0.812, 0.828]))]"
      ]
     },
     "execution_count": 107,
     "metadata": {},
     "output_type": "execute_result"
    }
   ],
   "source": [
    "[(x.mean().round(4), x.std().round(4), x.round(4))\n",
    " for x in [cross_val_score(pipe, data_samples_cleared, y, n_jobs=-1, cv = 8)]]"
   ]
  },
  {
   "cell_type": "code",
   "execution_count": 108,
   "metadata": {
    "ExecuteTime": {
     "end_time": "2020-05-22T02:29:37.253297Z",
     "start_time": "2020-05-22T02:29:32.987103Z"
    }
   },
   "outputs": [
    {
     "name": "stdout",
     "output_type": "stream",
     "text": [
      "              precision    recall  f1-score   support\n",
      "\n",
      "           0       0.75      0.71      0.73       240\n",
      "           1       0.84      0.86      0.85       420\n",
      "\n",
      "    accuracy                           0.81       660\n",
      "   macro avg       0.79      0.79      0.79       660\n",
      "weighted avg       0.81      0.81      0.81       660\n",
      "\n"
     ]
    }
   ],
   "source": [
    "pipe.fit(X_train,y_train)\n",
    "print(classification_report(y_val, pipe.predict(X_val)))"
   ]
  },
  {
   "cell_type": "code",
   "execution_count": 109,
   "metadata": {
    "ExecuteTime": {
     "end_time": "2020-05-22T02:29:37.656745Z",
     "start_time": "2020-05-22T02:29:37.255845Z"
    }
   },
   "outputs": [
    {
     "data": {
      "text/plain": [
       "array([[171,  69],\n",
       "       [ 58, 362]])"
      ]
     },
     "execution_count": 109,
     "metadata": {},
     "output_type": "execute_result"
    }
   ],
   "source": [
    "confusion_matrix(y_val, pipe.predict(X_val), labels = [0, 1])"
   ]
  },
  {
   "cell_type": "code",
   "execution_count": 110,
   "metadata": {
    "ExecuteTime": {
     "end_time": "2020-05-22T02:29:38.073014Z",
     "start_time": "2020-05-22T02:29:37.658817Z"
    }
   },
   "outputs": [
    {
     "data": {
      "text/plain": [
       "127"
      ]
     },
     "execution_count": 110,
     "metadata": {},
     "output_type": "execute_result"
    }
   ],
   "source": [
    "errors = X_val[pipe.predict(X_val) != y_val.values]\n",
    "len(errors)"
   ]
  },
  {
   "cell_type": "code",
   "execution_count": 101,
   "metadata": {
    "ExecuteTime": {
     "end_time": "2020-05-22T02:14:38.407321Z",
     "start_time": "2020-05-22T02:14:06.444126Z"
    }
   },
   "outputs": [
    {
     "data": {
      "image/png": "[encoded data removed]",
      "text/plain": [
       "<Figure size 1440x360 with 1 Axes>"
      ]
     },
     "metadata": {
      "needs_background": "light"
     },
     "output_type": "display_data"
    }
   ],
   "source": [
    "curve_plot(pipe, data_samples_cleared, y, 4)"
   ]
  },
  {
   "cell_type": "markdown",
   "metadata": {
    "ExecuteTime": {
     "end_time": "2020-05-22T02:41:09.882956Z",
     "start_time": "2020-05-22T02:41:09.879645Z"
    }
   },
   "source": [
    "# Model : Chars"
   ]
  },
  {
   "cell_type": "code",
   "execution_count": 204,
   "metadata": {
    "ExecuteTime": {
     "end_time": "2020-05-22T03:52:32.707398Z",
     "start_time": "2020-05-22T03:52:32.703511Z"
    }
   },
   "outputs": [],
   "source": [
    "# data transformer - vectorizer\n",
    "vectorizer = TfidfVectorizer(\n",
    "    ngram_range=(2, 7),\n",
    "    min_df=1,\n",
    "    analyzer='char'\n",
    ")"
   ]
  },
  {
   "cell_type": "code",
   "execution_count": 205,
   "metadata": {
    "ExecuteTime": {
     "end_time": "2020-05-22T03:52:33.209835Z",
     "start_time": "2020-05-22T03:52:33.201178Z"
    }
   },
   "outputs": [],
   "source": [
    "# split data to train/validation sets\n",
    "X_train, X_val, y_train, y_val = split_data(data_samples, y, r_seed)"
   ]
  },
  {
   "cell_type": "markdown",
   "metadata": {
    "ExecuteTime": {
     "end_time": "2020-05-22T02:42:35.255850Z",
     "start_time": "2020-05-22T02:42:35.252026Z"
    }
   },
   "source": [
    "# Classifiers"
   ]
  },
  {
   "cell_type": "markdown",
   "metadata": {
    "ExecuteTime": {
     "end_time": "2020-05-22T02:42:44.755206Z",
     "start_time": "2020-05-22T02:42:44.752288Z"
    }
   },
   "source": [
    "## NB"
   ]
  },
  {
   "cell_type": "code",
   "execution_count": 206,
   "metadata": {
    "ExecuteTime": {
     "end_time": "2020-05-22T03:52:47.731068Z",
     "start_time": "2020-05-22T03:52:38.464104Z"
    }
   },
   "outputs": [
    {
     "name": "stdout",
     "output_type": "stream",
     "text": [
      "Fitting train ...\n",
      "done in 1.288s.\n",
      "Predicting validation ...\n",
      "done in 0.394s.\n",
      "AUC score : 0.8549\n",
      "Cross-validation ...\n",
      "roc_auc\n",
      "(array([0.8669, 0.9124, 0.8661, 0.8641, 0.869 , 0.8932, 0.8932, 0.8676]), 0.8791, 0.0169)\n",
      "done in 7.571s.\n"
     ]
    }
   ],
   "source": [
    "cls = ComplementNB()\n",
    "pipe = pipeline_imb(\n",
    "    steps=[\n",
    "        ('vectorizer', vectorizer),\n",
    "        (\"tfidf\", TfidfTransformer()),\n",
    "        ('sampling', RandomOverSampler(random_state=0)),\n",
    "        ('cls', cls)])\n",
    "checking(pipe, data_samples, y, 10, n_jobs=4, scoring='roc_auc', cv=8)"
   ]
  },
  {
   "cell_type": "code",
   "execution_count": 207,
   "metadata": {
    "ExecuteTime": {
     "end_time": "2020-05-22T03:54:52.742153Z",
     "start_time": "2020-05-22T03:54:48.083817Z"
    }
   },
   "outputs": [
    {
     "data": {
      "text/plain": [
       "[(0.797,\n",
       "  0.0198,\n",
       "  array([0.78 , 0.832, 0.82 , 0.776, 0.784, 0.812, 0.784, 0.788]))]"
      ]
     },
     "execution_count": 207,
     "metadata": {},
     "output_type": "execute_result"
    }
   ],
   "source": [
    "[(x.mean().round(4), x.std().round(4), x.round(4))\n",
    " for x in [cross_val_score(pipe, data_samples, y, n_jobs=-1, cv = 8)]]"
   ]
  },
  {
   "cell_type": "code",
   "execution_count": 208,
   "metadata": {
    "ExecuteTime": {
     "end_time": "2020-05-22T03:54:29.040683Z",
     "start_time": "2020-05-22T03:54:27.181869Z"
    }
   },
   "outputs": [
    {
     "name": "stdout",
     "output_type": "stream",
     "text": [
      "              precision    recall  f1-score   support\n",
      "\n",
      "           0       0.65      0.78      0.71       240\n",
      "           1       0.86      0.76      0.81       420\n",
      "\n",
      "    accuracy                           0.77       660\n",
      "   macro avg       0.75      0.77      0.76       660\n",
      "weighted avg       0.78      0.77      0.77       660\n",
      "\n"
     ]
    }
   ],
   "source": [
    "pipe.fit(X_train,y_train)\n",
    "print(classification_report(y_val, pipe.predict(X_val)))"
   ]
  },
  {
   "cell_type": "code",
   "execution_count": 209,
   "metadata": {
    "ExecuteTime": {
     "end_time": "2020-05-22T03:54:32.652343Z",
     "start_time": "2020-05-22T03:54:32.266470Z"
    }
   },
   "outputs": [
    {
     "data": {
      "text/plain": [
       "array([[186,  54],\n",
       "       [ 99, 321]])"
      ]
     },
     "execution_count": 209,
     "metadata": {},
     "output_type": "execute_result"
    }
   ],
   "source": [
    "confusion_matrix(y_val, pipe.predict(X_val), labels = [0, 1])"
   ]
  },
  {
   "cell_type": "code",
   "execution_count": 210,
   "metadata": {
    "ExecuteTime": {
     "end_time": "2020-05-22T03:54:33.261724Z",
     "start_time": "2020-05-22T03:54:32.830999Z"
    }
   },
   "outputs": [
    {
     "data": {
      "text/plain": [
       "153"
      ]
     },
     "execution_count": 210,
     "metadata": {},
     "output_type": "execute_result"
    }
   ],
   "source": [
    "errors = X_val[pipe.predict(X_val) != y_val.values]\n",
    "len(errors)"
   ]
  },
  {
   "cell_type": "markdown",
   "metadata": {
    "ExecuteTime": {
     "end_time": "2020-05-22T03:24:09.762748Z",
     "start_time": "2020-05-22T03:24:09.759764Z"
    }
   },
   "source": [
    "## Logistic Regression"
   ]
  },
  {
   "cell_type": "code",
   "execution_count": 211,
   "metadata": {
    "ExecuteTime": {
     "end_time": "2020-05-22T03:54:12.412434Z",
     "start_time": "2020-05-22T03:54:00.416817Z"
    }
   },
   "outputs": [
    {
     "name": "stdout",
     "output_type": "stream",
     "text": [
      "Fitting train ...\n",
      "done in 1.442s.\n",
      "Predicting validation ...\n",
      "done in 0.421s.\n",
      "AUC score : 0.8506\n",
      "Cross-validation ...\n",
      "roc_auc\n",
      "(array([0.8705, 0.9126, 0.8658, 0.867 , 0.8733, 0.9005, 0.8855, 0.8792]), 0.8818, 0.0158)\n",
      "done in 10.113s.\n"
     ]
    }
   ],
   "source": [
    "cls = LogisticRegression(C=3, random_state=0, solver='liblinear')\n",
    "pipe = pipeline_imb(\n",
    "    steps=[\n",
    "        ('vectorizer', vectorizer),\n",
    "        (\"tfidf\", TfidfTransformer()),\n",
    "        ('sampling', RandomOverSampler(random_state=0)),\n",
    "        ('cls', cls)])\n",
    "checking(pipe, data_samples, y, 10, n_jobs=4, scoring='roc_auc', cv=8)"
   ]
  },
  {
   "cell_type": "code",
   "execution_count": 216,
   "metadata": {
    "ExecuteTime": {
     "end_time": "2020-05-22T03:54:52.742153Z",
     "start_time": "2020-05-22T03:54:48.083817Z"
    }
   },
   "outputs": [
    {
     "data": {
      "text/plain": [
       "[(0.795, 0.0213, array([0.795 , 0.8225, 0.805 , 0.7575, 0.795 ]))]"
      ]
     },
     "execution_count": 216,
     "metadata": {},
     "output_type": "execute_result"
    }
   ],
   "source": [
    "[(x.mean().round(4), x.std().round(4), x.round(4))\n",
    " for x in [cross_val_score(pipe, data_samples, y, n_jobs=4, cv = 5)]]"
   ]
  },
  {
   "cell_type": "code",
   "execution_count": 213,
   "metadata": {
    "ExecuteTime": {
     "end_time": "2020-05-22T03:54:29.040683Z",
     "start_time": "2020-05-22T03:54:27.181869Z"
    }
   },
   "outputs": [
    {
     "name": "stdout",
     "output_type": "stream",
     "text": [
      "              precision    recall  f1-score   support\n",
      "\n",
      "           0       0.74      0.64      0.69       240\n",
      "           1       0.81      0.87      0.84       420\n",
      "\n",
      "    accuracy                           0.79       660\n",
      "   macro avg       0.77      0.76      0.76       660\n",
      "weighted avg       0.78      0.79      0.78       660\n",
      "\n"
     ]
    }
   ],
   "source": [
    "pipe.fit(X_train,y_train)\n",
    "print(classification_report(y_val, pipe.predict(X_val)))"
   ]
  },
  {
   "cell_type": "code",
   "execution_count": 214,
   "metadata": {
    "ExecuteTime": {
     "end_time": "2020-05-22T03:54:32.652343Z",
     "start_time": "2020-05-22T03:54:32.266470Z"
    }
   },
   "outputs": [
    {
     "data": {
      "text/plain": [
       "array([[154,  86],\n",
       "       [ 55, 365]])"
      ]
     },
     "execution_count": 214,
     "metadata": {},
     "output_type": "execute_result"
    }
   ],
   "source": [
    "confusion_matrix(y_val, pipe.predict(X_val), labels = [0, 1])"
   ]
  },
  {
   "cell_type": "code",
   "execution_count": 215,
   "metadata": {
    "ExecuteTime": {
     "end_time": "2020-05-22T03:54:33.261724Z",
     "start_time": "2020-05-22T03:54:32.830999Z"
    }
   },
   "outputs": [
    {
     "data": {
      "text/plain": [
       "141"
      ]
     },
     "execution_count": 215,
     "metadata": {},
     "output_type": "execute_result"
    }
   ],
   "source": [
    "errors = X_val[pipe.predict(X_val) != y_val.values]\n",
    "len(errors)"
   ]
  },
  {
   "cell_type": "markdown",
   "metadata": {},
   "source": [
    "## SVM"
   ]
  },
  {
   "cell_type": "code",
   "execution_count": 201,
   "metadata": {
    "ExecuteTime": {
     "end_time": "2020-05-22T03:49:55.990742Z",
     "start_time": "2020-05-22T03:49:55.985204Z"
    }
   },
   "outputs": [],
   "source": [
    "cls = SVC(kernel='rbf',\n",
    "          random_state=0,\n",
    "          class_weight='balanced',\n",
    "          probability=True,\n",
    "          C=3.0)\n",
    "pipe = pipeline_imb(\n",
    "    steps=[('vectorizer', vectorizer), (\n",
    "        \"tfidf\",\n",
    "        TfidfTransformer()), ('sampling',\n",
    "                              RandomOverSampler(random_state=0)), ('cls',\n",
    "                                                                   cls)])\n",
    "# checking(pipe, data_samples_cleared, y, 22, n_jobs=4, scoring='roc_auc', cv=8)"
   ]
  },
  {
   "cell_type": "code",
   "execution_count": 203,
   "metadata": {
    "ExecuteTime": {
     "end_time": "2020-05-22T03:54:52.742153Z",
     "start_time": "2020-05-22T03:54:48.083817Z"
    }
   },
   "outputs": [
    {
     "ename": "KeyboardInterrupt",
     "evalue": "",
     "output_type": "error",
     "traceback": [
      "\u001b[0;31m---------------------------------------------------------------------------\u001b[0m",
      "\u001b[0;31mKeyboardInterrupt\u001b[0m                         Traceback (most recent call last)",
      "\u001b[0;32m<ipython-input-203-39803d57d267>\u001b[0m in \u001b[0;36m<module>\u001b[0;34m\u001b[0m\n\u001b[1;32m      1\u001b[0m [(x.mean().round(4), x.std().round(4), x.round(4))\n\u001b[0;32m----> 2\u001b[0;31m  for x in [cross_val_score(pipe, data_samples, y, n_jobs=4, cv = 8)]]\n\u001b[0m",
      "\u001b[0;32m~/miniconda3/lib/python3.7/site-packages/sklearn/model_selection/_validation.py\u001b[0m in \u001b[0;36mcross_val_score\u001b[0;34m(estimator, X, y, groups, scoring, cv, n_jobs, verbose, fit_params, pre_dispatch, error_score)\u001b[0m\n\u001b[1;32m    388\u001b[0m                                 \u001b[0mfit_params\u001b[0m\u001b[0;34m=\u001b[0m\u001b[0mfit_params\u001b[0m\u001b[0;34m,\u001b[0m\u001b[0;34m\u001b[0m\u001b[0;34m\u001b[0m\u001b[0m\n\u001b[1;32m    389\u001b[0m                                 \u001b[0mpre_dispatch\u001b[0m\u001b[0;34m=\u001b[0m\u001b[0mpre_dispatch\u001b[0m\u001b[0;34m,\u001b[0m\u001b[0;34m\u001b[0m\u001b[0;34m\u001b[0m\u001b[0m\n\u001b[0;32m--> 390\u001b[0;31m                                 error_score=error_score)\n\u001b[0m\u001b[1;32m    391\u001b[0m     \u001b[0;32mreturn\u001b[0m \u001b[0mcv_results\u001b[0m\u001b[0;34m[\u001b[0m\u001b[0;34m'test_score'\u001b[0m\u001b[0;34m]\u001b[0m\u001b[0;34m\u001b[0m\u001b[0;34m\u001b[0m\u001b[0m\n\u001b[1;32m    392\u001b[0m \u001b[0;34m\u001b[0m\u001b[0m\n",
      "\u001b[0;32m~/miniconda3/lib/python3.7/site-packages/sklearn/model_selection/_validation.py\u001b[0m in \u001b[0;36mcross_validate\u001b[0;34m(estimator, X, y, groups, scoring, cv, n_jobs, verbose, fit_params, pre_dispatch, return_train_score, return_estimator, error_score)\u001b[0m\n\u001b[1;32m    234\u001b[0m             \u001b[0mreturn_times\u001b[0m\u001b[0;34m=\u001b[0m\u001b[0;32mTrue\u001b[0m\u001b[0;34m,\u001b[0m \u001b[0mreturn_estimator\u001b[0m\u001b[0;34m=\u001b[0m\u001b[0mreturn_estimator\u001b[0m\u001b[0;34m,\u001b[0m\u001b[0;34m\u001b[0m\u001b[0;34m\u001b[0m\u001b[0m\n\u001b[1;32m    235\u001b[0m             error_score=error_score)\n\u001b[0;32m--> 236\u001b[0;31m         for train, test in cv.split(X, y, groups))\n\u001b[0m\u001b[1;32m    237\u001b[0m \u001b[0;34m\u001b[0m\u001b[0m\n\u001b[1;32m    238\u001b[0m     \u001b[0mzipped_scores\u001b[0m \u001b[0;34m=\u001b[0m \u001b[0mlist\u001b[0m\u001b[0;34m(\u001b[0m\u001b[0mzip\u001b[0m\u001b[0;34m(\u001b[0m\u001b[0;34m*\u001b[0m\u001b[0mscores\u001b[0m\u001b[0;34m)\u001b[0m\u001b[0;34m)\u001b[0m\u001b[0;34m\u001b[0m\u001b[0;34m\u001b[0m\u001b[0m\n",
      "\u001b[0;32m~/miniconda3/lib/python3.7/site-packages/joblib/parallel.py\u001b[0m in \u001b[0;36m__call__\u001b[0;34m(self, iterable)\u001b[0m\n\u001b[1;32m   1015\u001b[0m \u001b[0;34m\u001b[0m\u001b[0m\n\u001b[1;32m   1016\u001b[0m             \u001b[0;32mwith\u001b[0m \u001b[0mself\u001b[0m\u001b[0;34m.\u001b[0m\u001b[0m_backend\u001b[0m\u001b[0;34m.\u001b[0m\u001b[0mretrieval_context\u001b[0m\u001b[0;34m(\u001b[0m\u001b[0;34m)\u001b[0m\u001b[0;34m:\u001b[0m\u001b[0;34m\u001b[0m\u001b[0;34m\u001b[0m\u001b[0m\n\u001b[0;32m-> 1017\u001b[0;31m                 \u001b[0mself\u001b[0m\u001b[0;34m.\u001b[0m\u001b[0mretrieve\u001b[0m\u001b[0;34m(\u001b[0m\u001b[0;34m)\u001b[0m\u001b[0;34m\u001b[0m\u001b[0;34m\u001b[0m\u001b[0m\n\u001b[0m\u001b[1;32m   1018\u001b[0m             \u001b[0;31m# Make sure that we get a last message telling us we are done\u001b[0m\u001b[0;34m\u001b[0m\u001b[0;34m\u001b[0m\u001b[0;34m\u001b[0m\u001b[0m\n\u001b[1;32m   1019\u001b[0m             \u001b[0melapsed_time\u001b[0m \u001b[0;34m=\u001b[0m \u001b[0mtime\u001b[0m\u001b[0;34m.\u001b[0m\u001b[0mtime\u001b[0m\u001b[0;34m(\u001b[0m\u001b[0;34m)\u001b[0m \u001b[0;34m-\u001b[0m \u001b[0mself\u001b[0m\u001b[0;34m.\u001b[0m\u001b[0m_start_time\u001b[0m\u001b[0;34m\u001b[0m\u001b[0;34m\u001b[0m\u001b[0m\n",
      "\u001b[0;32m~/miniconda3/lib/python3.7/site-packages/joblib/parallel.py\u001b[0m in \u001b[0;36mretrieve\u001b[0;34m(self)\u001b[0m\n\u001b[1;32m    907\u001b[0m             \u001b[0;32mtry\u001b[0m\u001b[0;34m:\u001b[0m\u001b[0;34m\u001b[0m\u001b[0;34m\u001b[0m\u001b[0m\n\u001b[1;32m    908\u001b[0m                 \u001b[0;32mif\u001b[0m \u001b[0mgetattr\u001b[0m\u001b[0;34m(\u001b[0m\u001b[0mself\u001b[0m\u001b[0;34m.\u001b[0m\u001b[0m_backend\u001b[0m\u001b[0;34m,\u001b[0m \u001b[0;34m'supports_timeout'\u001b[0m\u001b[0;34m,\u001b[0m \u001b[0;32mFalse\u001b[0m\u001b[0;34m)\u001b[0m\u001b[0;34m:\u001b[0m\u001b[0;34m\u001b[0m\u001b[0;34m\u001b[0m\u001b[0m\n\u001b[0;32m--> 909\u001b[0;31m                     \u001b[0mself\u001b[0m\u001b[0;34m.\u001b[0m\u001b[0m_output\u001b[0m\u001b[0;34m.\u001b[0m\u001b[0mextend\u001b[0m\u001b[0;34m(\u001b[0m\u001b[0mjob\u001b[0m\u001b[0;34m.\u001b[0m\u001b[0mget\u001b[0m\u001b[0;34m(\u001b[0m\u001b[0mtimeout\u001b[0m\u001b[0;34m=\u001b[0m\u001b[0mself\u001b[0m\u001b[0;34m.\u001b[0m\u001b[0mtimeout\u001b[0m\u001b[0;34m)\u001b[0m\u001b[0;34m)\u001b[0m\u001b[0;34m\u001b[0m\u001b[0;34m\u001b[0m\u001b[0m\n\u001b[0m\u001b[1;32m    910\u001b[0m                 \u001b[0;32melse\u001b[0m\u001b[0;34m:\u001b[0m\u001b[0;34m\u001b[0m\u001b[0;34m\u001b[0m\u001b[0m\n\u001b[1;32m    911\u001b[0m                     \u001b[0mself\u001b[0m\u001b[0;34m.\u001b[0m\u001b[0m_output\u001b[0m\u001b[0;34m.\u001b[0m\u001b[0mextend\u001b[0m\u001b[0;34m(\u001b[0m\u001b[0mjob\u001b[0m\u001b[0;34m.\u001b[0m\u001b[0mget\u001b[0m\u001b[0;34m(\u001b[0m\u001b[0;34m)\u001b[0m\u001b[0;34m)\u001b[0m\u001b[0;34m\u001b[0m\u001b[0;34m\u001b[0m\u001b[0m\n",
      "\u001b[0;32m~/miniconda3/lib/python3.7/site-packages/joblib/_parallel_backends.py\u001b[0m in \u001b[0;36mwrap_future_result\u001b[0;34m(future, timeout)\u001b[0m\n\u001b[1;32m    560\u001b[0m         AsyncResults.get from multiprocessing.\"\"\"\n\u001b[1;32m    561\u001b[0m         \u001b[0;32mtry\u001b[0m\u001b[0;34m:\u001b[0m\u001b[0;34m\u001b[0m\u001b[0;34m\u001b[0m\u001b[0m\n\u001b[0;32m--> 562\u001b[0;31m             \u001b[0;32mreturn\u001b[0m \u001b[0mfuture\u001b[0m\u001b[0;34m.\u001b[0m\u001b[0mresult\u001b[0m\u001b[0;34m(\u001b[0m\u001b[0mtimeout\u001b[0m\u001b[0;34m=\u001b[0m\u001b[0mtimeout\u001b[0m\u001b[0;34m)\u001b[0m\u001b[0;34m\u001b[0m\u001b[0;34m\u001b[0m\u001b[0m\n\u001b[0m\u001b[1;32m    563\u001b[0m         \u001b[0;32mexcept\u001b[0m \u001b[0mLokyTimeoutError\u001b[0m\u001b[0;34m:\u001b[0m\u001b[0;34m\u001b[0m\u001b[0;34m\u001b[0m\u001b[0m\n\u001b[1;32m    564\u001b[0m             \u001b[0;32mraise\u001b[0m \u001b[0mTimeoutError\u001b[0m\u001b[0;34m(\u001b[0m\u001b[0;34m)\u001b[0m\u001b[0;34m\u001b[0m\u001b[0;34m\u001b[0m\u001b[0m\n",
      "\u001b[0;32m~/miniconda3/lib/python3.7/concurrent/futures/_base.py\u001b[0m in \u001b[0;36mresult\u001b[0;34m(self, timeout)\u001b[0m\n\u001b[1;32m    428\u001b[0m                 \u001b[0;32mreturn\u001b[0m \u001b[0mself\u001b[0m\u001b[0;34m.\u001b[0m\u001b[0m__get_result\u001b[0m\u001b[0;34m(\u001b[0m\u001b[0;34m)\u001b[0m\u001b[0;34m\u001b[0m\u001b[0;34m\u001b[0m\u001b[0m\n\u001b[1;32m    429\u001b[0m \u001b[0;34m\u001b[0m\u001b[0m\n\u001b[0;32m--> 430\u001b[0;31m             \u001b[0mself\u001b[0m\u001b[0;34m.\u001b[0m\u001b[0m_condition\u001b[0m\u001b[0;34m.\u001b[0m\u001b[0mwait\u001b[0m\u001b[0;34m(\u001b[0m\u001b[0mtimeout\u001b[0m\u001b[0;34m)\u001b[0m\u001b[0;34m\u001b[0m\u001b[0;34m\u001b[0m\u001b[0m\n\u001b[0m\u001b[1;32m    431\u001b[0m \u001b[0;34m\u001b[0m\u001b[0m\n\u001b[1;32m    432\u001b[0m             \u001b[0;32mif\u001b[0m \u001b[0mself\u001b[0m\u001b[0;34m.\u001b[0m\u001b[0m_state\u001b[0m \u001b[0;32min\u001b[0m \u001b[0;34m[\u001b[0m\u001b[0mCANCELLED\u001b[0m\u001b[0;34m,\u001b[0m \u001b[0mCANCELLED_AND_NOTIFIED\u001b[0m\u001b[0;34m]\u001b[0m\u001b[0;34m:\u001b[0m\u001b[0;34m\u001b[0m\u001b[0;34m\u001b[0m\u001b[0m\n",
      "\u001b[0;32m~/miniconda3/lib/python3.7/threading.py\u001b[0m in \u001b[0;36mwait\u001b[0;34m(self, timeout)\u001b[0m\n\u001b[1;32m    294\u001b[0m         \u001b[0;32mtry\u001b[0m\u001b[0;34m:\u001b[0m    \u001b[0;31m# restore state no matter what (e.g., KeyboardInterrupt)\u001b[0m\u001b[0;34m\u001b[0m\u001b[0;34m\u001b[0m\u001b[0m\n\u001b[1;32m    295\u001b[0m             \u001b[0;32mif\u001b[0m \u001b[0mtimeout\u001b[0m \u001b[0;32mis\u001b[0m \u001b[0;32mNone\u001b[0m\u001b[0;34m:\u001b[0m\u001b[0;34m\u001b[0m\u001b[0;34m\u001b[0m\u001b[0m\n\u001b[0;32m--> 296\u001b[0;31m                 \u001b[0mwaiter\u001b[0m\u001b[0;34m.\u001b[0m\u001b[0macquire\u001b[0m\u001b[0;34m(\u001b[0m\u001b[0;34m)\u001b[0m\u001b[0;34m\u001b[0m\u001b[0;34m\u001b[0m\u001b[0m\n\u001b[0m\u001b[1;32m    297\u001b[0m                 \u001b[0mgotit\u001b[0m \u001b[0;34m=\u001b[0m \u001b[0;32mTrue\u001b[0m\u001b[0;34m\u001b[0m\u001b[0;34m\u001b[0m\u001b[0m\n\u001b[1;32m    298\u001b[0m             \u001b[0;32melse\u001b[0m\u001b[0;34m:\u001b[0m\u001b[0;34m\u001b[0m\u001b[0;34m\u001b[0m\u001b[0m\n",
      "\u001b[0;31mKeyboardInterrupt\u001b[0m: "
     ]
    }
   ],
   "source": [
    "[(x.mean().round(4), x.std().round(4), x.round(4))\n",
    " for x in [cross_val_score(pipe, data_samples, y, n_jobs=4, cv = 8)]]"
   ]
  },
  {
   "cell_type": "code",
   "execution_count": 197,
   "metadata": {
    "ExecuteTime": {
     "end_time": "2020-05-22T03:54:29.040683Z",
     "start_time": "2020-05-22T03:54:27.181869Z"
    }
   },
   "outputs": [
    {
     "name": "stdout",
     "output_type": "stream",
     "text": [
      "              precision    recall  f1-score   support\n",
      "\n",
      "           0       0.71      0.66      0.69       240\n",
      "           1       0.81      0.85      0.83       420\n",
      "\n",
      "    accuracy                           0.78       660\n",
      "   macro avg       0.76      0.76      0.76       660\n",
      "weighted avg       0.78      0.78      0.78       660\n",
      "\n"
     ]
    }
   ],
   "source": [
    "pipe.fit(X_train,y_train)\n",
    "print(classification_report(y_val, pipe.predict(X_val)))"
   ]
  },
  {
   "cell_type": "code",
   "execution_count": 198,
   "metadata": {
    "ExecuteTime": {
     "end_time": "2020-05-22T03:54:32.652343Z",
     "start_time": "2020-05-22T03:54:32.266470Z"
    }
   },
   "outputs": [
    {
     "data": {
      "text/plain": [
       "array([[159,  81],\n",
       "       [ 64, 356]])"
      ]
     },
     "execution_count": 198,
     "metadata": {},
     "output_type": "execute_result"
    }
   ],
   "source": [
    "confusion_matrix(y_val, pipe.predict(X_val), labels = [0, 1])"
   ]
  },
  {
   "cell_type": "code",
   "execution_count": 199,
   "metadata": {
    "ExecuteTime": {
     "end_time": "2020-05-22T03:54:33.261724Z",
     "start_time": "2020-05-22T03:54:32.830999Z"
    }
   },
   "outputs": [
    {
     "data": {
      "text/plain": [
       "145"
      ]
     },
     "execution_count": 199,
     "metadata": {},
     "output_type": "execute_result"
    }
   ],
   "source": [
    "errors = X_val[pipe.predict(X_val) != y_val.values]\n",
    "len(errors)"
   ]
  },
  {
   "cell_type": "code",
   "execution_count": null,
   "metadata": {},
   "outputs": [],
   "source": []
  }
 ],
 "metadata": {
  "kernelspec": {
   "display_name": "Python 3",
   "language": "python",
   "name": "python3"
  },
  "language_info": {
   "codemirror_mode": {
    "name": "ipython",
    "version": 3
   },
   "file_extension": ".py",
   "mimetype": "text/x-python",
   "name": "python",
   "nbconvert_exporter": "python",
   "pygments_lexer": "ipython3",
   "version": "3.7.7"
  },
  "toc": {
   "base_numbering": 1,
   "nav_menu": {},
   "number_sections": true,
   "sideBar": true,
   "skip_h1_title": false,
   "title_cell": "Table of Contents",
   "title_sidebar": "Contents",
   "toc_cell": false,
   "toc_position": {
    "height": "calc(100% - 180px)",
    "left": "10px",
    "top": "150px",
    "width": "255.996px"
   },
   "toc_section_display": true,
   "toc_window_display": true
  }
 },
 "nbformat": 4,
 "nbformat_minor": 4
}
