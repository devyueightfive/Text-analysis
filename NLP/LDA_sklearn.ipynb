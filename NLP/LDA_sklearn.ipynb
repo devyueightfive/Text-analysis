{
 "cells": [
  {
   "cell_type": "code",
   "execution_count": 45,
   "metadata": {
    "ExecuteTime": {
     "end_time": "2020-05-05T15:59:11.451160Z",
     "start_time": "2020-05-05T15:59:11.430406Z"
    }
   },
   "outputs": [
    {
     "name": "stdout",
     "output_type": "stream",
     "text": [
      "Populating the interactive namespace from numpy and matplotlib\n"
     ]
    }
   ],
   "source": [
    "# necessary library\n",
    "\n",
    "%pylab inline\n",
    "\n",
    "# read data to DataFrame\n",
    "import pandas as pd\n",
    "\n",
    "# feature extraction\n",
    "from sklearn.feature_extraction.text import TfidfVectorizer\n",
    "\n",
    "# classifier LDA\n",
    "from sklearn.discriminant_analysis import LinearDiscriminantAnalysis\n",
    "\n",
    "#model selection\n",
    "from sklearn.model_selection import cross_val_score, GridSearchCV, train_test_split, RepeatedStratifiedKFold, StratifiedKFold\n",
    "from sklearn.metrics import accuracy_score, classification_report, confusion_matrix\n",
    "from sklearn.base import BaseEstimator, TransformerMixin\n",
    "\n",
    "#learning\n",
    "from sklearn.model_selection import learning_curve, ShuffleSplit"
   ]
  },
  {
   "cell_type": "code",
   "execution_count": 2,
   "metadata": {
    "ExecuteTime": {
     "end_time": "2020-05-05T14:49:59.500815Z",
     "start_time": "2020-05-05T14:49:58.782093Z"
    }
   },
   "outputs": [
    {
     "name": "stdout",
     "output_type": "stream",
     "text": [
      "./simplesentiment/products_sentiment_train.tsv\n",
      "./simplesentiment/products_sentiment_sample_submission.csv\n",
      "./simplesentiment/products_sentiment_test.tsv\n"
     ]
    }
   ],
   "source": [
    "# Input data files are available in the \"../input/\" directory.\n",
    "# For example, running this (by clicking run or pressing Shift+Enter) will list all files under the input directory\n",
    "\n",
    "PATH_TO_DATA = './simplesentiment/'\n",
    "\n",
    "import os\n",
    "for dirname, _, filenames in os.walk(PATH_TO_DATA):\n",
    "    for filename in filenames:\n",
    "        print((os.path.join(dirname, filename)))"
   ]
  },
  {
   "cell_type": "code",
   "execution_count": 3,
   "metadata": {
    "ExecuteTime": {
     "end_time": "2020-05-05T14:49:59.538597Z",
     "start_time": "2020-05-05T14:49:59.502846Z"
    }
   },
   "outputs": [],
   "source": [
    "# load data\n",
    "\n",
    "files = ['products_sentiment_train.tsv', 'products_sentiment_test.tsv']\n",
    "\n",
    "train =  pd.read_csv(PATH_TO_DATA+files[0], sep = '\\t', header = None, names = ['text', 'target'])\n",
    "\n",
    "# train, taget, test\n",
    "X = train.text\n",
    "y = train.target"
   ]
  },
  {
   "cell_type": "code",
   "execution_count": 18,
   "metadata": {
    "ExecuteTime": {
     "end_time": "2020-05-05T15:07:39.808997Z",
     "start_time": "2020-05-05T15:07:39.801599Z"
    }
   },
   "outputs": [],
   "source": [
    "# data transformer - vectorizer\n",
    "from nltk.tokenize.casual import casual_tokenize\n",
    "vectorizer = TfidfVectorizer(\n",
    "    ngram_range=(1, 1),\n",
    "    #     min_df = 2,\n",
    "    tokenizer=casual_tokenize,\n",
    "    #     stop_words = stops,\n",
    "    #     max_df = 0.9,\n",
    "    binary=True,\n",
    "    sublinear_tf=True)"
   ]
  },
  {
   "cell_type": "code",
   "execution_count": 19,
   "metadata": {
    "ExecuteTime": {
     "end_time": "2020-05-05T15:07:43.402086Z",
     "start_time": "2020-05-05T15:07:43.394019Z"
    }
   },
   "outputs": [],
   "source": [
    "# split data\n",
    "def split_data(X, y, rs):\n",
    "    test_portion = 0.40\n",
    "    return train_test_split(X,\n",
    "                            y,\n",
    "                            test_size=test_portion,\n",
    "                            random_state=int(rs),\n",
    "                            shuffle=True,\n",
    "                            stratify=y)\n",
    "\n",
    "# data transformation\n",
    "def transform_data(train, validation):\n",
    "    vectorizer.fit(train)\n",
    "    return vectorizer.transform(train), vectorizer.transform(validation)"
   ]
  },
  {
   "cell_type": "code",
   "execution_count": 20,
   "metadata": {
    "ExecuteTime": {
     "end_time": "2020-05-05T15:07:44.075617Z",
     "start_time": "2020-05-05T15:07:44.064809Z"
    }
   },
   "outputs": [],
   "source": [
    "lda = LinearDiscriminantAnalysis(\n",
    "    solver='eigen',\n",
    "    shrinkage='auto'\n",
    ")"
   ]
  },
  {
   "cell_type": "code",
   "execution_count": 21,
   "metadata": {
    "ExecuteTime": {
     "end_time": "2020-05-05T15:07:46.902074Z",
     "start_time": "2020-05-05T15:07:46.885550Z"
    }
   },
   "outputs": [],
   "source": [
    "def search_decision_value(X, y, classifier, n_seeds = 10):\n",
    "    \"\"\"Search optimal decision value for classification\"\"\"\n",
    "    # set of decision values [0..1]\n",
    "    ts = np.linspace(0.0, 1.0, 101)\n",
    "    # accuracy, decision value for every data split (split by random seed)\n",
    "    result = []\n",
    "    for r_seed in np.linspace(1, 1000, n_seeds).astype(int):\n",
    "        # split data to train/validation sets\n",
    "        X_train, X_validation, y_train, y_val = split_data(X, y, r_seed)\n",
    "        # transform data to numerical values\n",
    "        Xt_train, Xt_validation = transform_data(X_train, X_validation)\n",
    "        # fit classifier with train data\n",
    "        classifier.fit(Xt_train.todense(), y_train)\n",
    "        # get predictions as probabilities [0..1]\n",
    "        probabilities = classifier.predict_proba(Xt_validation.todense())[:, 1]\n",
    "        # accuracy for every decision value\n",
    "        accuracies = []\n",
    "        for t in ts:\n",
    "            predictions = (probabilities > t).astype(int)\n",
    "            accuracies.append(accuracy_score(y_val, predictions))\n",
    "        # store result as max accuracy and correspondent decision value\n",
    "        result.append((np.max(accuracies), ts[np.argmax(accuracies)], r_seed))\n",
    "#     return result , df\n",
    "    return result"
   ]
  },
  {
   "cell_type": "code",
   "execution_count": 30,
   "metadata": {
    "ExecuteTime": {
     "end_time": "2020-05-05T15:26:11.952317Z",
     "start_time": "2020-05-05T15:22:33.078508Z"
    }
   },
   "outputs": [
    {
     "name": "stdout",
     "output_type": "stream",
     "text": [
      "CPU times: user 13min 25s, sys: 14.5 s, total: 13min 39s\n",
      "Wall time: 3min 38s\n"
     ]
    }
   ],
   "source": [
    "%%time\n",
    "# decision value\n",
    "import warnings\n",
    "warnings.filterwarnings(\"ignore\")\n",
    "\n",
    "result = search_decision_value(X, y, lda, n_seeds=20)"
   ]
  },
  {
   "cell_type": "code",
   "execution_count": 31,
   "metadata": {
    "ExecuteTime": {
     "end_time": "2020-05-05T15:28:57.084512Z",
     "start_time": "2020-05-05T15:28:57.080633Z"
    }
   },
   "outputs": [
    {
     "name": "stdout",
     "output_type": "stream",
     "text": [
      "0.39 +/- 0.15\n"
     ]
    }
   ],
   "source": [
    "# decision value\n",
    "print(f\"{np.array(result)[:,1].mean().round(2)} +/- {np.array(result)[:,1].std().round(2)}\")"
   ]
  },
  {
   "cell_type": "code",
   "execution_count": 32,
   "metadata": {
    "ExecuteTime": {
     "end_time": "2020-05-05T15:28:58.499085Z",
     "start_time": "2020-05-05T15:28:58.303151Z"
    }
   },
   "outputs": [
    {
     "data": {
      "text/plain": [
       "[<matplotlib.lines.Line2D at 0x7fbb9b9cd850>]"
      ]
     },
     "execution_count": 32,
     "metadata": {},
     "output_type": "execute_result"
    },
    {
     "data": {
      "image/png": "[encoded data removed]",
      "text/plain": [
       "<Figure size 432x288 with 1 Axes>"
      ]
     },
     "metadata": {
      "needs_background": "light"
     },
     "output_type": "display_data"
    }
   ],
   "source": [
    "# plots accuracy/decision values\n",
    "plt.plot(np.array(result)[:,2], np.array(result)[:,0])\n",
    "plt.plot(np.array(result)[:,2], np.array(result)[:,1])"
   ]
  },
  {
   "cell_type": "code",
   "execution_count": 11,
   "metadata": {
    "ExecuteTime": {
     "end_time": "2020-05-05T14:57:42.188040Z",
     "start_time": "2020-05-05T14:57:42.173347Z"
    }
   },
   "outputs": [],
   "source": [
    "def accuracy_by_decision(X, y, classifier, n_seeds = 10, decision = 0.5):\n",
    "    \"\"\"Accuracy for every data split (split by random seed)\"\"\"\n",
    "    result = []\n",
    "    for r_seed in np.linspace(1, 1000, n_seeds).astype(int):\n",
    "        # split data to train/validation sets\n",
    "        X_train, X_validation, y_train, y_val = split_data(X, y, r_seed)\n",
    "        # transform data to numerical values\n",
    "        Xt_train, Xt_validation = transform_data(X_train, X_validation)\n",
    "        # fit classifier with train data\n",
    "        classifier.fit(Xt_train.todense(), y_train)\n",
    "        # get predictions as probabilities [0..1]\n",
    "        probabilities = classifier.predict_proba(Xt_validation)[:, 1]\n",
    "        predictions = (probabilities > decision).astype(int)\n",
    "        # store result as accuracy\n",
    "        result.append((accuracy_score(y_val, predictions), r_seed))\n",
    "    \n",
    "    return result"
   ]
  },
  {
   "cell_type": "code",
   "execution_count": 33,
   "metadata": {
    "ExecuteTime": {
     "end_time": "2020-05-05T15:31:40.186687Z",
     "start_time": "2020-05-05T15:29:41.603813Z"
    }
   },
   "outputs": [
    {
     "name": "stdout",
     "output_type": "stream",
     "text": [
      "0.7453749999999999\n",
      "CPU times: user 7min 15s, sys: 8.41 s, total: 7min 24s\n",
      "Wall time: 1min 58s\n"
     ]
    },
    {
     "data": {
      "image/png": "[encoded data removed]",
      "text/plain": [
       "<Figure size 432x288 with 1 Axes>"
      ]
     },
     "metadata": {
      "needs_background": "light"
     },
     "output_type": "display_data"
    }
   ],
   "source": [
    "%%time\n",
    "# decision value\n",
    "result = accuracy_by_decision(X, y, lda, n_seeds=10, decision=0.39)\n",
    "\n",
    "# plots accuracy/decision values\n",
    "plt.plot(np.array(result)[:,1], np.array(result)[:,0])\n",
    "print(np.array(result)[:,0].mean())"
   ]
  },
  {
   "cell_type": "code",
   "execution_count": 13,
   "metadata": {
    "ExecuteTime": {
     "end_time": "2020-05-05T15:03:15.723046Z",
     "start_time": "2020-05-05T15:03:15.707866Z"
    }
   },
   "outputs": [],
   "source": [
    "# draw accuracy plot by decision value\n",
    "def draw_accuracy_by_decision_value(X, y, classifier, r_seed = 10):\n",
    "    \"\"\"Draw accuracy plot by decision value\"\"\"\n",
    "    # set of decision values [0..1]\n",
    "    ts = np.linspace(0.0, 1.0, 101)\n",
    "    # split data to train/validation sets\n",
    "    X_train, X_validation, y_train, y_val = split_data(X, y, r_seed)\n",
    "    # transform data to numerical values\n",
    "    Xt_train, Xt_validation = transform_data(X_train, X_validation)\n",
    "    # fit classifier with train data\n",
    "    classifier.fit(Xt_train.todense(), y_train)\n",
    "    # get predictions as probabilities [0..1]\n",
    "    probabilities = classifier.predict_proba(Xt_validation.todense())[:, 1]\n",
    "    # accuracy for every decision value\n",
    "    accuracies = []\n",
    "    for t in ts:\n",
    "        predictions = (probabilities > t).astype(int)\n",
    "        accuracies.append(accuracy_score(y_val, predictions))\n",
    "    # store result as max accuracy and correspondent decision value\n",
    "    plt.plot(ts, accuracies)\n",
    "#     plt.show()"
   ]
  },
  {
   "cell_type": "code",
   "execution_count": 34,
   "metadata": {
    "ExecuteTime": {
     "end_time": "2020-05-05T15:32:25.009742Z",
     "start_time": "2020-05-05T15:32:12.091550Z"
    }
   },
   "outputs": [
    {
     "data": {
      "image/png": "[encoded data removed]",
      "text/plain": [
       "<Figure size 432x288 with 1 Axes>"
      ]
     },
     "metadata": {
      "needs_background": "light"
     },
     "output_type": "display_data"
    }
   ],
   "source": [
    "draw_accuracy_by_decision_value(X, y , lda, 11)"
   ]
  },
  {
   "cell_type": "code",
   "execution_count": 65,
   "metadata": {
    "ExecuteTime": {
     "end_time": "2020-05-05T17:08:57.556130Z",
     "start_time": "2020-05-05T17:08:30.258071Z"
    }
   },
   "outputs": [
    {
     "name": "stdout",
     "output_type": "stream",
     "text": [
      "CPU times: user 1min 40s, sys: 1.45 s, total: 1min 41s\n",
      "Wall time: 27.3 s\n"
     ]
    },
    {
     "data": {
      "text/plain": [
       "0.8555"
      ]
     },
     "execution_count": 65,
     "metadata": {},
     "output_type": "execute_result"
    }
   ],
   "source": [
    "%%time\n",
    "classifier = lda\n",
    "t = 0.45\n",
    "\n",
    "Xt = vectorizer.fit_transform(X)\n",
    "classifier.fit(Xt.todense(), y)\n",
    "probabilities = classifier.predict_proba(Xt.todense())[:, 1]\n",
    "predictions = (probabilities > t).astype(int)\n",
    "accuracy_score(y, predictions)"
   ]
  },
  {
   "cell_type": "code",
   "execution_count": 56,
   "metadata": {
    "ExecuteTime": {
     "end_time": "2020-05-05T16:42:16.050811Z",
     "start_time": "2020-05-05T16:36:55.388231Z"
    }
   },
   "outputs": [],
   "source": [
    "# cv = ShuffleSplit(n_splits=100, test_size=0.2, random_state=0)\n",
    "train_sizes, train_scores, test_scores = learning_curve(lda, Xt.todense(), y, n_jobs=4, cv = 3, shuffle = True)\n",
    "\n",
    "train_scores_mean = np.mean(train_scores, axis=1)\n",
    "train_scores_std = np.std(train_scores, axis=1)\n",
    "test_scores_mean = np.mean(test_scores, axis=1)\n",
    "test_scores_std = np.std(test_scores, axis=1)\n",
    "\n",
    "_, ax = plt.subplots(1, 1, figsize=(20, 5))\n",
    "# Plot learning curve\n",
    "ax.grid()\n",
    "ax.fill_between(train_sizes, train_scores_mean - train_scores_std,\n",
    "                     train_scores_mean + train_scores_std, alpha=0.1,\n",
    "                     color=\"r\")\n",
    "ax.fill_between(train_sizes, test_scores_mean - test_scores_std,\n",
    "                     test_scores_mean + test_scores_std, alpha=0.1,\n",
    "                     color=\"g\")\n",
    "ax.plot(train_sizes, train_scores_mean, 'o-', color=\"r\",\n",
    "             label=\"Training score\")\n",
    "ax.plot(train_sizes, test_scores_mean, 'o-', color=\"g\",\n",
    "             label=\"Cross-validation score\")\n",
    "ax.legend(loc=\"best\")"
   ]
  },
  {
   "cell_type": "code",
   "execution_count": null,
   "metadata": {},
   "outputs": [],
   "source": []
  }
 ],
 "metadata": {
  "kernelspec": {
   "display_name": "Python 3",
   "language": "python",
   "name": "python3"
  },
  "language_info": {
   "codemirror_mode": {
    "name": "ipython",
    "version": 3
   },
   "file_extension": ".py",
   "mimetype": "text/x-python",
   "name": "python",
   "nbconvert_exporter": "python",
   "pygments_lexer": "ipython3",
   "version": "3.7.7"
  },
  "toc": {
   "base_numbering": 1,
   "nav_menu": {},
   "number_sections": true,
   "sideBar": true,
   "skip_h1_title": false,
   "title_cell": "Table of Contents",
   "title_sidebar": "Contents",
   "toc_cell": false,
   "toc_position": {},
   "toc_section_display": true,
   "toc_window_display": false
  }
 },
 "nbformat": 4,
 "nbformat_minor": 4
}
