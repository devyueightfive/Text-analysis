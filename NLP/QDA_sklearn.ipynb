{
 "cells": [
  {
   "cell_type": "code",
   "execution_count": 1,
   "metadata": {
    "ExecuteTime": {
     "end_time": "2020-05-05T14:51:06.856769Z",
     "start_time": "2020-05-05T14:51:04.952489Z"
    }
   },
   "outputs": [
    {
     "name": "stdout",
     "output_type": "stream",
     "text": [
      "Populating the interactive namespace from numpy and matplotlib\n"
     ]
    }
   ],
   "source": [
    "# necessary library\n",
    "\n",
    "%pylab inline\n",
    "\n",
    "# read data to DataFrame\n",
    "import pandas as pd\n",
    "\n",
    "# feature extraction\n",
    "from sklearn.feature_extraction.text import TfidfVectorizer\n",
    "\n",
    "# classifier LDA\n",
    "from sklearn.discriminant_analysis import QuadraticDiscriminantAnalysis\n",
    "\n",
    "#model selection\n",
    "from sklearn.model_selection import cross_val_score, GridSearchCV, train_test_split, RepeatedStratifiedKFold, StratifiedKFold\n",
    "from sklearn.metrics import accuracy_score, classification_report, confusion_matrix\n",
    "from sklearn.base import BaseEstimator, TransformerMixin\n"
   ]
  },
  {
   "cell_type": "code",
   "execution_count": 2,
   "metadata": {
    "ExecuteTime": {
     "end_time": "2020-05-05T14:51:06.878534Z",
     "start_time": "2020-05-05T14:51:06.859297Z"
    }
   },
   "outputs": [],
   "source": [
    "# load data\n",
    "\n",
    "PATH_TO_DATA = './simplesentiment/'\n",
    "files = ['products_sentiment_train.tsv', 'products_sentiment_test.tsv']\n",
    "train =  pd.read_csv(PATH_TO_DATA+files[0], sep = '\\t', header = None, names = ['text', 'target'])\n",
    "\n",
    "# train, taget, test\n",
    "X = train.text\n",
    "y = train.target"
   ]
  },
  {
   "cell_type": "code",
   "execution_count": 3,
   "metadata": {
    "ExecuteTime": {
     "end_time": "2020-05-05T14:51:07.364474Z",
     "start_time": "2020-05-05T14:51:06.882043Z"
    }
   },
   "outputs": [],
   "source": [
    "# data transformer - vectorizer\n",
    "from nltk.tokenize.casual import casual_tokenize\n",
    "vectorizer = TfidfVectorizer(\n",
    "    ngram_range=(1, 1),\n",
    "    #     min_df = 2,\n",
    "    tokenizer=casual_tokenize,\n",
    "    #     stop_words = stops,\n",
    "    #     max_df = 0.9,\n",
    "    binary=True,\n",
    "    sublinear_tf=False)"
   ]
  },
  {
   "cell_type": "code",
   "execution_count": 4,
   "metadata": {
    "ExecuteTime": {
     "end_time": "2020-05-05T14:51:07.372111Z",
     "start_time": "2020-05-05T14:51:07.366024Z"
    }
   },
   "outputs": [],
   "source": [
    "# split data\n",
    "def split_data(X, y, rs):\n",
    "    test_portion = 0.40\n",
    "    return train_test_split(X,\n",
    "                            y,\n",
    "                            test_size=test_portion,\n",
    "                            random_state=int(rs),\n",
    "                            shuffle=True,\n",
    "                            stratify=y)\n",
    "\n",
    "# data transformation\n",
    "def transform_data(train, validation):\n",
    "    vectorizer.fit(train)\n",
    "    return vectorizer.transform(train), vectorizer.transform(validation)"
   ]
  },
  {
   "cell_type": "code",
   "execution_count": 5,
   "metadata": {
    "ExecuteTime": {
     "end_time": "2020-05-05T14:51:07.397166Z",
     "start_time": "2020-05-05T14:51:07.376053Z"
    }
   },
   "outputs": [],
   "source": [
    "qda = QuadraticDiscriminantAnalysis()"
   ]
  },
  {
   "cell_type": "code",
   "execution_count": 14,
   "metadata": {
    "ExecuteTime": {
     "end_time": "2020-05-05T14:56:19.449019Z",
     "start_time": "2020-05-05T14:56:19.427902Z"
    }
   },
   "outputs": [],
   "source": [
    "# draw accuracy plot by decision value\n",
    "def draw_accuracy_by_decision_value(X, y, classifier, r_seed = 10):\n",
    "    \"\"\"Draw accuracy plot by decision value\"\"\"\n",
    "    # set of decision values [0..1]\n",
    "    ts = np.linspace(0.0, 1.0, 101)\n",
    "    # split data to train/validation sets\n",
    "    X_train, X_validation, y_train, y_val = split_data(X, y, r_seed)\n",
    "    # transform data to numerical values\n",
    "    Xt_train, Xt_validation = transform_data(X_train, X_validation)\n",
    "    # fit classifier with train data\n",
    "    classifier.fit(Xt_train.todense(), y_train)\n",
    "    # get predictions as probabilities [0..1]\n",
    "    probabilities = classifier.predict_proba(Xt_validation.todense())[:, 1]\n",
    "    # accuracy for every decision value\n",
    "    accuracies = []\n",
    "    for t in ts:\n",
    "        predictions = (probabilities > t).astype(int)\n",
    "        accuracies.append(accuracy_score(y_val, predictions))\n",
    "    # store result as max accuracy and correspondent decision value\n",
    "    plt.plot(ts, accuracies)\n",
    "    plt.show()"
   ]
  },
  {
   "cell_type": "code",
   "execution_count": 16,
   "metadata": {
    "ExecuteTime": {
     "end_time": "2020-05-05T14:56:29.912199Z",
     "start_time": "2020-05-05T14:56:27.493835Z"
    }
   },
   "outputs": [
    {
     "data": {
      "image/png": "[encoded data removed]",
      "text/plain": [
       "<Figure size 432x288 with 1 Axes>"
      ]
     },
     "metadata": {
      "needs_background": "light"
     },
     "output_type": "display_data"
    }
   ],
   "source": [
    "draw_accuracy_by_decision_value(X, y, qda)"
   ]
  },
  {
   "cell_type": "code",
   "execution_count": 9,
   "metadata": {
    "ExecuteTime": {
     "end_time": "2020-05-05T14:51:25.999245Z",
     "start_time": "2020-05-05T14:51:25.962458Z"
    }
   },
   "outputs": [],
   "source": [
    "def search_decision_value(X, y, classifier, n_seeds = 10):\n",
    "    \"\"\"Search optimal decision value for classification\"\"\"\n",
    "    # set of decision values [0..1]\n",
    "    ts = np.linspace(0.0, 1.0, 101)\n",
    "    # accuracy, decision value for every data split (split by random seed)\n",
    "    result = []\n",
    "    for r_seed in np.linspace(1, 1000, n_seeds).astype(int):\n",
    "        # split data to train/validation sets\n",
    "        X_train, X_validation, y_train, y_val = split_data(X, y, r_seed)\n",
    "        # transform data to numerical values\n",
    "        Xt_train, Xt_validation = transform_data(X_train, X_validation)\n",
    "        # fit classifier with train data\n",
    "        classifier.fit(Xt_train.todense(), y_train)\n",
    "        # get predictions as probabilities [0..1]\n",
    "        probabilities = classifier.predict_proba(Xt_validation.todense())[:, 1]\n",
    "        # accuracy for every decision value\n",
    "        accuracies = []\n",
    "        for t in ts:\n",
    "            predictions = (probabilities > t).astype(int)\n",
    "            accuracies.append(accuracy_score(y_val, predictions))\n",
    "        # store result as max accuracy and correspondent decision value\n",
    "        result.append((np.max(accuracies), ts[np.argmax(accuracies)], r_seed))\n",
    "#     return result , df\n",
    "    return result"
   ]
  },
  {
   "cell_type": "code",
   "execution_count": 10,
   "metadata": {
    "ExecuteTime": {
     "end_time": "2020-05-05T14:51:40.834490Z",
     "start_time": "2020-05-05T14:51:26.572237Z"
    }
   },
   "outputs": [
    {
     "name": "stdout",
     "output_type": "stream",
     "text": [
      "CPU times: user 45 s, sys: 1.22 s, total: 46.2 s\n",
      "Wall time: 14.3 s\n"
     ]
    }
   ],
   "source": [
    "%%time\n",
    "# decision value\n",
    "import warnings\n",
    "warnings.filterwarnings(\"ignore\")\n",
    "\n",
    "result = search_decision_value(X, y, qda, n_seeds=5)"
   ]
  },
  {
   "cell_type": "code",
   "execution_count": 17,
   "metadata": {
    "ExecuteTime": {
     "end_time": "2020-05-05T17:28:54.709237Z",
     "start_time": "2020-05-05T17:28:54.632147Z"
    }
   },
   "outputs": [
    {
     "name": "stdout",
     "output_type": "stream",
     "text": [
      "0.0\n"
     ]
    }
   ],
   "source": [
    "# decision value\n",
    "print(np.array(result)[:,1].mean())"
   ]
  },
  {
   "cell_type": "code",
   "execution_count": 12,
   "metadata": {
    "ExecuteTime": {
     "end_time": "2020-05-05T14:51:41.446762Z",
     "start_time": "2020-05-05T14:51:40.850902Z"
    }
   },
   "outputs": [
    {
     "data": {
      "text/plain": [
       "[<matplotlib.lines.Line2D at 0x7f5c87b75b50>]"
      ]
     },
     "execution_count": 12,
     "metadata": {},
     "output_type": "execute_result"
    },
    {
     "data": {
      "image/png": "[encoded data removed]",
      "text/plain": [
       "<Figure size 432x288 with 1 Axes>"
      ]
     },
     "metadata": {
      "needs_background": "light"
     },
     "output_type": "display_data"
    }
   ],
   "source": [
    "# plots accuracy/decision values\n",
    "plt.plot(np.array(result)[:,2], np.array(result)[:,0])\n",
    "plt.plot(np.array(result)[:,2], np.array(result)[:,1])"
   ]
  },
  {
   "cell_type": "code",
   "execution_count": null,
   "metadata": {},
   "outputs": [],
   "source": []
  }
 ],
 "metadata": {
  "kernelspec": {
   "display_name": "Python 3",
   "language": "python",
   "name": "python3"
  },
  "language_info": {
   "codemirror_mode": {
    "name": "ipython",
    "version": 3
   },
   "file_extension": ".py",
   "mimetype": "text/x-python",
   "name": "python",
   "nbconvert_exporter": "python",
   "pygments_lexer": "ipython3",
   "version": "3.7.7"
  },
  "toc": {
   "base_numbering": 1,
   "nav_menu": {},
   "number_sections": true,
   "sideBar": true,
   "skip_h1_title": false,
   "title_cell": "Table of Contents",
   "title_sidebar": "Contents",
   "toc_cell": false,
   "toc_position": {},
   "toc_section_display": true,
   "toc_window_display": false
  }
 },
 "nbformat": 4,
 "nbformat_minor": 4
}
