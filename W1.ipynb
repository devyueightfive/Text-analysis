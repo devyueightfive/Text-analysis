{
 "cells": [
  {
   "cell_type": "markdown",
   "metadata": {},
   "source": [
    "# Task 1"
   ]
  },
  {
   "cell_type": "markdown",
   "metadata": {},
   "source": [
    "В некоторых пунктах нужно получить ответ - число или строку, которые будет нужно набирать в текстовых файлах и прикреплять в ответах на вопросы. Десятичные дроби записывайте через точку."
   ]
  },
  {
   "cell_type": "code",
   "execution_count": 20,
   "metadata": {
    "ExecuteTime": {
     "end_time": "2020-03-17T00:37:42.198491Z",
     "start_time": "2020-03-17T00:37:42.193060Z"
    }
   },
   "outputs": [],
   "source": [
    "def write_answer(i, answer):\n",
    "    with open(f\"{i}_answer\", mode = \"w\") as file:\n",
    "        file.write(str(answer))"
   ]
  },
  {
   "cell_type": "code",
   "execution_count": 21,
   "metadata": {
    "ExecuteTime": {
     "end_time": "2020-03-17T00:37:42.206648Z",
     "start_time": "2020-03-17T00:37:42.201649Z"
    }
   },
   "outputs": [],
   "source": [
    "import warnings\n",
    "warnings.filterwarnings(\"ignore\")"
   ]
  },
  {
   "cell_type": "code",
   "execution_count": 22,
   "metadata": {
    "ExecuteTime": {
     "end_time": "2020-03-17T00:37:42.214124Z",
     "start_time": "2020-03-17T00:37:42.209926Z"
    }
   },
   "outputs": [],
   "source": [
    "from nltk.corpus import movie_reviews"
   ]
  },
  {
   "cell_type": "code",
   "execution_count": 23,
   "metadata": {
    "ExecuteTime": {
     "end_time": "2020-03-17T00:37:42.220883Z",
     "start_time": "2020-03-17T00:37:42.217049Z"
    }
   },
   "outputs": [],
   "source": [
    "import numpy as np"
   ]
  },
  {
   "cell_type": "code",
   "execution_count": 24,
   "metadata": {
    "ExecuteTime": {
     "end_time": "2020-03-17T00:37:42.227880Z",
     "start_time": "2020-03-17T00:37:42.223337Z"
    }
   },
   "outputs": [],
   "source": [
    "from sklearn.pipeline import Pipeline\n",
    "from sklearn.linear_model import LogisticRegression\n",
    "from sklearn.model_selection import cross_val_score"
   ]
  },
  {
   "cell_type": "code",
   "execution_count": 25,
   "metadata": {
    "ExecuteTime": {
     "end_time": "2020-03-17T00:37:42.235299Z",
     "start_time": "2020-03-17T00:37:42.230997Z"
    }
   },
   "outputs": [],
   "source": [
    "from sklearn.linear_model import SGDClassifier\n",
    "from sklearn.svm import LinearSVC"
   ]
  },
  {
   "cell_type": "code",
   "execution_count": 26,
   "metadata": {
    "ExecuteTime": {
     "end_time": "2020-03-17T00:37:42.242891Z",
     "start_time": "2020-03-17T00:37:42.238418Z"
    }
   },
   "outputs": [],
   "source": [
    "from sklearn.feature_extraction.text import CountVectorizer, TfidfVectorizer"
   ]
  },
  {
   "cell_type": "code",
   "execution_count": 27,
   "metadata": {
    "ExecuteTime": {
     "end_time": "2020-03-17T00:37:42.249893Z",
     "start_time": "2020-03-17T00:37:42.245089Z"
    }
   },
   "outputs": [],
   "source": [
    "negids = movie_reviews.fileids('neg')\n",
    "posids = movie_reviews.fileids('pos')"
   ]
  },
  {
   "cell_type": "code",
   "execution_count": 28,
   "metadata": {
    "ExecuteTime": {
     "end_time": "2020-03-17T00:37:42.326728Z",
     "start_time": "2020-03-17T00:37:42.252395Z"
    }
   },
   "outputs": [],
   "source": [
    "negfeats = [movie_reviews.words(fileids=[f]) for f in negids]\n",
    "posfeats = [movie_reviews.words(fileids=[f]) for f in posids]"
   ]
  },
  {
   "cell_type": "markdown",
   "metadata": {},
   "source": [
    "## Feats and y"
   ]
  },
  {
   "cell_type": "markdown",
   "metadata": {},
   "source": [
    "Создайте список из текстов всех имеющихся отзывов, а также список с классами, которые будет использовать ваш классификатор - 0 для негативных отзывов и 1 для позитивных."
   ]
  },
  {
   "cell_type": "code",
   "execution_count": 29,
   "metadata": {
    "ExecuteTime": {
     "end_time": "2020-03-17T00:37:42.332134Z",
     "start_time": "2020-03-17T00:37:42.328764Z"
    }
   },
   "outputs": [],
   "source": [
    "y_neg = [0]*len(negfeats)\n",
    "\n",
    "y_pos = [1]*len(posfeats)"
   ]
  },
  {
   "cell_type": "code",
   "execution_count": 30,
   "metadata": {
    "ExecuteTime": {
     "end_time": "2020-03-17T00:37:42.356062Z",
     "start_time": "2020-03-17T00:37:42.334115Z"
    }
   },
   "outputs": [],
   "source": [
    "feats=negfeats+posfeats\n",
    "y = y_neg+y_pos"
   ]
  },
  {
   "cell_type": "markdown",
   "metadata": {},
   "source": [
    "## Number of Feats"
   ]
  },
  {
   "cell_type": "markdown",
   "metadata": {},
   "source": [
    "Подсчитайте количество отзывов в выборке."
   ]
  },
  {
   "cell_type": "code",
   "execution_count": 31,
   "metadata": {
    "ExecuteTime": {
     "end_time": "2020-03-17T00:37:42.365058Z",
     "start_time": "2020-03-17T00:37:42.360365Z"
    }
   },
   "outputs": [
    {
     "data": {
      "text/plain": [
       "2000"
      ]
     },
     "execution_count": 31,
     "metadata": {},
     "output_type": "execute_result"
    }
   ],
   "source": [
    "a1 = len(feats)\n",
    "a1"
   ]
  },
  {
   "cell_type": "code",
   "execution_count": 32,
   "metadata": {
    "ExecuteTime": {
     "end_time": "2020-03-17T00:37:42.372377Z",
     "start_time": "2020-03-17T00:37:42.368118Z"
    }
   },
   "outputs": [],
   "source": [
    "write_answer(1, a1)"
   ]
  },
  {
   "cell_type": "code",
   "execution_count": 33,
   "metadata": {
    "ExecuteTime": {
     "end_time": "2020-03-17T00:37:42.387798Z",
     "start_time": "2020-03-17T00:37:42.374885Z"
    }
   },
   "outputs": [
    {
     "data": {
      "text/plain": [
       "[['plot', ':', 'two', 'teen', 'couples', 'go', 'to', ...],\n",
       " ['the', 'happy', 'bastard', \"'\", 's', 'quick', 'movie', ...],\n",
       " ['it', 'is', 'movies', 'like', 'these', 'that', 'make', ...],\n",
       " ['\"', 'quest', 'for', 'camelot', '\"', 'is', 'warner', ...],\n",
       " ['synopsis', ':', 'a', 'mentally', 'unstable', 'man', ...]]"
      ]
     },
     "execution_count": 33,
     "metadata": {},
     "output_type": "execute_result"
    }
   ],
   "source": [
    "feats[:5]"
   ]
  },
  {
   "cell_type": "markdown",
   "metadata": {},
   "source": [
    "## part of 1"
   ]
  },
  {
   "cell_type": "markdown",
   "metadata": {},
   "source": [
    "Подсчитайте долю класса 1 в выборке."
   ]
  },
  {
   "cell_type": "code",
   "execution_count": 34,
   "metadata": {
    "ExecuteTime": {
     "end_time": "2020-03-17T00:37:42.398390Z",
     "start_time": "2020-03-17T00:37:42.393249Z"
    }
   },
   "outputs": [
    {
     "data": {
      "text/plain": [
       "0.5"
      ]
     },
     "execution_count": 34,
     "metadata": {},
     "output_type": "execute_result"
    }
   ],
   "source": [
    "a2 = len(y_pos)/len(y)\n",
    "a2"
   ]
  },
  {
   "cell_type": "code",
   "execution_count": 35,
   "metadata": {
    "ExecuteTime": {
     "end_time": "2020-03-17T00:37:42.405341Z",
     "start_time": "2020-03-17T00:37:42.400922Z"
    }
   },
   "outputs": [],
   "source": [
    "write_answer(2, a2)"
   ]
  },
  {
   "cell_type": "code",
   "execution_count": 36,
   "metadata": {
    "ExecuteTime": {
     "end_time": "2020-03-17T00:37:42.532725Z",
     "start_time": "2020-03-17T00:37:42.408020Z"
    }
   },
   "outputs": [
    {
     "name": "stdout",
     "output_type": "stream",
     "text": [
      "1_answer    2_3_answer\t2_5_answer  3_answer  5_answer\ta2_2_answer\n",
      "2_1_answer  2_4_answer\t2_answer    4_answer  6_answer\tW1.ipynb\n"
     ]
    }
   ],
   "source": [
    "!ls"
   ]
  },
  {
   "cell_type": "code",
   "execution_count": 37,
   "metadata": {
    "ExecuteTime": {
     "end_time": "2020-03-17T00:37:42.654422Z",
     "start_time": "2020-03-17T00:37:42.535091Z"
    }
   },
   "outputs": [
    {
     "name": "stdout",
     "output_type": "stream",
     "text": [
      "0.5"
     ]
    }
   ],
   "source": [
    "!cat 2_answer"
   ]
  },
  {
   "cell_type": "markdown",
   "metadata": {
    "ExecuteTime": {
     "end_time": "2020-03-16T21:41:09.486611Z",
     "start_time": "2020-03-16T21:41:09.480931Z"
    }
   },
   "source": [
    "## Counter"
   ]
  },
  {
   "cell_type": "markdown",
   "metadata": {},
   "source": [
    "Импортируйте CountVectorizer из sklearn.feature_extraction.text. Попробуйте использовать его с настройками по умолчанию для того, чтобы получить признаковое представление каждого текста. Скорее всего, попытка не увенчается успехом. Разберитесь, в чем причина, и добейтесь того, чтобы метод fit_transform у CountVectorizer успешно отрабатывал. Подсчитайте количество признаков в CountVectorizer. Никакой предварительной обработки текста (удаление стоп-слов, нормализация слов) на этом шаге делать не надо, в качестве признаков должны использоваться частоты слов."
   ]
  },
  {
   "cell_type": "code",
   "execution_count": 38,
   "metadata": {
    "ExecuteTime": {
     "end_time": "2020-03-17T00:37:42.661739Z",
     "start_time": "2020-03-17T00:37:42.657319Z"
    }
   },
   "outputs": [],
   "source": [
    "transformer = CountVectorizer()"
   ]
  },
  {
   "cell_type": "code",
   "execution_count": 39,
   "metadata": {
    "ExecuteTime": {
     "end_time": "2020-03-17T00:37:44.750262Z",
     "start_time": "2020-03-17T00:37:42.663971Z"
    }
   },
   "outputs": [],
   "source": [
    "f = [\" \".join(x) for x in feats]"
   ]
  },
  {
   "cell_type": "code",
   "execution_count": 37,
   "metadata": {
    "ExecuteTime": {
     "end_time": "2020-03-16T22:20:33.184831Z",
     "start_time": "2020-03-16T22:20:31.984255Z"
    }
   },
   "outputs": [
    {
     "data": {
      "text/plain": [
       "(2000, 39659)"
      ]
     },
     "execution_count": 37,
     "metadata": {},
     "output_type": "execute_result"
    }
   ],
   "source": [
    "X = transformer.fit_transform(f, y)\n",
    "X.shape"
   ]
  },
  {
   "cell_type": "code",
   "execution_count": 39,
   "metadata": {
    "ExecuteTime": {
     "end_time": "2020-03-16T22:20:56.679532Z",
     "start_time": "2020-03-16T22:20:56.674517Z"
    }
   },
   "outputs": [
    {
     "data": {
      "text/plain": [
       "39659"
      ]
     },
     "execution_count": 39,
     "metadata": {},
     "output_type": "execute_result"
    }
   ],
   "source": [
    "a3 = X.shape[1]\n",
    "a3"
   ]
  },
  {
   "cell_type": "code",
   "execution_count": 40,
   "metadata": {
    "ExecuteTime": {
     "end_time": "2020-03-16T22:21:06.829246Z",
     "start_time": "2020-03-16T22:21:06.822786Z"
    }
   },
   "outputs": [],
   "source": [
    "write_answer(3, a3)"
   ]
  },
  {
   "cell_type": "code",
   "execution_count": 15,
   "metadata": {
    "ExecuteTime": {
     "end_time": "2020-03-16T22:14:04.636485Z",
     "start_time": "2020-03-16T22:14:04.599361Z"
    }
   },
   "outputs": [],
   "source": [
    "p = Pipeline(steps = [('count', CountVectorizer()), ('classify', LogisticRegression())])"
   ]
  },
  {
   "cell_type": "code",
   "execution_count": 16,
   "metadata": {
    "ExecuteTime": {
     "end_time": "2020-03-16T22:14:16.093290Z",
     "start_time": "2020-03-16T22:14:04.640721Z"
    }
   },
   "outputs": [
    {
     "data": {
      "text/plain": [
       "array([0.805 , 0.845 , 0.84  , 0.8725, 0.85  ])"
      ]
     },
     "execution_count": 16,
     "metadata": {},
     "output_type": "execute_result"
    }
   ],
   "source": [
    "cross_val_score(p, f, y, scoring='accuracy')"
   ]
  },
  {
   "cell_type": "code",
   "execution_count": 41,
   "metadata": {
    "ExecuteTime": {
     "end_time": "2020-03-16T22:24:48.782868Z",
     "start_time": "2020-03-16T22:24:37.187521Z"
    }
   },
   "outputs": [],
   "source": [
    "a4 = np.mean(cross_val_score(p, f, y, scoring='accuracy'))\n"
   ]
  },
  {
   "cell_type": "code",
   "execution_count": 42,
   "metadata": {
    "ExecuteTime": {
     "end_time": "2020-03-16T22:24:54.514818Z",
     "start_time": "2020-03-16T22:24:54.509982Z"
    }
   },
   "outputs": [
    {
     "data": {
      "text/plain": [
       "0.8424999999999999"
      ]
     },
     "execution_count": 42,
     "metadata": {},
     "output_type": "execute_result"
    }
   ],
   "source": [
    "a4"
   ]
  },
  {
   "cell_type": "code",
   "execution_count": 45,
   "metadata": {
    "ExecuteTime": {
     "end_time": "2020-03-16T22:26:27.206882Z",
     "start_time": "2020-03-16T22:26:27.201009Z"
    }
   },
   "outputs": [],
   "source": [
    "write_answer(4, a4)"
   ]
  },
  {
   "cell_type": "code",
   "execution_count": 17,
   "metadata": {
    "ExecuteTime": {
     "end_time": "2020-03-16T22:14:28.515241Z",
     "start_time": "2020-03-16T22:14:16.098217Z"
    }
   },
   "outputs": [
    {
     "data": {
      "text/plain": [
       "array([0.89875 , 0.919475, 0.9108  , 0.930075, 0.922725])"
      ]
     },
     "execution_count": 17,
     "metadata": {},
     "output_type": "execute_result"
    }
   ],
   "source": [
    "cross_val_score(p, f, y, scoring='roc_auc')"
   ]
  },
  {
   "cell_type": "code",
   "execution_count": 43,
   "metadata": {
    "ExecuteTime": {
     "end_time": "2020-03-16T22:25:59.793436Z",
     "start_time": "2020-03-16T22:25:48.559123Z"
    }
   },
   "outputs": [
    {
     "data": {
      "text/plain": [
       "0.9163650000000001"
      ]
     },
     "execution_count": 43,
     "metadata": {},
     "output_type": "execute_result"
    }
   ],
   "source": [
    "a5 = np.mean(cross_val_score(p, f, y, scoring='roc_auc'))\n",
    "a5"
   ]
  },
  {
   "cell_type": "code",
   "execution_count": 44,
   "metadata": {
    "ExecuteTime": {
     "end_time": "2020-03-16T22:26:16.166210Z",
     "start_time": "2020-03-16T22:26:16.162428Z"
    }
   },
   "outputs": [],
   "source": [
    "write_answer(5, a5)"
   ]
  },
  {
   "cell_type": "code",
   "execution_count": 18,
   "metadata": {
    "ExecuteTime": {
     "end_time": "2020-03-16T22:14:31.319423Z",
     "start_time": "2020-03-16T22:14:28.517453Z"
    }
   },
   "outputs": [
    {
     "data": {
      "text/plain": [
       "Pipeline(memory=None,\n",
       "         steps=[('count',\n",
       "                 CountVectorizer(analyzer='word', binary=False,\n",
       "                                 decode_error='strict',\n",
       "                                 dtype=<class 'numpy.int64'>, encoding='utf-8',\n",
       "                                 input='content', lowercase=True, max_df=1.0,\n",
       "                                 max_features=None, min_df=1,\n",
       "                                 ngram_range=(1, 1), preprocessor=None,\n",
       "                                 stop_words=None, strip_accents=None,\n",
       "                                 token_pattern='(?u)\\\\b\\\\w\\\\w+\\\\b',\n",
       "                                 tokenizer=None, vocabulary=None)),\n",
       "                ('classify',\n",
       "                 LogisticRegression(C=1.0, class_weight=None, dual=False,\n",
       "                                    fit_intercept=True, intercept_scaling=1,\n",
       "                                    l1_ratio=None, max_iter=100,\n",
       "                                    multi_class='auto', n_jobs=None,\n",
       "                                    penalty='l2', random_state=None,\n",
       "                                    solver='lbfgs', tol=0.0001, verbose=0,\n",
       "                                    warm_start=False))],\n",
       "         verbose=False)"
      ]
     },
     "execution_count": 18,
     "metadata": {},
     "output_type": "execute_result"
    }
   ],
   "source": [
    "p.fit(f, y)"
   ]
  },
  {
   "cell_type": "code",
   "execution_count": 20,
   "metadata": {
    "ExecuteTime": {
     "end_time": "2020-03-16T22:14:31.337505Z",
     "start_time": "2020-03-16T22:14:31.326922Z"
    }
   },
   "outputs": [
    {
     "data": {
      "text/plain": [
       "39659"
      ]
     },
     "execution_count": 20,
     "metadata": {},
     "output_type": "execute_result"
    }
   ],
   "source": [
    "coefs = np.abs(p['classify'].coef_)[0]\n",
    "len(coefs)"
   ]
  },
  {
   "cell_type": "code",
   "execution_count": 21,
   "metadata": {
    "ExecuteTime": {
     "end_time": "2020-03-16T22:14:31.414598Z",
     "start_time": "2020-03-16T22:14:31.341260Z"
    }
   },
   "outputs": [
    {
     "data": {
      "text/plain": [
       "39659"
      ]
     },
     "execution_count": 21,
     "metadata": {},
     "output_type": "execute_result"
    }
   ],
   "source": [
    "names= p['count'].get_feature_names()\n",
    "len(names)"
   ]
  },
  {
   "cell_type": "code",
   "execution_count": 22,
   "metadata": {
    "ExecuteTime": {
     "end_time": "2020-03-16T22:14:31.476473Z",
     "start_time": "2020-03-16T22:14:31.417200Z"
    }
   },
   "outputs": [],
   "source": [
    "ns = [(n, c) for n, c in  zip(names, coefs)]"
   ]
  },
  {
   "cell_type": "code",
   "execution_count": 23,
   "metadata": {
    "ExecuteTime": {
     "end_time": "2020-03-16T22:14:31.486780Z",
     "start_time": "2020-03-16T22:14:31.480397Z"
    }
   },
   "outputs": [
    {
     "data": {
      "text/plain": [
       "[('00', 0.011633147735349514),\n",
       " ('000', 0.010037012817401067),\n",
       " ('0009f', 0.0005032930825821674),\n",
       " ('007', 0.019728753566552005),\n",
       " ('00s', 0.0005137970250092535)]"
      ]
     },
     "execution_count": 23,
     "metadata": {},
     "output_type": "execute_result"
    }
   ],
   "source": [
    "ns[:5]"
   ]
  },
  {
   "cell_type": "markdown",
   "metadata": {},
   "source": [
    "выведите 5 наиболее важных для модели признаков"
   ]
  },
  {
   "cell_type": "code",
   "execution_count": 26,
   "metadata": {
    "ExecuteTime": {
     "end_time": "2020-03-16T22:15:56.896603Z",
     "start_time": "2020-03-16T22:15:56.831924Z"
    }
   },
   "outputs": [
    {
     "data": {
      "text/plain": [
       "[('bad', 0.8133525025927427),\n",
       " ('unfortunately', 0.6407038296661843),\n",
       " ('worst', 0.6025192053205607),\n",
       " ('fun', 0.5657728599984501),\n",
       " ('nothing', 0.520168669693072)]"
      ]
     },
     "execution_count": 26,
     "metadata": {},
     "output_type": "execute_result"
    }
   ],
   "source": [
    "answers = sorted(ns, key=lambda x : x[1], reverse=True)[:5]\n",
    "answers"
   ]
  },
  {
   "cell_type": "code",
   "execution_count": 29,
   "metadata": {
    "ExecuteTime": {
     "end_time": "2020-03-16T22:16:30.689432Z",
     "start_time": "2020-03-16T22:16:30.683009Z"
    }
   },
   "outputs": [
    {
     "data": {
      "text/plain": [
       "'bad unfortunately worst fun nothing'"
      ]
     },
     "execution_count": 29,
     "metadata": {},
     "output_type": "execute_result"
    }
   ],
   "source": [
    "\" \".join([x[0] for x in answers])"
   ]
  },
  {
   "cell_type": "code",
   "execution_count": 46,
   "metadata": {
    "ExecuteTime": {
     "end_time": "2020-03-16T22:26:56.607424Z",
     "start_time": "2020-03-16T22:26:56.603512Z"
    }
   },
   "outputs": [],
   "source": [
    "a6 = \" \".join([x[0] for x in answers[:2]])"
   ]
  },
  {
   "cell_type": "code",
   "execution_count": 47,
   "metadata": {
    "ExecuteTime": {
     "end_time": "2020-03-16T22:27:00.035602Z",
     "start_time": "2020-03-16T22:27:00.029644Z"
    }
   },
   "outputs": [
    {
     "data": {
      "text/plain": [
       "'bad unfortunately'"
      ]
     },
     "execution_count": 47,
     "metadata": {},
     "output_type": "execute_result"
    }
   ],
   "source": [
    "a6"
   ]
  },
  {
   "cell_type": "code",
   "execution_count": 48,
   "metadata": {
    "ExecuteTime": {
     "end_time": "2020-03-16T22:27:11.298165Z",
     "start_time": "2020-03-16T22:27:11.293868Z"
    }
   },
   "outputs": [],
   "source": [
    "write_answer(6, a6)"
   ]
  },
  {
   "cell_type": "markdown",
   "metadata": {},
   "source": [
    "# Task 2"
   ]
  },
  {
   "cell_type": "markdown",
   "metadata": {
    "ExecuteTime": {
     "end_time": "2020-03-16T22:51:11.432305Z",
     "start_time": "2020-03-16T22:51:11.421961Z"
    }
   },
   "source": [
    "## mean and std"
   ]
  },
  {
   "cell_type": "markdown",
   "metadata": {},
   "source": [
    "Здесь и далее оценка качества будет выполняться с помощью cross_val_score с cv=5 и остальными параметрами по умолчанию. Оцените среднее качество ( .mean() ) и стандартное отклонение ( .std() ) по fold'ам для: а) pipeline из CountVectorizer() и LogisticRegression(), б) pipeline из TfidfVectorizer() и LogisticRegression(). В соответствующем пункте задания выпишите через пробел среднее в п. а, отклонение в п. а, среднее в п.б и отклонение в п. б"
   ]
  },
  {
   "cell_type": "code",
   "execution_count": 51,
   "metadata": {
    "ExecuteTime": {
     "end_time": "2020-03-16T22:46:51.258361Z",
     "start_time": "2020-03-16T22:46:51.250590Z"
    }
   },
   "outputs": [],
   "source": [
    "pa = Pipeline(steps = [('count', CountVectorizer()), ('classify', LogisticRegression())])\n",
    "pb = Pipeline(steps = [('tfidf', TfidfVectorizer()), ('classify', LogisticRegression())])"
   ]
  },
  {
   "cell_type": "code",
   "execution_count": 52,
   "metadata": {
    "ExecuteTime": {
     "end_time": "2020-03-16T22:47:45.046844Z",
     "start_time": "2020-03-16T22:46:52.211218Z"
    }
   },
   "outputs": [],
   "source": [
    "score_a = cross_val_score(pa, f, y , cv = 5)\n",
    "score_b = cross_val_score(pb, f, y , cv = 5)"
   ]
  },
  {
   "cell_type": "code",
   "execution_count": 91,
   "metadata": {
    "ExecuteTime": {
     "end_time": "2020-03-16T23:25:11.750559Z",
     "start_time": "2020-03-16T23:25:00.146432Z"
    }
   },
   "outputs": [
    {
     "data": {
      "text/plain": [
       "(0.8424999999999999, 0.021794494717703363)"
      ]
     },
     "execution_count": 91,
     "metadata": {},
     "output_type": "execute_result"
    }
   ],
   "source": [
    "a2_1_1 = mean_std(pa)\n",
    "a2_1_1"
   ]
  },
  {
   "cell_type": "code",
   "execution_count": 92,
   "metadata": {
    "ExecuteTime": {
     "end_time": "2020-03-16T23:25:26.772251Z",
     "start_time": "2020-03-16T23:25:19.476319Z"
    }
   },
   "outputs": [
    {
     "data": {
      "text/plain": [
       "(0.8205, 0.003999999999999995)"
      ]
     },
     "execution_count": 92,
     "metadata": {},
     "output_type": "execute_result"
    }
   ],
   "source": [
    "a2_1_2 = mean_std(pb)\n",
    "a2_1_2"
   ]
  },
  {
   "cell_type": "code",
   "execution_count": 98,
   "metadata": {
    "ExecuteTime": {
     "end_time": "2020-03-16T23:28:29.945210Z",
     "start_time": "2020-03-16T23:28:29.939159Z"
    }
   },
   "outputs": [
    {
     "data": {
      "text/plain": [
       "[None, None]"
      ]
     },
     "execution_count": 98,
     "metadata": {},
     "output_type": "execute_result"
    }
   ],
   "source": [
    "a2_1 = []\n",
    "[ a2_1.extend(x) for x in [a2_1_1, a2_1_2]]"
   ]
  },
  {
   "cell_type": "code",
   "execution_count": 100,
   "metadata": {
    "ExecuteTime": {
     "end_time": "2020-03-16T23:29:11.463565Z",
     "start_time": "2020-03-16T23:29:11.459086Z"
    }
   },
   "outputs": [
    {
     "data": {
      "text/plain": [
       "'0.8424999999999999 0.021794494717703363 0.8205 0.003999999999999995'"
      ]
     },
     "execution_count": 100,
     "metadata": {},
     "output_type": "execute_result"
    }
   ],
   "source": [
    "a2_1 = \" \".join(map(str, a2_1))\n",
    "a2_1"
   ]
  },
  {
   "cell_type": "code",
   "execution_count": 101,
   "metadata": {
    "ExecuteTime": {
     "end_time": "2020-03-16T23:29:41.677068Z",
     "start_time": "2020-03-16T23:29:41.673847Z"
    }
   },
   "outputs": [],
   "source": [
    "write_answer('2_1', a2_1)"
   ]
  },
  {
   "cell_type": "markdown",
   "metadata": {},
   "source": [
    "## min_df"
   ]
  },
  {
   "cell_type": "markdown",
   "metadata": {},
   "source": [
    "Попробуйте задавать разные значения параметра min_df у CountVectorizer. Оцените качество вашего классификатора с min_df=10 и с min_df=50."
   ]
  },
  {
   "cell_type": "code",
   "execution_count": 56,
   "metadata": {
    "ExecuteTime": {
     "end_time": "2020-03-16T22:53:30.055658Z",
     "start_time": "2020-03-16T22:53:30.043855Z"
    }
   },
   "outputs": [],
   "source": [
    "pa10 = Pipeline(steps=[('count', CountVectorizer(\n",
    "    min_df=10)), ('classify', LogisticRegression())])"
   ]
  },
  {
   "cell_type": "code",
   "execution_count": 102,
   "metadata": {
    "ExecuteTime": {
     "end_time": "2020-03-16T23:31:57.313042Z",
     "start_time": "2020-03-16T23:31:48.987630Z"
    }
   },
   "outputs": [
    {
     "data": {
      "text/plain": [
       "(0.841, 0.01319090595827293)"
      ]
     },
     "execution_count": 102,
     "metadata": {},
     "output_type": "execute_result"
    }
   ],
   "source": [
    "a2_2_1 = mean_std(pa10)\n",
    "a2_2_1"
   ]
  },
  {
   "cell_type": "code",
   "execution_count": 59,
   "metadata": {
    "ExecuteTime": {
     "end_time": "2020-03-16T22:55:55.001241Z",
     "start_time": "2020-03-16T22:55:54.993689Z"
    }
   },
   "outputs": [],
   "source": [
    "pa50 = Pipeline(steps=[('count', CountVectorizer(\n",
    "    min_df=50)), ('classify', LogisticRegression())])"
   ]
  },
  {
   "cell_type": "code",
   "execution_count": 103,
   "metadata": {
    "ExecuteTime": {
     "end_time": "2020-03-16T23:32:12.493976Z",
     "start_time": "2020-03-16T23:32:05.329906Z"
    }
   },
   "outputs": [
    {
     "data": {
      "text/plain": [
       "(0.8155000000000001, 0.013638181696985824)"
      ]
     },
     "execution_count": 103,
     "metadata": {},
     "output_type": "execute_result"
    }
   ],
   "source": [
    "a2_2_2 = mean_std(pa50)\n",
    "a2_2_2 "
   ]
  },
  {
   "cell_type": "code",
   "execution_count": 106,
   "metadata": {
    "ExecuteTime": {
     "end_time": "2020-03-16T23:33:07.189941Z",
     "start_time": "2020-03-16T23:33:07.182510Z"
    }
   },
   "outputs": [
    {
     "data": {
      "text/plain": [
       "'0.841 0.8155000000000001'"
      ]
     },
     "execution_count": 106,
     "metadata": {},
     "output_type": "execute_result"
    }
   ],
   "source": [
    "a2_2 = \" \".join(map(str, [x[0] for x in [a2_2_1, a2_2_2]]))\n",
    "a2_2"
   ]
  },
  {
   "cell_type": "code",
   "execution_count": 107,
   "metadata": {
    "ExecuteTime": {
     "end_time": "2020-03-16T23:33:28.892241Z",
     "start_time": "2020-03-16T23:33:28.888708Z"
    }
   },
   "outputs": [],
   "source": [
    "write_answer('a2_2', a2_2)"
   ]
  },
  {
   "cell_type": "markdown",
   "metadata": {},
   "source": [
    "## Classifiers"
   ]
  },
  {
   "cell_type": "markdown",
   "metadata": {},
   "source": [
    "Попробуйте использовать разные классификаторы после CountVectorizer. И vectorizer, и классификатор берите с параметрами по умолчанию. Сравните результаты для LogisticRegression, LinearSVC и SGDClassifier. Выпишите в ответе на соответствующий вопрос самое худшее качество из получившихся."
   ]
  },
  {
   "cell_type": "code",
   "execution_count": 122,
   "metadata": {
    "ExecuteTime": {
     "end_time": "2020-03-16T23:44:49.783466Z",
     "start_time": "2020-03-16T23:44:49.779424Z"
    }
   },
   "outputs": [],
   "source": [
    "pa = Pipeline(steps=[('count',\n",
    "                      CountVectorizer()), ('classify', LogisticRegression())])"
   ]
  },
  {
   "cell_type": "code",
   "execution_count": 123,
   "metadata": {
    "ExecuteTime": {
     "end_time": "2020-03-16T23:44:52.905542Z",
     "start_time": "2020-03-16T23:44:52.902098Z"
    }
   },
   "outputs": [],
   "source": [
    "pc = Pipeline(steps=[('count',\n",
    "                      CountVectorizer()), ('classify', LinearSVC())])"
   ]
  },
  {
   "cell_type": "code",
   "execution_count": 128,
   "metadata": {
    "ExecuteTime": {
     "end_time": "2020-03-16T23:48:04.662023Z",
     "start_time": "2020-03-16T23:48:04.658303Z"
    }
   },
   "outputs": [],
   "source": [
    "pd = Pipeline(\n",
    "    steps=[('count',\n",
    "            CountVectorizer()), ('classify', SGDClassifier(random_state=0))])"
   ]
  },
  {
   "cell_type": "code",
   "execution_count": 67,
   "metadata": {
    "ExecuteTime": {
     "end_time": "2020-03-16T23:03:30.154218Z",
     "start_time": "2020-03-16T23:02:50.029660Z"
    }
   },
   "outputs": [
    {
     "data": {
      "text/plain": [
       "(0.8424999999999999, 0.021794494717703363)"
      ]
     },
     "execution_count": 67,
     "metadata": {},
     "output_type": "execute_result"
    }
   ],
   "source": [
    "mean_std(pa)"
   ]
  },
  {
   "cell_type": "code",
   "execution_count": 68,
   "metadata": {
    "ExecuteTime": {
     "end_time": "2020-03-16T23:04:04.108371Z",
     "start_time": "2020-03-16T23:03:30.159642Z"
    }
   },
   "outputs": [
    {
     "data": {
      "text/plain": [
       "(0.8325000000000001, 0.0162788205960997)"
      ]
     },
     "execution_count": 68,
     "metadata": {},
     "output_type": "execute_result"
    }
   ],
   "source": [
    "mean_std(pc)"
   ]
  },
  {
   "cell_type": "code",
   "execution_count": 129,
   "metadata": {
    "ExecuteTime": {
     "end_time": "2020-03-16T23:48:15.559253Z",
     "start_time": "2020-03-16T23:48:09.285952Z"
    }
   },
   "outputs": [
    {
     "data": {
      "text/plain": [
       "(0.8300000000000001, 0.017464249196573002)"
      ]
     },
     "execution_count": 129,
     "metadata": {},
     "output_type": "execute_result"
    }
   ],
   "source": [
    "mean_std(pd)"
   ]
  },
  {
   "cell_type": "code",
   "execution_count": 130,
   "metadata": {
    "ExecuteTime": {
     "end_time": "2020-03-16T23:48:35.027623Z",
     "start_time": "2020-03-16T23:48:28.693961Z"
    }
   },
   "outputs": [],
   "source": [
    "a2_3 = mean_std(pd)[0]"
   ]
  },
  {
   "cell_type": "code",
   "execution_count": 131,
   "metadata": {
    "ExecuteTime": {
     "end_time": "2020-03-16T23:48:35.716220Z",
     "start_time": "2020-03-16T23:48:35.710999Z"
    }
   },
   "outputs": [
    {
     "data": {
      "text/plain": [
       "0.8300000000000001"
      ]
     },
     "execution_count": 131,
     "metadata": {},
     "output_type": "execute_result"
    }
   ],
   "source": [
    "a2_3"
   ]
  },
  {
   "cell_type": "code",
   "execution_count": 132,
   "metadata": {
    "ExecuteTime": {
     "end_time": "2020-03-16T23:48:37.743453Z",
     "start_time": "2020-03-16T23:48:37.740032Z"
    }
   },
   "outputs": [],
   "source": [
    "write_answer('2_3', a2_3)"
   ]
  },
  {
   "cell_type": "code",
   "execution_count": 12,
   "metadata": {
    "ExecuteTime": {
     "end_time": "2020-03-17T00:36:16.365203Z",
     "start_time": "2020-03-17T00:36:16.362334Z"
    }
   },
   "outputs": [],
   "source": [
    "from multiprocessing import Pool"
   ]
  },
  {
   "cell_type": "code",
   "execution_count": 40,
   "metadata": {
    "ExecuteTime": {
     "end_time": "2020-03-17T00:37:51.838843Z",
     "start_time": "2020-03-17T00:37:51.833139Z"
    }
   },
   "outputs": [],
   "source": [
    "def mean_std(estimator):\n",
    "    scores = cross_val_score(estimator, f, y, cv=5)\n",
    "    return np.mean(scores), np.std(scores)"
   ]
  },
  {
   "cell_type": "code",
   "execution_count": 45,
   "metadata": {
    "ExecuteTime": {
     "end_time": "2020-03-17T00:46:42.553379Z",
     "start_time": "2020-03-17T00:46:42.548819Z"
    }
   },
   "outputs": [],
   "source": [
    "def mean_pd(i):\n",
    "    pd = Pipeline(\n",
    "        steps=[('count',\n",
    "                CountVectorizer()), ('classify',\n",
    "                                     SGDClassifier(random_state=i))])\n",
    "    r = mean_std(pd)[0]\n",
    "    return (r, i)"
   ]
  },
  {
   "cell_type": "code",
   "execution_count": 44,
   "metadata": {
    "ExecuteTime": {
     "end_time": "2020-03-17T00:46:02.599745Z",
     "start_time": "2020-03-17T00:39:28.121099Z"
    },
    "collapsed": true,
    "jupyter": {
     "outputs_hidden": true
    }
   },
   "outputs": [
    {
     "data": {
      "application/vnd.jupyter.widget-view+json": {
       "model_id": "e29986157c5343329133a77adfceae56",
       "version_major": 2,
       "version_minor": 0
      },
      "text/plain": [
       "HBox(children=(FloatProgress(value=0.0, max=200.0), HTML(value='')))"
      ]
     },
     "metadata": {},
     "output_type": "display_data"
    },
    {
     "name": "stdout",
     "output_type": "stream",
     "text": [
      "\n"
     ]
    },
    {
     "data": {
      "text/plain": [
       "[0.78,\n",
       " 0.8135000000000001,\n",
       " 0.8154999999999999,\n",
       " 0.8195,\n",
       " 0.82,\n",
       " 0.8220000000000001,\n",
       " 0.8225000000000001,\n",
       " 0.8230000000000001,\n",
       " 0.8234999999999999,\n",
       " 0.8234999999999999,\n",
       " 0.8234999999999999,\n",
       " 0.8240000000000001,\n",
       " 0.8255000000000001,\n",
       " 0.826,\n",
       " 0.8260000000000002,\n",
       " 0.8265,\n",
       " 0.827,\n",
       " 0.827,\n",
       " 0.8274999999999999,\n",
       " 0.8275,\n",
       " 0.8275,\n",
       " 0.8275,\n",
       " 0.828,\n",
       " 0.8285,\n",
       " 0.8285,\n",
       " 0.8285,\n",
       " 0.829,\n",
       " 0.829,\n",
       " 0.829,\n",
       " 0.829,\n",
       " 0.829,\n",
       " 0.829,\n",
       " 0.829,\n",
       " 0.8290000000000001,\n",
       " 0.8290000000000001,\n",
       " 0.8295,\n",
       " 0.8295,\n",
       " 0.8295,\n",
       " 0.8299999999999998,\n",
       " 0.8300000000000001,\n",
       " 0.8300000000000001,\n",
       " 0.8300000000000001,\n",
       " 0.8305,\n",
       " 0.8305,\n",
       " 0.8305,\n",
       " 0.8305,\n",
       " 0.8305,\n",
       " 0.8305,\n",
       " 0.8305,\n",
       " 0.8305,\n",
       " 0.8305,\n",
       " 0.8309999999999998,\n",
       " 0.8309999999999998,\n",
       " 0.8310000000000001,\n",
       " 0.8310000000000001,\n",
       " 0.8310000000000001,\n",
       " 0.8310000000000001,\n",
       " 0.8310000000000001,\n",
       " 0.8310000000000001,\n",
       " 0.8310000000000001,\n",
       " 0.8314999999999999,\n",
       " 0.8314999999999999,\n",
       " 0.8314999999999999,\n",
       " 0.8314999999999999,\n",
       " 0.8315000000000001,\n",
       " 0.8320000000000001,\n",
       " 0.8320000000000001,\n",
       " 0.8320000000000001,\n",
       " 0.8320000000000001,\n",
       " 0.8320000000000001,\n",
       " 0.8320000000000001,\n",
       " 0.8320000000000001,\n",
       " 0.8320000000000001,\n",
       " 0.8320000000000001,\n",
       " 0.8324999999999999,\n",
       " 0.8324999999999999,\n",
       " 0.8324999999999999,\n",
       " 0.8325000000000001,\n",
       " 0.8329999999999999,\n",
       " 0.833,\n",
       " 0.833,\n",
       " 0.833,\n",
       " 0.833,\n",
       " 0.833,\n",
       " 0.833,\n",
       " 0.833,\n",
       " 0.833,\n",
       " 0.8334999999999999,\n",
       " 0.8334999999999999,\n",
       " 0.8334999999999999,\n",
       " 0.8334999999999999,\n",
       " 0.8335000000000001,\n",
       " 0.8335000000000001,\n",
       " 0.8335000000000001,\n",
       " 0.8335000000000001,\n",
       " 0.8335000000000001,\n",
       " 0.834,\n",
       " 0.834,\n",
       " 0.834,\n",
       " 0.834,\n",
       " 0.834,\n",
       " 0.834,\n",
       " 0.834,\n",
       " 0.834,\n",
       " 0.834,\n",
       " 0.834,\n",
       " 0.834,\n",
       " 0.8344999999999999,\n",
       " 0.8344999999999999,\n",
       " 0.8344999999999999,\n",
       " 0.8345,\n",
       " 0.835,\n",
       " 0.835,\n",
       " 0.835,\n",
       " 0.835,\n",
       " 0.835,\n",
       " 0.835,\n",
       " 0.8350000000000002,\n",
       " 0.8355,\n",
       " 0.8355,\n",
       " 0.8355,\n",
       " 0.8355,\n",
       " 0.8355,\n",
       " 0.8355,\n",
       " 0.8355,\n",
       " 0.8355,\n",
       " 0.8355,\n",
       " 0.836,\n",
       " 0.836,\n",
       " 0.836,\n",
       " 0.836,\n",
       " 0.836,\n",
       " 0.836,\n",
       " 0.836,\n",
       " 0.836,\n",
       " 0.836,\n",
       " 0.836,\n",
       " 0.836,\n",
       " 0.836,\n",
       " 0.836,\n",
       " 0.836,\n",
       " 0.836,\n",
       " 0.8365,\n",
       " 0.8365,\n",
       " 0.8365,\n",
       " 0.8365,\n",
       " 0.8365,\n",
       " 0.8365,\n",
       " 0.8365,\n",
       " 0.8365,\n",
       " 0.8365,\n",
       " 0.8365,\n",
       " 0.8365,\n",
       " 0.8365,\n",
       " 0.837,\n",
       " 0.837,\n",
       " 0.837,\n",
       " 0.837,\n",
       " 0.8370000000000001,\n",
       " 0.8370000000000001,\n",
       " 0.8370000000000001,\n",
       " 0.8370000000000001,\n",
       " 0.8375,\n",
       " 0.8375,\n",
       " 0.8375,\n",
       " 0.8375,\n",
       " 0.8379999999999999,\n",
       " 0.8379999999999999,\n",
       " 0.8379999999999999,\n",
       " 0.8380000000000001,\n",
       " 0.8385,\n",
       " 0.8385,\n",
       " 0.8385000000000001,\n",
       " 0.8389999999999999,\n",
       " 0.8389999999999999,\n",
       " 0.8389999999999999,\n",
       " 0.8390000000000001,\n",
       " 0.8394999999999999,\n",
       " 0.8394999999999999,\n",
       " 0.8394999999999999,\n",
       " 0.8394999999999999,\n",
       " 0.8394999999999999,\n",
       " 0.8395000000000001,\n",
       " 0.8399999999999999,\n",
       " 0.8399999999999999,\n",
       " 0.8400000000000001,\n",
       " 0.8404999999999999,\n",
       " 0.8404999999999999,\n",
       " 0.841,\n",
       " 0.8414999999999999,\n",
       " 0.8414999999999999,\n",
       " 0.842,\n",
       " 0.842,\n",
       " 0.8424999999999999,\n",
       " 0.8425,\n",
       " 0.8425,\n",
       " 0.843,\n",
       " 0.843,\n",
       " 0.844,\n",
       " 0.845]"
      ]
     },
     "execution_count": 44,
     "metadata": {},
     "output_type": "execute_result"
    }
   ],
   "source": [
    "from tqdm.contrib.concurrent import process_map\n",
    "\n",
    "a = process_map(mean_pd, range(0, 200), max_workers=8)\n"
   ]
  },
  {
   "cell_type": "code",
   "execution_count": 47,
   "metadata": {
    "ExecuteTime": {
     "end_time": "2020-03-17T00:47:37.539962Z",
     "start_time": "2020-03-17T00:47:37.534848Z"
    }
   },
   "outputs": [
    {
     "data": {
      "text/plain": [
       "[0.78, 0.8135000000000001, 0.8154999999999999, 0.8195, 0.82]"
      ]
     },
     "execution_count": 47,
     "metadata": {},
     "output_type": "execute_result"
    }
   ],
   "source": [
    "sorted(a)[:5]"
   ]
  },
  {
   "cell_type": "code",
   "execution_count": 46,
   "metadata": {
    "ExecuteTime": {
     "end_time": "2020-03-17T00:47:15.123059Z",
     "start_time": "2020-03-17T00:47:15.117600Z"
    }
   },
   "outputs": [],
   "source": [
    "write_answer('2_3', '0.78')"
   ]
  },
  {
   "cell_type": "markdown",
   "metadata": {
    "ExecuteTime": {
     "end_time": "2020-03-16T23:05:44.268415Z",
     "start_time": "2020-03-16T23:05:44.262485Z"
    }
   },
   "source": [
    "## stops"
   ]
  },
  {
   "cell_type": "code",
   "execution_count": 75,
   "metadata": {
    "ExecuteTime": {
     "end_time": "2020-03-16T23:06:14.298077Z",
     "start_time": "2020-03-16T23:06:14.293132Z"
    }
   },
   "outputs": [],
   "source": [
    "import nltk"
   ]
  },
  {
   "cell_type": "code",
   "execution_count": 76,
   "metadata": {
    "ExecuteTime": {
     "end_time": "2020-03-16T23:06:17.019775Z",
     "start_time": "2020-03-16T23:06:17.006863Z"
    }
   },
   "outputs": [],
   "source": [
    "stops = nltk.corpus.stopwords.words('english')"
   ]
  },
  {
   "cell_type": "code",
   "execution_count": 77,
   "metadata": {
    "ExecuteTime": {
     "end_time": "2020-03-16T23:06:26.758921Z",
     "start_time": "2020-03-16T23:06:26.750169Z"
    }
   },
   "outputs": [
    {
     "data": {
      "text/plain": [
       "['i', 'me', 'my', 'myself', 'we', 'our', 'ours', 'ourselves', 'you', \"you're\"]"
      ]
     },
     "execution_count": 77,
     "metadata": {},
     "output_type": "execute_result"
    }
   ],
   "source": [
    "stops[:10]"
   ]
  },
  {
   "cell_type": "markdown",
   "metadata": {
    "ExecuteTime": {
     "end_time": "2020-03-16T23:11:06.504024Z",
     "start_time": "2020-03-16T23:11:06.480102Z"
    }
   },
   "source": [
    "### nltk stops"
   ]
  },
  {
   "cell_type": "code",
   "execution_count": 78,
   "metadata": {
    "ExecuteTime": {
     "end_time": "2020-03-16T23:08:30.908875Z",
     "start_time": "2020-03-16T23:08:30.902346Z"
    }
   },
   "outputs": [],
   "source": [
    "pas = Pipeline(steps=[('count',\n",
    "                       CountVectorizer(stop_words=stops)), ('classify', LogisticRegression())])"
   ]
  },
  {
   "cell_type": "code",
   "execution_count": 112,
   "metadata": {
    "ExecuteTime": {
     "end_time": "2020-03-16T23:35:54.889476Z",
     "start_time": "2020-03-16T23:35:44.714722Z"
    }
   },
   "outputs": [
    {
     "data": {
      "text/plain": [
       "0.8400000000000001"
      ]
     },
     "execution_count": 112,
     "metadata": {},
     "output_type": "execute_result"
    }
   ],
   "source": [
    "a2_4_1 = mean_std(pas)[0]\n",
    "a2_4_1"
   ]
  },
  {
   "cell_type": "markdown",
   "metadata": {},
   "source": [
    "### sklearn stops"
   ]
  },
  {
   "cell_type": "code",
   "execution_count": 80,
   "metadata": {
    "ExecuteTime": {
     "end_time": "2020-03-16T23:10:22.980735Z",
     "start_time": "2020-03-16T23:10:22.975101Z"
    }
   },
   "outputs": [],
   "source": [
    "pas2 = Pipeline(steps=[('count', CountVectorizer(\n",
    "    stop_words='english')), ('classify', LogisticRegression())])"
   ]
  },
  {
   "cell_type": "code",
   "execution_count": 113,
   "metadata": {
    "ExecuteTime": {
     "end_time": "2020-03-16T23:36:13.026488Z",
     "start_time": "2020-03-16T23:36:02.997720Z"
    }
   },
   "outputs": [
    {
     "data": {
      "text/plain": [
       "0.8365"
      ]
     },
     "execution_count": 113,
     "metadata": {},
     "output_type": "execute_result"
    }
   ],
   "source": [
    "a2_4_2 = mean_std(pas2)[0]\n",
    "a2_4_2"
   ]
  },
  {
   "cell_type": "code",
   "execution_count": 114,
   "metadata": {
    "ExecuteTime": {
     "end_time": "2020-03-16T23:36:44.522802Z",
     "start_time": "2020-03-16T23:36:44.516861Z"
    }
   },
   "outputs": [
    {
     "data": {
      "text/plain": [
       "'0.8400000000000001 0.8365'"
      ]
     },
     "execution_count": 114,
     "metadata": {},
     "output_type": "execute_result"
    }
   ],
   "source": [
    "a2_4 = ' '.join(map(str,[a2_4_1, a2_4_2]))\n",
    "a2_4"
   ]
  },
  {
   "cell_type": "code",
   "execution_count": 115,
   "metadata": {
    "ExecuteTime": {
     "end_time": "2020-03-16T23:37:09.221343Z",
     "start_time": "2020-03-16T23:37:09.217832Z"
    }
   },
   "outputs": [],
   "source": [
    "write_answer('2_4',a2_4)"
   ]
  },
  {
   "cell_type": "markdown",
   "metadata": {},
   "source": [
    "## Bigrams"
   ]
  },
  {
   "cell_type": "code",
   "execution_count": 83,
   "metadata": {
    "ExecuteTime": {
     "end_time": "2020-03-16T23:12:28.652481Z",
     "start_time": "2020-03-16T23:12:28.646302Z"
    }
   },
   "outputs": [],
   "source": [
    "pab = Pipeline(steps=[('count', CountVectorizer(\n",
    "    ngram_range=(1, 2))), ('classify', LogisticRegression())])"
   ]
  },
  {
   "cell_type": "code",
   "execution_count": 116,
   "metadata": {
    "ExecuteTime": {
     "end_time": "2020-03-16T23:39:25.980961Z",
     "start_time": "2020-03-16T23:38:03.526264Z"
    }
   },
   "outputs": [
    {
     "data": {
      "text/plain": [
       "0.8550000000000001"
      ]
     },
     "execution_count": 116,
     "metadata": {},
     "output_type": "execute_result"
    }
   ],
   "source": [
    "a2_5_1 = mean_std(pab)[0]\n",
    "a2_5_1"
   ]
  },
  {
   "cell_type": "code",
   "execution_count": 89,
   "metadata": {
    "ExecuteTime": {
     "end_time": "2020-03-16T23:19:01.337047Z",
     "start_time": "2020-03-16T23:19:01.323886Z"
    }
   },
   "outputs": [],
   "source": [
    "pac = Pipeline(\n",
    "    steps=[('count', CountVectorizer(ngram_range=(\n",
    "        3, 5), analyzer='char_wb')), ('classify', LogisticRegression())])"
   ]
  },
  {
   "cell_type": "code",
   "execution_count": 118,
   "metadata": {
    "ExecuteTime": {
     "end_time": "2020-03-16T23:41:04.920643Z",
     "start_time": "2020-03-16T23:39:35.711383Z"
    }
   },
   "outputs": [
    {
     "data": {
      "text/plain": [
       "0.825"
      ]
     },
     "execution_count": 118,
     "metadata": {},
     "output_type": "execute_result"
    }
   ],
   "source": [
    "a2_5_2 = mean_std(pac)[0]\n",
    "a2_5_2"
   ]
  },
  {
   "cell_type": "code",
   "execution_count": 120,
   "metadata": {
    "ExecuteTime": {
     "end_time": "2020-03-16T23:41:41.527484Z",
     "start_time": "2020-03-16T23:41:41.521972Z"
    }
   },
   "outputs": [
    {
     "data": {
      "text/plain": [
       "'0.8550000000000001 0.825'"
      ]
     },
     "execution_count": 120,
     "metadata": {},
     "output_type": "execute_result"
    }
   ],
   "source": [
    "a2_5 = ' '.join(map(str, [a2_5_1, a2_5_2]))\n",
    "a2_5"
   ]
  },
  {
   "cell_type": "code",
   "execution_count": 121,
   "metadata": {
    "ExecuteTime": {
     "end_time": "2020-03-16T23:41:44.720368Z",
     "start_time": "2020-03-16T23:41:44.717153Z"
    }
   },
   "outputs": [],
   "source": [
    "write_answer('2_5', a2_5)"
   ]
  },
  {
   "cell_type": "code",
   "execution_count": null,
   "metadata": {},
   "outputs": [],
   "source": []
  }
 ],
 "metadata": {
  "kernelspec": {
   "display_name": "Python 3",
   "language": "python",
   "name": "python3"
  },
  "language_info": {
   "codemirror_mode": {
    "name": "ipython",
    "version": 3
   },
   "file_extension": ".py",
   "mimetype": "text/x-python",
   "name": "python",
   "nbconvert_exporter": "python",
   "pygments_lexer": "ipython3",
   "version": "3.7.7"
  },
  "toc": {
   "base_numbering": 1,
   "nav_menu": {},
   "number_sections": true,
   "sideBar": true,
   "skip_h1_title": false,
   "title_cell": "Table of Contents",
   "title_sidebar": "Contents",
   "toc_cell": false,
   "toc_position": {},
   "toc_section_display": true,
   "toc_window_display": false
  }
 },
 "nbformat": 4,
 "nbformat_minor": 4
}
