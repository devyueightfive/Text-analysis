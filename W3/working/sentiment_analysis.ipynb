{
 "cells": [
  {
   "cell_type": "code",
   "execution_count": 1,
   "metadata": {
    "ExecuteTime": {
     "end_time": "2020-03-18T16:37:16.757462Z",
     "start_time": "2020-03-18T16:37:16.633155Z"
    }
   },
   "outputs": [
    {
     "name": "stdout",
     "output_type": "stream",
     "text": [
      "products_sentiment_sample_submission.csv  products_sentiment_train.tsv\r\n",
      "products_sentiment_test.tsv\r\n"
     ]
    }
   ],
   "source": [
    "!ls ../input/simplesentiment"
   ]
  },
  {
   "cell_type": "code",
   "execution_count": 2,
   "metadata": {
    "ExecuteTime": {
     "end_time": "2020-03-18T16:37:31.989846Z",
     "start_time": "2020-03-18T16:37:30.174102Z"
    }
   },
   "outputs": [],
   "source": [
    "import pandas as pd\n",
    "import numpy as np\n",
    "\n",
    "from sklearn.pipeline import Pipeline\n",
    "from sklearn.linear_model import LogisticRegression , LogisticRegressionCV\n",
    "\n",
    "from sklearn.feature_extraction.text import CountVectorizer, TfidfVectorizer\n",
    "from sklearn.preprocessing import MaxAbsScaler, Binarizer, StandardScaler\n",
    "\n",
    "from sklearn.feature_selection import SelectKBest, chi2\n",
    "\n",
    "from sklearn.model_selection import cross_val_score, GridSearchCV"
   ]
  },
  {
   "cell_type": "code",
   "execution_count": 3,
   "metadata": {
    "ExecuteTime": {
     "end_time": "2020-03-18T16:37:49.069216Z",
     "start_time": "2020-03-18T16:37:49.065046Z"
    }
   },
   "outputs": [],
   "source": [
    "files = ['products_sentiment_train.tsv', 'products_sentiment_test.tsv']\n",
    "\n",
    "PATH_TO_DATA = '../input/simplesentiment/'"
   ]
  },
  {
   "cell_type": "code",
   "execution_count": 4,
   "metadata": {
    "ExecuteTime": {
     "end_time": "2020-03-18T16:37:57.292910Z",
     "start_time": "2020-03-18T16:37:57.266989Z"
    }
   },
   "outputs": [],
   "source": [
    "train =  pd.read_csv(PATH_TO_DATA+files[0], sep = '\\t', header = None, names = ['text', 'target']) \n",
    "test =pd.read_csv(PATH_TO_DATA+files[1], sep = '\\t')"
   ]
  },
  {
   "cell_type": "code",
   "execution_count": 5,
   "metadata": {
    "ExecuteTime": {
     "end_time": "2020-03-18T16:38:07.601885Z",
     "start_time": "2020-03-18T16:38:07.553580Z"
    }
   },
   "outputs": [
    {
     "data": {
      "text/plain": [
       "1    1274\n",
       "0     726\n",
       "Name: target, dtype: int64"
      ]
     },
     "execution_count": 5,
     "metadata": {},
     "output_type": "execute_result"
    }
   ],
   "source": [
    "train.target.value_counts()"
   ]
  },
  {
   "cell_type": "code",
   "execution_count": 8,
   "metadata": {
    "ExecuteTime": {
     "end_time": "2020-03-18T16:39:57.517281Z",
     "start_time": "2020-03-18T16:39:57.512738Z"
    }
   },
   "outputs": [],
   "source": [
    "X = train.text\n",
    "y = train.target"
   ]
  },
  {
   "cell_type": "code",
   "execution_count": 234,
   "metadata": {
    "ExecuteTime": {
     "end_time": "2020-03-18T18:13:26.058241Z",
     "start_time": "2020-03-18T18:13:26.054113Z"
    }
   },
   "outputs": [],
   "source": [
    "def mean_std(estimator, X, y):\n",
    "    scores = cross_val_score(estimator, X, y, cv=5, n_jobs = 4, scoring = 'accuracy')\n",
    "    return np.mean(scores), np.std(scores) , scores"
   ]
  },
  {
   "cell_type": "markdown",
   "metadata": {},
   "source": [
    "# SGDClassifier"
   ]
  },
  {
   "cell_type": "code",
   "execution_count": 11,
   "metadata": {
    "ExecuteTime": {
     "end_time": "2020-03-18T16:40:28.378611Z",
     "start_time": "2020-03-18T16:40:28.372841Z"
    }
   },
   "outputs": [],
   "source": [
    "from sklearn.linear_model import SGDClassifier"
   ]
  },
  {
   "cell_type": "code",
   "execution_count": 105,
   "metadata": {
    "ExecuteTime": {
     "end_time": "2020-03-18T17:17:15.778776Z",
     "start_time": "2020-03-18T17:17:15.760538Z"
    }
   },
   "outputs": [],
   "source": [
    "sgd = Pipeline(steps=[\n",
    "    #     ('vectorizer', CountVectorizer(ngram_range=(1, 4), max_features=60000)),\n",
    "    ('vectorizer',\n",
    "     TfidfVectorizer(ngram_range=(1,\n",
    "                                  4), sublinear_tf=True, max_features=50000)),\n",
    "    #     ('selection', SelectKBest(score_func=chi2, k=50000)),\n",
    "    ('abs_scale', MaxAbsScaler()),\n",
    "    ('classifier',\n",
    "     GridSearchCV(n_jobs=6,\n",
    "                  cv=5,\n",
    "                  scoring='accuracy',\n",
    "                  estimator=SGDClassifier(class_weight='balanced',\n",
    "                                          penalty='l2',\n",
    "                                          n_jobs=-1,\n",
    "                                          random_state=11),\n",
    "                  param_grid={'alpha': np.logspace(-5, -1, 151)}))\n",
    "])"
   ]
  },
  {
   "cell_type": "code",
   "execution_count": 106,
   "metadata": {
    "ExecuteTime": {
     "end_time": "2020-03-18T17:17:20.245758Z",
     "start_time": "2020-03-18T17:17:16.465830Z"
    }
   },
   "outputs": [
    {
     "data": {
      "text/plain": [
       "({'alpha': 0.0034145488738336043}, 0.771)"
      ]
     },
     "execution_count": 106,
     "metadata": {},
     "output_type": "execute_result"
    }
   ],
   "source": [
    "sgd.fit(X,y)\n",
    "sgd['classifier'].best_params_ , sgd['classifier'].best_score_"
   ]
  },
  {
   "cell_type": "code",
   "execution_count": 107,
   "metadata": {
    "ExecuteTime": {
     "end_time": "2020-03-18T17:17:33.990164Z",
     "start_time": "2020-03-18T17:17:20.247751Z"
    }
   },
   "outputs": [
    {
     "name": "stdout",
     "output_type": "stream",
     "text": [
      "CPU times: user 535 ms, sys: 71.7 ms, total: 606 ms\n",
      "Wall time: 13.7 s\n"
     ]
    },
    {
     "data": {
      "text/plain": [
       "(0.7725000000000001,\n",
       " 0.007582875444051565,\n",
       " array([0.7775, 0.785 , 0.7675, 0.7675, 0.765 ]))"
      ]
     },
     "execution_count": 107,
     "metadata": {},
     "output_type": "execute_result"
    }
   ],
   "source": [
    "%%time\n",
    "\n",
    "mean_std(sgd, X, y)"
   ]
  },
  {
   "cell_type": "markdown",
   "metadata": {},
   "source": [
    "# RidgeClassifier"
   ]
  },
  {
   "cell_type": "code",
   "execution_count": 198,
   "metadata": {
    "ExecuteTime": {
     "end_time": "2020-03-18T17:54:44.709762Z",
     "start_time": "2020-03-18T17:54:44.682194Z"
    }
   },
   "outputs": [],
   "source": [
    "from sklearn.linear_model import PassiveAggressiveClassifier\n",
    "\n",
    "pa = Pipeline(\n",
    "    steps=[('vectorizer',\n",
    "            CountVectorizer(ngram_range=(1, 4), max_features=60000)),\n",
    "#            ('vectorizer',\n",
    "#             TfidfVectorizer(\n",
    "#                 ngram_range=(1, 4), sublinear_tf=True, max_features=50000)),\n",
    "           ('abs_scale', MaxAbsScaler()),\n",
    "           ('classifier',\n",
    "            GridSearchCV(n_jobs=4,\n",
    "                         cv=5,\n",
    "                         scoring='accuracy',\n",
    "                         estimator=PassiveAggressiveClassifier(\n",
    "                             n_jobs=4, random_state=1),\n",
    "                         param_grid={'C': np.logspace(-4, -3, 51)}))])"
   ]
  },
  {
   "cell_type": "code",
   "execution_count": 243,
   "metadata": {
    "ExecuteTime": {
     "end_time": "2020-03-18T18:23:40.199422Z",
     "start_time": "2020-03-18T18:23:40.192738Z"
    }
   },
   "outputs": [],
   "source": [
    "pa = Pipeline(steps=[\n",
    "    #     ('vectorizer', CountVectorizer(ngram_range=(1, 4), max_features=60000)),\n",
    "    ('vectorizer',\n",
    "     TfidfVectorizer(ngram_range=(1,\n",
    "                                  4), sublinear_tf=True, max_features=50000)),\n",
    "    ('abs_scale', MaxAbsScaler()),\n",
    "    ('classifier', PassiveAggressiveClassifier(n_jobs=4, random_state=13, C = 5*10**-4))\n",
    "])"
   ]
  },
  {
   "cell_type": "code",
   "execution_count": 244,
   "metadata": {
    "ExecuteTime": {
     "end_time": "2020-03-18T18:23:49.889613Z",
     "start_time": "2020-03-18T18:23:48.058615Z"
    }
   },
   "outputs": [
    {
     "name": "stdout",
     "output_type": "stream",
     "text": [
      "CPU times: user 53.1 ms, sys: 48.8 ms, total: 102 ms\n",
      "Wall time: 1.82 s\n"
     ]
    },
    {
     "data": {
      "text/plain": [
       "(0.7715, 0.00982344135219425, array([0.7725, 0.7675, 0.78  , 0.755 , 0.7825]))"
      ]
     },
     "execution_count": 244,
     "metadata": {},
     "output_type": "execute_result"
    }
   ],
   "source": [
    "%%time\n",
    "\n",
    "mean_std(pa, X, y)"
   ]
  },
  {
   "cell_type": "markdown",
   "metadata": {
    "ExecuteTime": {
     "end_time": "2020-03-18T17:59:27.590821Z",
     "start_time": "2020-03-18T17:59:27.588003Z"
    }
   },
   "source": [
    "# Random"
   ]
  },
  {
   "cell_type": "code",
   "execution_count": 228,
   "metadata": {
    "ExecuteTime": {
     "end_time": "2020-03-18T18:08:48.618544Z",
     "start_time": "2020-03-18T18:08:48.540669Z"
    }
   },
   "outputs": [],
   "source": [
    "from sklearn.ensemble import ExtraTreesClassifier\n",
    "\n",
    "rf = Pipeline(steps=[\n",
    "    ('vectorizer', CountVectorizer(ngram_range=(\n",
    "        1, 4), max_features=50000)), ('abs_scale', MaxAbsScaler()),\n",
    "    ('classifier',\n",
    "     RandomForestClassifier(\n",
    "         n_jobs=4, random_state=1, n_estimators=4000, class_weight='balanced'))\n",
    "])\n",
    "\n",
    "%%time\n",
    "\n",
    "mean_std(rf, X, y)"
   ]
  },
  {
   "cell_type": "code",
   "execution_count": null,
   "metadata": {},
   "outputs": [],
   "source": []
  }
 ],
 "metadata": {
  "kernelspec": {
   "display_name": "Python 3",
   "language": "python",
   "name": "python3"
  },
  "language_info": {
   "codemirror_mode": {
    "name": "ipython",
    "version": 3
   },
   "file_extension": ".py",
   "mimetype": "text/x-python",
   "name": "python",
   "nbconvert_exporter": "python",
   "pygments_lexer": "ipython3",
   "version": "3.7.6"
  },
  "notify_time": "5",
  "toc": {
   "base_numbering": 1,
   "nav_menu": {},
   "number_sections": true,
   "sideBar": true,
   "skip_h1_title": false,
   "title_cell": "Table of Contents",
   "title_sidebar": "Contents",
   "toc_cell": false,
   "toc_position": {},
   "toc_section_display": true,
   "toc_window_display": false
  }
 },
 "nbformat": 4,
 "nbformat_minor": 2
}
